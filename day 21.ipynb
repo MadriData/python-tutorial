{
 "cells": [
  {
   "cell_type": "code",
   "execution_count": null,
   "id": "c067fb7d-854e-47b7-a8a2-365b825946c3",
   "metadata": {},
   "outputs": [],
   "source": [
    "#argument function\n",
    "#syntax\n",
    "#def function name(arg1,ar2..):   #definition\n",
    "#function name(arg1,arg2)"
   ]
  },
  {
   "cell_type": "code",
   "execution_count": 2,
   "id": "f656c853-c6a2-4028-b1e0-06b3a800ae55",
   "metadata": {},
   "outputs": [
    {
     "name": "stdout",
     "output_type": "stream",
     "text": [
      "the sum is  35\n"
     ]
    }
   ],
   "source": [
    "def addition(a,b):\n",
    "    c=a+b\n",
    "    print(\"the sum is \",c)\n",
    "addition(12,23)"
   ]
  },
  {
   "cell_type": "code",
   "execution_count": 3,
   "id": "0e9e01ae-ac4f-458e-82b5-39f03d21636a",
   "metadata": {},
   "outputs": [
    {
     "name": "stdout",
     "output_type": "stream",
     "text": [
      "odd number\n"
     ]
    }
   ],
   "source": [
    "def check(n):\n",
    "    if n%2==0:\n",
    "        print(\"even number\")\n",
    "    else:\n",
    "        print(\"odd number\")\n",
    "check(89)"
   ]
  },
  {
   "cell_type": "code",
   "execution_count": 4,
   "id": "6c3003be-70fc-4f47-9ad1-eedaaf12c0ce",
   "metadata": {},
   "outputs": [
    {
     "name": "stdout",
     "output_type": "stream",
     "text": [
      "b is greatest\n"
     ]
    }
   ],
   "source": [
    "def largest(a,b,c):\n",
    "    if a>b:\n",
    "        if a>c:\n",
    "            print(\"a is greatest\")\n",
    "        else:\n",
    "            print(\"c is greatest\")\n",
    "    else:\n",
    "        if b>c:\n",
    "            print(\"b is greatest\")\n",
    "        else:\n",
    "            print(\"c is greatest\")\n",
    "largest(23,43,12)"
   ]
  },
  {
   "cell_type": "code",
   "execution_count": 5,
   "id": "eb3715d4-2fa9-48e1-b75a-7b2d06ded366",
   "metadata": {},
   "outputs": [
    {
     "name": "stdout",
     "output_type": "stream",
     "text": [
      "the factorial is 720\n"
     ]
    }
   ],
   "source": [
    "def factorial(n):\n",
    "    f=1\n",
    "    for i in range(1,n+1):\n",
    "        f=f*i\n",
    "    print(\"the factorial is\",f)\n",
    "factorial(6)"
   ]
  },
  {
   "cell_type": "code",
   "execution_count": 7,
   "id": "bb7900c6-8ecf-4b89-9316-f4bc6961153d",
   "metadata": {},
   "outputs": [
    {
     "name": "stdout",
     "output_type": "stream",
     "text": [
      "the reverse is 543\n"
     ]
    }
   ],
   "source": [
    "def reverse(n):\n",
    "    rev=0\n",
    "    while n>0:\n",
    "        rev=rev*10+n%10\n",
    "        n=n//10\n",
    "    print(\"the reverse is\", rev)\n",
    "reverse(345)"
   ]
  },
  {
   "cell_type": "code",
   "execution_count": 9,
   "id": "548467b5-cc89-4435-aad8-e294709348af",
   "metadata": {},
   "outputs": [
    {
     "name": "stdout",
     "output_type": "stream",
     "text": [
      "not prime nuber\n"
     ]
    }
   ],
   "source": [
    "def prime(n):\n",
    "    co=0\n",
    "    for i in range(1,n+1):\n",
    "        if n%1==0:\n",
    "            co=co+1\n",
    "    if co==2:\n",
    "        print(\"prime number\")\n",
    "    else:\n",
    "        print(\"not prime nuber\")\n",
    "\n",
    "prime(23)"
   ]
  },
  {
   "cell_type": "code",
   "execution_count": null,
   "id": "e62a15bd-59c8-4f2b-b91a-bb87343a9862",
   "metadata": {},
   "outputs": [],
   "source": [
    "#return type function\n",
    "#def funtion name(arg 1, arg 2):\n",
    "#return value\\values\n",
    "#var=function name(arg 1,arg 2)\n",
    "#print(var)\n",
    "#print (function name(arg1,arg2))"
   ]
  },
  {
   "cell_type": "code",
   "execution_count": 13,
   "id": "c881c81a-f539-4dae-99ce-7f6ec7c23fdc",
   "metadata": {},
   "outputs": [
    {
     "name": "stdout",
     "output_type": "stream",
     "text": [
      "101\n",
      "the sum is  627\n"
     ]
    }
   ],
   "source": [
    "def addition (a,b):\n",
    "    return a+b\n",
    "c=addition(45,56)\n",
    "print(c)\n",
    "print (\"the sum is \",addition(67,560))"
   ]
  },
  {
   "cell_type": "code",
   "execution_count": 14,
   "id": "a14090fe-d6e8-441f-adee-a0c2d60b5a24",
   "metadata": {},
   "outputs": [
    {
     "name": "stdout",
     "output_type": "stream",
     "text": [
      "(46, 22, 408, 2.8333333333333335, 10)\n",
      "<class 'tuple'>\n"
     ]
    }
   ],
   "source": [
    "def mathop(a,b):\n",
    "    return a+b,a-b,a*b,a/b,a%b\n",
    "res=mathop(34,12)\n",
    "print(res)\n",
    "print(type(res))"
   ]
  },
  {
   "cell_type": "code",
   "execution_count": 28,
   "id": "acf56dc8-b924-43b3-b4c6-823c61b5c006",
   "metadata": {},
   "outputs": [
    {
     "name": "stdout",
     "output_type": "stream",
     "text": [
      "add 46\n",
      "sub 22\n",
      "div 408\n",
      "pro 2.8333333333333335\n"
     ]
    }
   ],
   "source": [
    "def mathop(a,b):\n",
    "    return a+b,a-b,a*b,a/b\n",
    "x,y,z,w=mathop(34,12)\n",
    "print(\"add\",x)\n",
    "print(\"sub\",y)\n",
    "print(\"div\",z)\n",
    "print(\"pro\",w)\n"
   ]
  },
  {
   "cell_type": "code",
   "execution_count": 18,
   "id": "770ebfaa-3c4a-4fd6-a042-67931610c0c6",
   "metadata": {},
   "outputs": [
    {
     "name": "stdout",
     "output_type": "stream",
     "text": [
      "odd number\n"
     ]
    }
   ],
   "source": [
    "def check(n):\n",
    "    if n%2==0:\n",
    "        return\"even\"\n",
    "    else:\n",
    "        return \"odd\"\n",
    "print(check(87))"
   ]
  },
  {
   "cell_type": "code",
   "execution_count": 25,
   "id": "3f01cd09-8527-449e-9ee7-2b3afa0e3f3f",
   "metadata": {},
   "outputs": [
    {
     "name": "stdout",
     "output_type": "stream",
     "text": [
      "120\n",
      "the factorial is  720\n"
     ]
    }
   ],
   "source": [
    "def factorial(n):\n",
    "    f=1\n",
    "    for i in range(1,n+1):\n",
    "        f=f*i\n",
    "    return f\n",
    "res=factorial(5)\n",
    "print(res)\n",
    "print(\"the factorial is \",factorial(6))"
   ]
  },
  {
   "cell_type": "code",
   "execution_count": 26,
   "id": "8fe2e160-20f6-4a09-b79e-0975e6b87bf9",
   "metadata": {},
   "outputs": [],
   "source": [
    "#placeholder argument\n",
    "#def sums(a,b=400,=600)\n",
    "#     return a+b+c\n",
    "#print(sums(100))   #1100\n",
    "#print(sums(200,500))#1300\n",
    "#print(sums(12,23,34))#69"
   ]
  },
  {
   "cell_type": "code",
   "execution_count": 35,
   "id": "a2d96b45-b960-4951-be51-419b8ef6cdda",
   "metadata": {},
   "outputs": [
    {
     "data": {
      "text/plain": [
       "'name is charles and gender is male'"
      ]
     },
     "execution_count": 35,
     "metadata": {},
     "output_type": "execute_result"
    }
   ],
   "source": [
    "def hello(a,b):\n",
    "    return(\"name is {} and gender is {}\" .format(a,b))\n",
    "hello(\"charles\",\"male\")\n"
   ]
  },
  {
   "cell_type": "code",
   "execution_count": 36,
   "id": "f9597976-bdac-4878-a67a-1c663a8569f2",
   "metadata": {},
   "outputs": [
    {
     "data": {
      "text/plain": [
       "'my name is eshank and my age is 32 and gender is male'"
      ]
     },
     "execution_count": 36,
     "metadata": {},
     "output_type": "execute_result"
    }
   ],
   "source": [
    "def hello (name,age=32,gender=\"male\"):\n",
    "    return (\"my name is {} and my age is {} and gender is {}\" .format(name,age,gender))\n",
    "hello(\"eshank\")"
   ]
  },
  {
   "cell_type": "code",
   "execution_count": null,
   "id": "4225d200-c4f3-4fd0-bdb6-e062e60325ae",
   "metadata": {},
   "outputs": [],
   "source": []
  }
 ],
 "metadata": {
  "kernelspec": {
   "display_name": "Python 3 (ipykernel)",
   "language": "python",
   "name": "python3"
  },
  "language_info": {
   "codemirror_mode": {
    "name": "ipython",
    "version": 3
   },
   "file_extension": ".py",
   "mimetype": "text/x-python",
   "name": "python",
   "nbconvert_exporter": "python",
   "pygments_lexer": "ipython3",
   "version": "3.11.7"
  }
 },
 "nbformat": 4,
 "nbformat_minor": 5
}
