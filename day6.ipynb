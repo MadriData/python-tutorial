{
 "cells": [
  {
   "cell_type": "code",
   "execution_count": 3,
   "id": "9538b880-1351-43fc-99dd-708c66b3ddcc",
   "metadata": {},
   "outputs": [
    {
     "name": "stdin",
     "output_type": "stream",
     "text": [
      "enter the number 23\n"
     ]
    },
    {
     "name": "stdout",
     "output_type": "stream",
     "text": [
      "the count of factors is 2\n",
      "prime number\n"
     ]
    }
   ],
   "source": [
    "# prime factor\n",
    "i=1\n",
    "n=int(input('enter the number'))\n",
    "co=0\n",
    "while i<=n:\n",
    "    if n%i==0:\n",
    "        co=co+1\n",
    "    i=i+1\n",
    "print('the count of factors is' ,co)\n",
    "if co==2:\n",
    "    print('prime number')\n",
    "else:\n",
    "    print('non prime number')\n",
    "    "
   ]
  },
  {
   "cell_type": "code",
   "execution_count": 5,
   "id": "a6336c32-21a0-4103-a9a6-0e00fa1eb5a5",
   "metadata": {},
   "outputs": [
    {
     "name": "stdin",
     "output_type": "stream",
     "text": [
      "enter the number 6\n"
     ]
    },
    {
     "name": "stdout",
     "output_type": "stream",
     "text": [
      "factorial if 720\n"
     ]
    }
   ],
   "source": [
    "# factorial\n",
    "n=int(input('enter the number'))\n",
    "f=1\n",
    "while n>0:\n",
    "    f=f*n\n",
    "    n=n-1\n",
    "print('factorial if', f)\n",
    "\n",
    "\n",
    "\n",
    "#n=6\n",
    "#f=f*n\n",
    "#n=n-1\n",
    "#f=1*6=6\n",
    "#f=30*4=120\n",
    "#f=120*3=360\n",
    "#f=360*2=720\n",
    "#f=720*1=720\n"
   ]
  },
  {
   "cell_type": "code",
   "execution_count": 6,
   "id": "8e544fc3-8d83-49b1-a4a6-3f8cf25f8f41",
   "metadata": {},
   "outputs": [
    {
     "name": "stdout",
     "output_type": "stream",
     "text": [
      "720\n"
     ]
    }
   ],
   "source": [
    "import math\n",
    "print(math.factorial(6))"
   ]
  },
  {
   "cell_type": "code",
   "execution_count": 9,
   "id": "9a461f42-f4b7-4509-add6-578aa4159524",
   "metadata": {},
   "outputs": [
    {
     "name": "stdin",
     "output_type": "stream",
     "text": [
      "enter the number 6\n"
     ]
    },
    {
     "name": "stdout",
     "output_type": "stream",
     "text": [
      "the factorial is 720\n"
     ]
    }
   ],
   "source": [
    "i=1\n",
    "n=int(input('enter the number'))\n",
    "f=1\n",
    "while i<=n:\n",
    "    f=f*i\n",
    "    i=i+1\n",
    "print('the factorial is',f) "
   ]
  },
  {
   "cell_type": "code",
   "execution_count": 10,
   "id": "dea2a6c1-cb20-4303-8001-6fa1515decda",
   "metadata": {},
   "outputs": [
    {
     "name": "stdin",
     "output_type": "stream",
     "text": [
      "enter the number 8769\n"
     ]
    },
    {
     "name": "stdout",
     "output_type": "stream",
     "text": [
      "the sum of digits is 30\n"
     ]
    }
   ],
   "source": [
    "#sum of digits of a number\n",
    "#8769   8+7+6+9=30\n",
    "n=int(input('enter the number'))\n",
    "s=0\n",
    "while n>0:\n",
    "    rem=n%10\n",
    "    s=s+rem\n",
    "    n=n//10\n",
    "print('the sum of digits is' ,s)\n",
    "\n",
    "#n=8769\n",
    "#rem=n%10\n",
    "#s=s+rem\n",
    "#n=n//10\n",
    "\n",
    "#rem=8769%10----9\n",
    "#s=0+9=9\n",
    "#n=8769//110------876\n",
    "\n",
    "\n",
    "\n",
    "#rem=876%10------6\n",
    "#s=9+6=15\n",
    "#n=876//10----87\n",
    "\n",
    "\n",
    "#rem=87%10----7\n",
    "#s=15+7---22\n",
    "#n=87//10-----8\n",
    "\n",
    "\n",
    "\n",
    "#rem=8%10-----8\n",
    "#s=22+8=30\n",
    "#n=8/10------0"
   ]
  },
  {
   "cell_type": "code",
   "execution_count": 12,
   "id": "e10fd59f-26b7-43cb-97ee-ee391427f989",
   "metadata": {},
   "outputs": [
    {
     "name": "stdin",
     "output_type": "stream",
     "text": [
      "enter the number 8769\n"
     ]
    },
    {
     "name": "stdout",
     "output_type": "stream",
     "text": [
      "the sum of digits is 9678\n"
     ]
    }
   ],
   "source": [
    "#reverse of digits of a number\n",
    "#8769   8769=9678\n",
    "n=int(input('enter the number'))\n",
    "rev=0\n",
    "while n>0:\n",
    "    rem=n%10\n",
    "    rev=rev*10+rem\n",
    "    n=n//10\n",
    "print('the sum of digits is' ,rev)\n",
    "\n",
    "#n=8769\n",
    "#rem=n%10\n",
    "#rev=rev*10+rem\n",
    "#n=n//10\n",
    "\n",
    "#rem=8769%10----9\n",
    "#rev=0*10+9=9\n",
    "#n=8769//110------876\n",
    "\n",
    "\n",
    "\n",
    "#rem=876%10------6\n",
    "#rev=9*10+6=96\n",
    "#n=876//10----87\n",
    "\n",
    "\n",
    "#rem=87%10----7\n",
    "#rev=96*10+7=967\n",
    "#n=87//10-----8\n",
    "\n",
    "\n",
    "\n",
    "#rem=8%10-----8\n",
    "#rev=967*10+8=9678\n",
    "#n=8/10------0"
   ]
  },
  {
   "cell_type": "code",
   "execution_count": 13,
   "id": "1128c8f0-5aa8-4c28-bf06-6938c749c029",
   "metadata": {},
   "outputs": [
    {
     "name": "stdout",
     "output_type": "stream",
     "text": [
      "9678\n"
     ]
    }
   ],
   "source": [
    "n=8769\n",
    "x=str(8769)\n",
    "print(x[::-1])"
   ]
  },
  {
   "cell_type": "code",
   "execution_count": 16,
   "id": "bc1132fc-6940-4a06-b9b6-062ae9279ce4",
   "metadata": {},
   "outputs": [
    {
     "name": "stdin",
     "output_type": "stream",
     "text": [
      "enter the number 121\n"
     ]
    },
    {
     "name": "stdout",
     "output_type": "stream",
     "text": [
      "palindrome number\n"
     ]
    }
   ],
   "source": [
    "#palindrome number\n",
    "#121=121\n",
    "n=int(input('enter the number'))\n",
    "rev=0\n",
    "n1=n\n",
    "while n>0:\n",
    "    rem=n%10\n",
    "    rev=rev*10+rem\n",
    "    n=n//10\n",
    "if rev==n1:\n",
    "    print(\"palindrome number\")\n",
    "else:\n",
    "    print('non palindrome number')"
   ]
  },
  {
   "cell_type": "code",
   "execution_count": null,
   "id": "c7415c10-4748-48c3-a013-fbe245f458e7",
   "metadata": {},
   "outputs": [],
   "source": []
  }
 ],
 "metadata": {
  "kernelspec": {
   "display_name": "Python 3 (ipykernel)",
   "language": "python",
   "name": "python3"
  },
  "language_info": {
   "codemirror_mode": {
    "name": "ipython",
    "version": 3
   },
   "file_extension": ".py",
   "mimetype": "text/x-python",
   "name": "python",
   "nbconvert_exporter": "python",
   "pygments_lexer": "ipython3",
   "version": "3.11.7"
  }
 },
 "nbformat": 4,
 "nbformat_minor": 5
}
