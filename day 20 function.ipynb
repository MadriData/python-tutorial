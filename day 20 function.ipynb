{
 "cells": [
  {
   "cell_type": "code",
   "execution_count": 2,
   "id": "5300bfae-4ae1-452e-932c-19e0a61d77ce",
   "metadata": {},
   "outputs": [
    {
     "data": {
      "text/plain": [
       "'funtion is a short snippet of code\\nthey are following type of function available\\n1-default\\n2-argument\\n3-returnt type\\n4-placeholder'"
      ]
     },
     "execution_count": 2,
     "metadata": {},
     "output_type": "execute_result"
    }
   ],
   "source": [
    "'''funtion is a short snippet of code\n",
    "there are three tyoe of function\n",
    "1- built in function-\n",
    "2-user defined function-\n",
    "3-anonymous function-\n",
    "they are following type of user defined function available\n",
    "1-default\n",
    "2-argument\n",
    "3-return type\n",
    "4-placeholder'''\n"
   ]
  },
  {
   "cell_type": "code",
   "execution_count": 4,
   "id": "bf0ad936-efc0-49b4-8773-6850fe81d5bd",
   "metadata": {},
   "outputs": [],
   "source": [
    "#default function\n",
    "#every function of default function starts with____def\n",
    "#def function name():#function defination \n",
    "#logic/statement\n",
    "\n",
    "#function name()  #calling"
   ]
  },
  {
   "cell_type": "code",
   "execution_count": 5,
   "id": "8af4eb06-f467-4fb2-b561-06782f8f1a87",
   "metadata": {},
   "outputs": [],
   "source": [
    "def addition ():\n",
    "    a=int(input(\"enter the number\"))\n",
    "    b=int(input(\"enter the number\"))\n",
    "    c=a+b\n",
    "    print(\"the sum is\",c)"
   ]
  },
  {
   "cell_type": "code",
   "execution_count": 6,
   "id": "f3e66b1f-1ec7-4c42-b26c-0e4d3b38b98b",
   "metadata": {},
   "outputs": [
    {
     "name": "stdin",
     "output_type": "stream",
     "text": [
      "enter the number 12\n",
      "enter the number 24\n"
     ]
    },
    {
     "name": "stdout",
     "output_type": "stream",
     "text": [
      "the sum is 36\n"
     ]
    }
   ],
   "source": [
    "addition()"
   ]
  },
  {
   "cell_type": "code",
   "execution_count": 7,
   "id": "6a27c3dd-cb0b-4e3d-bb41-e5b29ce70115",
   "metadata": {},
   "outputs": [
    {
     "name": "stdin",
     "output_type": "stream",
     "text": [
      "enter the number 2345\n",
      "enter the number 4546\n"
     ]
    },
    {
     "name": "stdout",
     "output_type": "stream",
     "text": [
      "the sum is 6891\n"
     ]
    }
   ],
   "source": [
    "addition()"
   ]
  },
  {
   "cell_type": "code",
   "execution_count": 12,
   "id": "4239ecb7-82ea-45c5-8a31-e4d9f95150e5",
   "metadata": {},
   "outputs": [
    {
     "name": "stdin",
     "output_type": "stream",
     "text": [
      "enter the number 12\n",
      "enter the number 24\n",
      "enter the number 45\n"
     ]
    },
    {
     "name": "stdout",
     "output_type": "stream",
     "text": [
      "the si if the numbers is 36.45\n"
     ]
    }
   ],
   "source": [
    "#calculate si if the number\n",
    "def si():\n",
    "    a=int(input(\"enter the number\"))\n",
    "    b=int(input(\"enter the number\"))\n",
    "    t=int(input(\"enter the number\"))\n",
    "    c=a+b+t/100\n",
    "    print(\"the si if the numbers is\",c)\n",
    "si()\n"
   ]
  },
  {
   "cell_type": "code",
   "execution_count": 16,
   "id": "60944e4b-87e1-4dd5-9886-df4f3b344839",
   "metadata": {},
   "outputs": [
    {
     "name": "stdin",
     "output_type": "stream",
     "text": [
      "enter the number 2\n",
      "enter the number 345\n",
      "enter the number 4\n"
     ]
    },
    {
     "name": "stdout",
     "output_type": "stream",
     "text": [
      "the avg of the number is 117.0\n"
     ]
    }
   ],
   "source": [
    "#average of the number\n",
    "def avg():\n",
    "    a=int(input(\"enter the number\"))\n",
    "    b=int(input(\"enter the number\"))\n",
    "    c=int(input(\"enter the number\"))\n",
    "    d=(a+b+c)/3\n",
    "    print(\"the avg of the number is\",d)\n",
    "avg()   "
   ]
  },
  {
   "cell_type": "code",
   "execution_count": 18,
   "id": "194bf927-2d0e-4281-a189-7beea7117048",
   "metadata": {},
   "outputs": [
    {
     "name": "stdin",
     "output_type": "stream",
     "text": [
      "enter the number 23\n"
     ]
    },
    {
     "name": "stdout",
     "output_type": "stream",
     "text": [
      "odd number\n"
     ]
    }
   ],
   "source": [
    "def check():\n",
    "    n=int(input(\"enter the number\"))\n",
    "    if n%2==0:\n",
    "        print(\"even number\")\n",
    "    else:\n",
    "        print(\"odd number\")\n",
    "check()"
   ]
  },
  {
   "cell_type": "code",
   "execution_count": 19,
   "id": "2594af44-905c-405a-a07b-63dbe11ab98d",
   "metadata": {},
   "outputs": [
    {
     "name": "stdin",
     "output_type": "stream",
     "text": [
      "enter the number 2434\n"
     ]
    },
    {
     "name": "stdout",
     "output_type": "stream",
     "text": [
      "non leap year\n"
     ]
    }
   ],
   "source": [
    "#leap year\n",
    "def leap():\n",
    "    n=int(input(\"enter the number\"))\n",
    "    if n%4==0:\n",
    "        print(\"leap year\")\n",
    "    else:\n",
    "        print(\"non leap year\")\n",
    "leap()"
   ]
  },
  {
   "cell_type": "code",
   "execution_count": 21,
   "id": "e7638c5a-275c-45b5-81a5-b2cfc8b5efbe",
   "metadata": {},
   "outputs": [
    {
     "name": "stdin",
     "output_type": "stream",
     "text": [
      "enter the number 24\n"
     ]
    },
    {
     "name": "stdout",
     "output_type": "stream",
     "text": [
      "eligible\n"
     ]
    }
   ],
   "source": [
    "#vote eligibiltiy\n",
    "def vote():\n",
    "    n=int(input(\"enter the number\"))\n",
    "    if n>=18:\n",
    "          print(\"eligible\")\n",
    "    else:\n",
    "          print(\"not eligible\")\n",
    "vote()\n",
    "          "
   ]
  },
  {
   "cell_type": "code",
   "execution_count": 24,
   "id": "59090688-b9cf-49e5-ad55-f20062f40f7c",
   "metadata": {},
   "outputs": [
    {
     "name": "stdin",
     "output_type": "stream",
     "text": [
      "enter the number 24\n",
      "enter the number 325\n",
      "enter the number 45\n"
     ]
    },
    {
     "name": "stdout",
     "output_type": "stream",
     "text": [
      "b is greatest\n"
     ]
    }
   ],
   "source": [
    "#greatest in three number\n",
    "def greatest():\n",
    "    a=int(input(\"enter the number\"))\n",
    "    b=int(input(\"enter the number\"))\n",
    "    c=int(input(\"enter the number\"))\n",
    "    if a>b and a>c:\n",
    "        print(\"a is greatest\")\n",
    "    elif b>a and b>c:\n",
    "        print(\"b is greatest\")\n",
    "    else:\n",
    "        print(\"c is greatest\")\n",
    "greatest()"
   ]
  },
  {
   "cell_type": "code",
   "execution_count": 28,
   "id": "5533cfb6-8796-446a-8130-ce0ed07be032",
   "metadata": {},
   "outputs": [
    {
     "name": "stdin",
     "output_type": "stream",
     "text": [
      "enter the number 3\n"
     ]
    },
    {
     "name": "stdout",
     "output_type": "stream",
     "text": [
      "factorial is 6\n"
     ]
    }
   ],
   "source": [
    "#factorial\n",
    "def factorial():\n",
    "    n=int(input(\"enter the number\"))\n",
    "    f=1\n",
    "    for i in range(1,n+1):\n",
    "        f=f*i\n",
    "    print(\"factorial is\",f)\n",
    "factorial()   "
   ]
  },
  {
   "cell_type": "code",
   "execution_count": 32,
   "id": "7209adf2-4861-42f3-97a4-7d9a057103a8",
   "metadata": {},
   "outputs": [
    {
     "name": "stdin",
     "output_type": "stream",
     "text": [
      "enter the number 789\n"
     ]
    },
    {
     "name": "stdout",
     "output_type": "stream",
     "text": [
      "the reverse is 987\n"
     ]
    }
   ],
   "source": [
    "#reverse of the number\n",
    "def reverse():\n",
    "    n=int(input(\"enter the number\"))\n",
    "    rev=0\n",
    "    while n>0:\n",
    "        rem=n%10\n",
    "        rev=rev*10+rem\n",
    "        n=n//10\n",
    "    print(\"the reverse is\",rev)\n",
    "reverse()\n",
    "#n=987\n",
    "#rem=7\n",
    "#rev=0*10+7=7\n",
    "#n=98\n",
    "\n",
    "#rem=8\n",
    "#rev=7*10+8=78\n",
    "#n=9\n",
    "\n",
    "#rem=9\n",
    "#rev=78*10+9=789\n",
    "#n=0"
   ]
  },
  {
   "cell_type": "code",
   "execution_count": 35,
   "id": "be2630db-9bee-4189-9d65-f8cebcb0fbce",
   "metadata": {},
   "outputs": [
    {
     "name": "stdin",
     "output_type": "stream",
     "text": [
      "enter the number 34\n"
     ]
    },
    {
     "name": "stdout",
     "output_type": "stream",
     "text": [
      "not a prime number\n"
     ]
    }
   ],
   "source": [
    "#prime number\n",
    "def prime():\n",
    "    co=0\n",
    "    n=int(input(\"enter the number\"))\n",
    "    for i in range(1,n+1):\n",
    "        if n%i==0:\n",
    "            co=co+1\n",
    "    if co==2:\n",
    "        print(\"primr number\")\n",
    "    else:\n",
    "        print(\"not a prime number\")\n",
    "prime()"
   ]
  },
  {
   "cell_type": "code",
   "execution_count": null,
   "id": "7dfb45dd-edb3-495d-92c8-8ecea566c9c7",
   "metadata": {},
   "outputs": [],
   "source": []
  }
 ],
 "metadata": {
  "kernelspec": {
   "display_name": "Python 3 (ipykernel)",
   "language": "python",
   "name": "python3"
  },
  "language_info": {
   "codemirror_mode": {
    "name": "ipython",
    "version": 3
   },
   "file_extension": ".py",
   "mimetype": "text/x-python",
   "name": "python",
   "nbconvert_exporter": "python",
   "pygments_lexer": "ipython3",
   "version": "3.11.7"
  }
 },
 "nbformat": 4,
 "nbformat_minor": 5
}
