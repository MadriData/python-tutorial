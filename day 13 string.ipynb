{
 "cells": [
  {
   "cell_type": "code",
   "execution_count": 8,
   "id": "e70d6184-ce22-498e-ad66-1bc710ce7d36",
   "metadata": {},
   "outputs": [
    {
     "data": {
      "text/plain": [
       "'This is a string in Python'"
      ]
     },
     "execution_count": 8,
     "metadata": {},
     "output_type": "execute_result"
    }
   ],
   "source": [
    "'''\n",
    "Python - String\n",
    "In Python, string is an immutable sequence data type. It is the sequence of Unicode characters wrapped inside single, double, or triple quotes.\n",
    "\n",
    "'This is a string in Python' # string in single quotes\n",
    "\"This is a string in Python\" # string in double quotes\n",
    "'''#This is a string in Python''' # string in triple quotes\n",
    "\"\"\"This is a string in Python\"\"\" # string in triple double-quotes'''\n"
   ]
  },
  {
   "cell_type": "code",
   "execution_count": 2,
   "id": "572c8b00-9e4a-44d8-93f6-08e9e07c8ea2",
   "metadata": {},
   "outputs": [
    {
     "name": "stdout",
     "output_type": "stream",
     "text": [
      "this is a string in python \n"
     ]
    }
   ],
   "source": [
    "string1='this is a string in python '\n",
    "print(string1)"
   ]
  },
  {
   "cell_type": "code",
   "execution_count": 12,
   "id": "893f9a21-47a8-4380-a0e3-056e74f921e3",
   "metadata": {},
   "outputs": [
    {
     "name": "stdout",
     "output_type": "stream",
     "text": [
      "this is a string in python\n"
     ]
    }
   ],
   "source": [
    "string2=\"this is a string in python\"\n",
    "print(string2)"
   ]
  },
  {
   "cell_type": "code",
   "execution_count": 13,
   "id": "4ff6a5fa-2257-495a-9d62-e0f8a46b4cb5",
   "metadata": {},
   "outputs": [
    {
     "name": "stdout",
     "output_type": "stream",
     "text": [
      "this is the first multi-line string\n"
     ]
    }
   ],
   "source": [
    "string1='''this is the first multi-line string'''\n",
    "print(string1)"
   ]
  },
  {
   "cell_type": "code",
   "execution_count": 15,
   "id": "462f1bb8-6299-45cc-8722-c9c26d5fe785",
   "metadata": {},
   "outputs": [
    {
     "name": "stdout",
     "output_type": "stream",
     "text": [
      "this is the second multi-line string in python \n"
     ]
    }
   ],
   "source": [
    "string2=\"\"\"this is the second multi-line string in python \"\"\"\n",
    "print(string2)"
   ]
  },
  {
   "cell_type": "code",
   "execution_count": 16,
   "id": "ee4381a9-cabd-4e1a-b5d3-a3a6566a687a",
   "metadata": {},
   "outputs": [
    {
     "name": "stdout",
     "output_type": "stream",
     "text": [
      "5\n"
     ]
    }
   ],
   "source": [
    "greet='hello'\n",
    "n=len(greet)\n",
    "print(n)"
   ]
  },
  {
   "cell_type": "code",
   "execution_count": 17,
   "id": "95aff4b2-b36f-4758-b2c3-2a4b84fa5dc6",
   "metadata": {},
   "outputs": [
    {
     "data": {
      "text/plain": [
       "'A sequence is defined as an ordered collection of items. Hence, a string is an ordered collection of characters. The sequence uses an index, starting with zero to fetch a certain item (a character in case of a string) from it.'"
      ]
     },
     "execution_count": 17,
     "metadata": {},
     "output_type": "execute_result"
    }
   ],
   "source": [
    "'''A sequence is defined as an ordered collection of items. Hence, a string is an ordered collection of characters. The sequence uses an index, starting with zero to fetch a certain item (a character in case of a string) from it.'''"
   ]
  },
  {
   "cell_type": "code",
   "execution_count": 18,
   "id": "e891670a-c247-4968-960b-319d5230d220",
   "metadata": {},
   "outputs": [
    {
     "name": "stdout",
     "output_type": "stream",
     "text": [
      "h\n",
      "e\n",
      "l\n",
      "l\n",
      "o\n"
     ]
    }
   ],
   "source": [
    "greet='hello'\n",
    "print(greet[0])\n",
    "print(greet[1])\n",
    "print(greet[2])\n",
    "print(greet[3])\n",
    "print(greet[4])\n"
   ]
  },
  {
   "cell_type": "code",
   "execution_count": 20,
   "id": "19546f00-3b52-4d7f-85ca-d84175436ad0",
   "metadata": {},
   "outputs": [
    {
     "name": "stdout",
     "output_type": "stream",
     "text": [
      "h\n",
      "e\n",
      "l\n",
      "l\n",
      "o\n"
     ]
    }
   ],
   "source": [
    "greet='hello'\n",
    "print(greet[-5])\n",
    "print(greet[-4])\n",
    "print(greet[-3])\n",
    "print(greet[-2])\n",
    "print(greet[-1])"
   ]
  },
  {
   "cell_type": "code",
   "execution_count": 21,
   "id": "4f858375-f1c8-4a73-a937-8798c6a96c11",
   "metadata": {},
   "outputs": [
    {
     "ename": "TypeError",
     "evalue": "'str' object does not support item assignment",
     "output_type": "error",
     "traceback": [
      "\u001b[1;31m---------------------------------------------------------------------------\u001b[0m",
      "\u001b[1;31mTypeError\u001b[0m                                 Traceback (most recent call last)",
      "Cell \u001b[1;32mIn[21], line 2\u001b[0m\n\u001b[0;32m      1\u001b[0m greet\u001b[38;5;241m=\u001b[39m\u001b[38;5;124m'\u001b[39m\u001b[38;5;124mhello\u001b[39m\u001b[38;5;124m'\u001b[39m\n\u001b[1;32m----> 2\u001b[0m greet[\u001b[38;5;241m0\u001b[39m]\u001b[38;5;241m=\u001b[39m\u001b[38;5;124m'\u001b[39m\u001b[38;5;124ma\u001b[39m\u001b[38;5;124m'\u001b[39m\n",
      "\u001b[1;31mTypeError\u001b[0m: 'str' object does not support item assignment"
     ]
    }
   ],
   "source": [
    "greet='hello'\n",
    "greet[0]='a' #because str is an immuatble data type."
   ]
  },
  {
   "cell_type": "code",
   "execution_count": 23,
   "id": "0da14b4b-647c-4a62-a10c-5ebb168e0e51",
   "metadata": {},
   "outputs": [
    {
     "data": {
      "text/plain": [
       "'The string is an immutable object. Hence, it is not possible to modify it. The attempt to assign different characters at a certain index results in errors.\\n'"
      ]
     },
     "execution_count": 23,
     "metadata": {},
     "output_type": "execute_result"
    }
   ],
   "source": [
    "'''The string is an immutable object. Hence, it is not possible to modify it. The attempt to assign different characters at a certain index results in errors.\n",
    "'''"
   ]
  },
  {
   "cell_type": "code",
   "execution_count": 25,
   "id": "d286d751-fa9f-41f1-8c7e-d19f6db3d23a",
   "metadata": {},
   "outputs": [
    {
     "data": {
      "text/plain": [
       "'use the str() funtion to convert a number to a string.'"
      ]
     },
     "execution_count": 25,
     "metadata": {},
     "output_type": "execute_result"
    }
   ],
   "source": [
    "'''use the str() funtion to convert a number to a string.'''"
   ]
  },
  {
   "cell_type": "code",
   "execution_count": 28,
   "id": "4df5199d-e015-444b-9bd5-c3b480a3380c",
   "metadata": {},
   "outputs": [
    {
     "name": "stdout",
     "output_type": "stream",
     "text": [
      "<class 'str'>\n"
     ]
    }
   ],
   "source": [
    "#example:str()\n",
    "s=str(100)\n",
    "print(type(s)) #100"
   ]
  },
  {
   "cell_type": "code",
   "execution_count": 30,
   "id": "cce00a0b-b946-479b-9a1e-48b04768f3f6",
   "metadata": {},
   "outputs": [
    {
     "name": "stdout",
     "output_type": "stream",
     "text": [
      "-10\n"
     ]
    }
   ],
   "source": [
    "s=str(-10)\n",
    "print(s)"
   ]
  },
  {
   "cell_type": "code",
   "execution_count": 33,
   "id": "3c4ed4d4-0760-4154-9919-9c24e1000365",
   "metadata": {},
   "outputs": [
    {
     "name": "stdout",
     "output_type": "stream",
     "text": [
      "True\n"
     ]
    }
   ],
   "source": [
    "s=str(True)\n",
    "print(s)"
   ]
  },
  {
   "cell_type": "code",
   "execution_count": null,
   "id": "cf6f2afe-3e64-44ab-9172-066902575e85",
   "metadata": {},
   "outputs": [],
   "source": []
  },
  {
   "cell_type": "code",
   "execution_count": null,
   "id": "5fabda8f-d46a-4bf0-9407-fdf0c0ddeecf",
   "metadata": {},
   "outputs": [],
   "source": []
  },
  {
   "cell_type": "code",
   "execution_count": null,
   "id": "5910ae28-2ab7-4e98-ac48-d9ba0bedc5ea",
   "metadata": {},
   "outputs": [],
   "source": []
  },
  {
   "cell_type": "code",
   "execution_count": 35,
   "id": "0c0c4849-b831-4482-89bd-9f209f4f52ac",
   "metadata": {},
   "outputs": [
    {
     "name": "stdout",
     "output_type": "stream",
     "text": [
      "new string Hello world\n"
     ]
    }
   ],
   "source": [
    "a='hello world'\n",
    "print('new string' ,a.capitalize())"
   ]
  },
  {
   "cell_type": "code",
   "execution_count": 39,
   "id": "31366393-c790-4322-9f81-a4520adfb9d2",
   "metadata": {
    "scrolled": true
   },
   "outputs": [
    {
     "name": "stdout",
     "output_type": "stream",
     "text": [
      "number of occurence of \"madrid\": 1\n"
     ]
    }
   ],
   "source": [
    "mystr='madrid is best for data science'\n",
    "total=mystr.count('madrid')\n",
    "print('number of occurence of \"madrid\":',total)"
   ]
  },
  {
   "cell_type": "code",
   "execution_count": 43,
   "id": "7db93bad-d46f-4ec0-8bcd-885464d68852",
   "metadata": {},
   "outputs": [
    {
     "name": "stdout",
     "output_type": "stream",
     "text": [
      "True\n",
      "True\n",
      "True\n",
      "True\n",
      "False\n"
     ]
    }
   ],
   "source": [
    "mystr='python is a programming language.'\n",
    "print(mystr.endswith('.')) # returns true\n",
    "print(mystr.endswith('age.')) # returns true\n",
    "print(mystr.endswith('language.')) # returns true\n",
    "print(mystr.endswith('programming language.')) # returns true\n",
    "print(mystr.endswith('age')) # returns false\n"
   ]
  },
  {
   "cell_type": "code",
   "execution_count": 49,
   "id": "31adb2ab-6274-41b7-8e51-4c5fbbc7ceb2",
   "metadata": {},
   "outputs": [
    {
     "name": "stdout",
     "output_type": "stream",
     "text": [
      "index of 'H': 0\n",
      "index of 'h': 0\n",
      "index of 'e': 1\n",
      "index of 'world': 7\n"
     ]
    }
   ],
   "source": [
    "greet ='hellow world'\n",
    "print(\"index of 'H':\",greet.find('h'))\n",
    "print(\"index of 'h':\",greet.find('h'))\n",
    "print(\"index of 'e':\",greet.find('e'))\n",
    "print(\"index of 'world':\",greet.find('world'))"
   ]
  },
  {
   "cell_type": "code",
   "execution_count": null,
   "id": "6daa8722-f21a-4925-81fe-42600b58c39f",
   "metadata": {},
   "outputs": [],
   "source": []
  }
 ],
 "metadata": {
  "kernelspec": {
   "display_name": "Python 3 (ipykernel)",
   "language": "python",
   "name": "python3"
  },
  "language_info": {
   "codemirror_mode": {
    "name": "ipython",
    "version": 3
   },
   "file_extension": ".py",
   "mimetype": "text/x-python",
   "name": "python",
   "nbconvert_exporter": "python",
   "pygments_lexer": "ipython3",
   "version": "3.11.7"
  }
 },
 "nbformat": 4,
 "nbformat_minor": 5
}
