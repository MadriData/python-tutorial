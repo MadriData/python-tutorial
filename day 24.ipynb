{
 "cells": [
  {
   "cell_type": "markdown",
   "id": "0cc8f59a-99b7-4776-8bee-40dd3de2d6fa",
   "metadata": {},
   "source": [
    "# list comprehension"
   ]
  },
  {
   "cell_type": "code",
   "execution_count": 1,
   "id": "c54498be-d64c-4d2d-910e-7aa2f667e05e",
   "metadata": {},
   "outputs": [
    {
     "data": {
      "text/plain": [
       "['mm', 'aa', 'dd', 'rr', 'ii', 'dd']"
      ]
     },
     "execution_count": 1,
     "metadata": {},
     "output_type": "execute_result"
    }
   ],
   "source": [
    "w=[i+i for i in \"madrid\"]\n",
    "w"
   ]
  },
  {
   "cell_type": "code",
   "execution_count": 2,
   "id": "d4af69c8-3f4d-47b7-86a0-bf5e5b6c3ea1",
   "metadata": {},
   "outputs": [
    {
     "data": {
      "text/plain": [
       "'hassanhassanhassan'"
      ]
     },
     "execution_count": 2,
     "metadata": {},
     "output_type": "execute_result"
    }
   ],
   "source": [
    "\"hassan\"*3"
   ]
  },
  {
   "cell_type": "code",
   "execution_count": 3,
   "id": "ec75f9d0-ac40-468f-9c49-8c7bc30ad2f1",
   "metadata": {},
   "outputs": [
    {
     "data": {
      "text/plain": [
       "[1, 4, 9, 16, 25, 36]"
      ]
     },
     "execution_count": 3,
     "metadata": {},
     "output_type": "execute_result"
    }
   ],
   "source": [
    "a=[i*i for i  in [1,2,3,4,5,6]]\n",
    "a"
   ]
  },
  {
   "cell_type": "code",
   "execution_count": 5,
   "id": "0eb3af69-f34e-4a91-9af8-86ef813f5e26",
   "metadata": {},
   "outputs": [
    {
     "data": {
      "text/plain": [
       "[1, 4, 9, 16, 25, 36]"
      ]
     },
     "execution_count": 5,
     "metadata": {},
     "output_type": "execute_result"
    }
   ],
   "source": [
    "res=list(map(lambda x:x*x,[1,2,3,4,5,6]))\n",
    "res"
   ]
  },
  {
   "cell_type": "code",
   "execution_count": 7,
   "id": "6c5573a5-1e9b-4913-bd76-ca13ae12e3bd",
   "metadata": {},
   "outputs": [
    {
     "data": {
      "text/plain": [
       "[3, 6, 9, 12, 15, 18]"
      ]
     },
     "execution_count": 7,
     "metadata": {},
     "output_type": "execute_result"
    }
   ],
   "source": [
    "x=[i*3 for i in [1,2,3,4,5,6]]\n",
    "x"
   ]
  },
  {
   "cell_type": "code",
   "execution_count": 9,
   "id": "82eedd20-0cb9-4df7-86f6-4d52b68d05e6",
   "metadata": {},
   "outputs": [
    {
     "data": {
      "text/plain": [
       "[8, 16, 24, 32]"
      ]
     },
     "execution_count": 9,
     "metadata": {},
     "output_type": "execute_result"
    }
   ],
   "source": [
    "y=[i*4 for i in [2,3,4,5,6,7,8,9] if i%2==0]\n",
    "y"
   ]
  },
  {
   "cell_type": "code",
   "execution_count": 10,
   "id": "acc1e061-6060-497a-acc9-680b806a68df",
   "metadata": {},
   "outputs": [
    {
     "data": {
      "text/plain": [
       "[0, 14, 28, 42, 56, 70, 84, 98]"
      ]
     },
     "execution_count": 10,
     "metadata": {},
     "output_type": "execute_result"
    }
   ],
   "source": [
    "numlist=[y for y in range (100) if y%2==0 if y%7==0]\n",
    "numlist"
   ]
  },
  {
   "cell_type": "markdown",
   "id": "b2ed1377-3c45-479d-81a6-8604b75575a0",
   "metadata": {},
   "source": [
    "# if else with list comprehension"
   ]
  },
  {
   "cell_type": "code",
   "execution_count": 12,
   "id": "7ec3466d-b9a7-4d73-8b7d-cf183187fed0",
   "metadata": {},
   "outputs": [
    {
     "data": {
      "text/plain": [
       "[0, 'good', 2, 'good', 4, 'good', 6, 'good', 8, 'good']"
      ]
     },
     "execution_count": 12,
     "metadata": {},
     "output_type": "execute_result"
    }
   ],
   "source": [
    "obj=[i if i%2==0 else \"good\" for i in range (10)]\n",
    "obj"
   ]
  },
  {
   "cell_type": "code",
   "execution_count": 14,
   "id": "da827867-84bc-4ef3-9661-c449a4d61488",
   "metadata": {},
   "outputs": [
    {
     "data": {
      "text/plain": [
       "[0, 2, 4, 6, 8, 10, 12, 14, 16, 18, 20, 22, 24, 26, 28, 30, 32, 34, 36, 38]"
      ]
     },
     "execution_count": 14,
     "metadata": {},
     "output_type": "execute_result"
    }
   ],
   "source": [
    "mylist=[i for i in range (40) if i%2==0]\n",
    "mylist"
   ]
  },
  {
   "cell_type": "code",
   "execution_count": 16,
   "id": "d78bb359-b3d9-4815-a33f-47230f7d6cae",
   "metadata": {},
   "outputs": [
    {
     "data": {
      "text/plain": [
       "[1, 3, 5, 7, 9, 11, 13, 15, 17, 19, 21, 23, 25, 27, 29, 31, 33, 35, 37, 39]"
      ]
     },
     "execution_count": 16,
     "metadata": {},
     "output_type": "execute_result"
    }
   ],
   "source": [
    "mylist2=[i for i in range(40) if i%2==1]\n",
    "mylist2"
   ]
  },
  {
   "cell_type": "code",
   "execution_count": 17,
   "id": "24de5b9f-18ec-46b6-a20f-9cccb14fccab",
   "metadata": {},
   "outputs": [
    {
     "data": {
      "text/plain": [
       "[0, 1, 4, 9, 16, 25, 36, 49, 64, 81]"
      ]
     },
     "execution_count": 17,
     "metadata": {},
     "output_type": "execute_result"
    }
   ],
   "source": [
    "mylist3=[num**2 for num in range(10)]\n",
    "mylist3"
   ]
  },
  {
   "cell_type": "code",
   "execution_count": 19,
   "id": "813ae5dd-ff1f-4ab4-b82e-17cdf819c9d9",
   "metadata": {},
   "outputs": [
    {
     "data": {
      "text/plain": [
       "[0, 36, 72, 108, 144, 180]"
      ]
     },
     "execution_count": 19,
     "metadata": {},
     "output_type": "execute_result"
    }
   ],
   "source": [
    "mylist4=[i for i in range (200) if i%3==0 if i%9==0 if i%12==0]\n",
    "mylist4"
   ]
  },
  {
   "cell_type": "code",
   "execution_count": 26,
   "id": "4c465d17-5881-4301-9558-0f9a5aea848a",
   "metadata": {},
   "outputs": [
    {
     "data": {
      "text/plain": [
       "['1', '3', '3', '4', '5', '6', '7', '8', '9']"
      ]
     },
     "execution_count": 26,
     "metadata": {},
     "output_type": "execute_result"
    }
   ],
   "source": [
    "mystr=\"one 1 Two 3 three 3 four 4 five 5 six 6789\"\n",
    "numbers=[i for i in mystr if i.isdigit()]\n",
    "numbers"
   ]
  },
  {
   "cell_type": "code",
   "execution_count": 25,
   "id": "175e1d1f-b959-4d8e-a68a-476b8409f4a3",
   "metadata": {},
   "outputs": [
    {
     "data": {
      "text/plain": [
       "['o',\n",
       " 'n',\n",
       " 'e',\n",
       " 't',\n",
       " 'w',\n",
       " 'o',\n",
       " 't',\n",
       " 'h',\n",
       " 'r',\n",
       " 'e',\n",
       " 'e',\n",
       " 'f',\n",
       " 'o',\n",
       " 'u',\n",
       " 'r',\n",
       " 'f',\n",
       " 'i',\n",
       " 'v',\n",
       " 'e',\n",
       " 's',\n",
       " 'i',\n",
       " 'x']"
      ]
     },
     "execution_count": 25,
     "metadata": {},
     "output_type": "execute_result"
    }
   ],
   "source": [
    "mystr= \"one 1 two 2 three 3 four 4 five 5 six 6789\"\n",
    "numbers= [i for i in mystr if i.isalpha()]\n",
    "numbers"
   ]
  },
  {
   "cell_type": "code",
   "execution_count": null,
   "id": "56e7a1fc-a114-46cc-a1d2-9f9bfa04804c",
   "metadata": {},
   "outputs": [],
   "source": []
  }
 ],
 "metadata": {
  "kernelspec": {
   "display_name": "Python 3 (ipykernel)",
   "language": "python",
   "name": "python3"
  },
  "language_info": {
   "codemirror_mode": {
    "name": "ipython",
    "version": 3
   },
   "file_extension": ".py",
   "mimetype": "text/x-python",
   "name": "python",
   "nbconvert_exporter": "python",
   "pygments_lexer": "ipython3",
   "version": "3.11.7"
  }
 },
 "nbformat": 4,
 "nbformat_minor": 5
}
