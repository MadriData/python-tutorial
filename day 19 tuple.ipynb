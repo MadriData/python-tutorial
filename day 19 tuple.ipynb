{
 "cells": [
  {
   "cell_type": "code",
   "execution_count": 1,
   "id": "98150aa9-d656-44ff-bbcf-a00bc645e842",
   "metadata": {},
   "outputs": [
    {
     "data": {
      "text/plain": [
       "'1-tuple is similar to list except that the objects in tuple are immutable whuch means we cannot change the element of ones assigned.\\n2- when we do not want to change the data over time ,tuple is a preferred data type.\\n3- iterating over the element of a tuple is faster compared to iterating ovar a list.'"
      ]
     },
     "execution_count": 1,
     "metadata": {},
     "output_type": "execute_result"
    }
   ],
   "source": [
    "'''1-tuple is similar to list except that the objects in tuple are immutable whuch means we cannot change the element of ones assigned.\n",
    "2- when we do not want to change the data over time ,tuple is a preferred data type.\n",
    "3- iterating over the element of a tuple is faster compared to iterating ovar a list.'''"
   ]
  },
  {
   "cell_type": "code",
   "execution_count": 2,
   "id": "1f1d49f7-f544-4e4f-9f5e-b2eb70422de4",
   "metadata": {},
   "outputs": [
    {
     "name": "stdout",
     "output_type": "stream",
     "text": [
      "()\n"
     ]
    }
   ],
   "source": [
    "tup1=() #empty tuple\n",
    "print (tup1)"
   ]
  },
  {
   "cell_type": "code",
   "execution_count": 3,
   "id": "77b1d943-5fda-49ae-9dfc-62a42bea4272",
   "metadata": {},
   "outputs": [
    {
     "name": "stdout",
     "output_type": "stream",
     "text": [
      "(19, 30, 40)\n"
     ]
    }
   ],
   "source": [
    "tup2=(19,30,40)\n",
    "print(tup2)"
   ]
  },
  {
   "cell_type": "code",
   "execution_count": 4,
   "id": "aed8fcd9-be45-440e-bce7-d7f89ea14966",
   "metadata": {},
   "outputs": [
    {
     "name": "stdout",
     "output_type": "stream",
     "text": [
      "(10.77, 30.66, 60.89)\n"
     ]
    }
   ],
   "source": [
    "tup3=(10.77,30.66,60.89)\n",
    "print(tup3)"
   ]
  },
  {
   "cell_type": "code",
   "execution_count": 6,
   "id": "bdbbb5bc-d121-4312-8ef2-bb3931b01950",
   "metadata": {},
   "outputs": [
    {
     "name": "stdout",
     "output_type": "stream",
     "text": [
      "('one', 'two', 'three')\n"
     ]
    }
   ],
   "source": [
    "tup4=('one',\n",
    "    'two','three'\n",
    "     )\n",
    "print(tup4)"
   ]
  },
  {
   "cell_type": "code",
   "execution_count": 7,
   "id": "21e82b85-f2cf-48a9-a3ae-42a943643aa7",
   "metadata": {},
   "outputs": [
    {
     "name": "stdout",
     "output_type": "stream",
     "text": [
      "('asif', 25, (50, 100), (150, 346))\n"
     ]
    }
   ],
   "source": [
    "tup5=('asif',25,(50,100),(150,346))\n",
    "print(tup5)"
   ]
  },
  {
   "cell_type": "code",
   "execution_count": 13,
   "id": "7ba35a0c-ca5b-4ea3-8fab-2231f2f23dbe",
   "metadata": {},
   "outputs": [
    {
     "name": "stdout",
     "output_type": "stream",
     "text": [
      "(100, 'asif', 17.765)\n"
     ]
    }
   ],
   "source": [
    "tup6=(100,'asif',17.765 # \n",
    "     )\n",
    "print(tup6)"
   ]
  },
  {
   "cell_type": "code",
   "execution_count": 14,
   "id": "6bae8a16-1411-4b3b-8455-3fd5a36f8d0e",
   "metadata": {},
   "outputs": [
    {
     "name": "stdout",
     "output_type": "stream",
     "text": [
      "('asif', 25, [25, 100], [150, 456], {'david', 'john'})\n"
     ]
    }
   ],
   "source": [
    "tup7=('asif',25,[25,100],[150,456],{'john','david'})#tuple of mixed data types\n",
    "print(tup7)"
   ]
  },
  {
   "cell_type": "code",
   "execution_count": 15,
   "id": "183acc11-bd5e-4ace-a733-49c7c63b4df3",
   "metadata": {},
   "outputs": [
    {
     "data": {
      "text/plain": [
       "5"
      ]
     },
     "execution_count": 15,
     "metadata": {},
     "output_type": "execute_result"
    }
   ],
   "source": [
    "len(tup7)#length of tuple 7\n"
   ]
  },
  {
   "cell_type": "code",
   "execution_count": 16,
   "id": "afa162d1-0a47-4b9a-916d-92a5f2257326",
   "metadata": {},
   "outputs": [
    {
     "data": {
      "text/plain": [
       "19"
      ]
     },
     "execution_count": 16,
     "metadata": {},
     "output_type": "execute_result"
    }
   ],
   "source": [
    "tup2[0]#retreive first element of the tuple"
   ]
  },
  {
   "cell_type": "code",
   "execution_count": 17,
   "id": "ccfaeb5d-2428-4c4e-956c-9839d8013e9e",
   "metadata": {},
   "outputs": [
    {
     "data": {
      "text/plain": [
       "'one'"
      ]
     },
     "execution_count": 17,
     "metadata": {},
     "output_type": "execute_result"
    }
   ],
   "source": [
    "tup4[0]#retreive first element of the tuple"
   ]
  },
  {
   "cell_type": "code",
   "execution_count": 20,
   "id": "15ad17e9-7f8f-4b92-88b7-d0f714d89bf6",
   "metadata": {},
   "outputs": [
    {
     "data": {
      "text/plain": [
       "'o'"
      ]
     },
     "execution_count": 20,
     "metadata": {},
     "output_type": "execute_result"
    }
   ],
   "source": [
    "tup4[0][0]# nested indexing-access the first character of the first of the first tuple element\n"
   ]
  },
  {
   "cell_type": "code",
   "execution_count": 21,
   "id": "09f73d56-1755-4e16-a5da-3fa65607ab43",
   "metadata": {},
   "outputs": [
    {
     "data": {
      "text/plain": [
       "'three'"
      ]
     },
     "execution_count": 21,
     "metadata": {},
     "output_type": "execute_result"
    }
   ],
   "source": [
    "tup4[-1]"
   ]
  },
  {
   "cell_type": "code",
   "execution_count": 22,
   "id": "b5bfd94a-e7d8-4689-9eb0-7d436764e688",
   "metadata": {},
   "outputs": [
    {
     "data": {
      "text/plain": [
       "('one', 'two', 'three', 'four', 'five', 'six', 'seven', 'eight')"
      ]
     },
     "execution_count": 22,
     "metadata": {},
     "output_type": "execute_result"
    }
   ],
   "source": [
    "mytuple=('one','two','three','four','five','six','seven','eight')\n",
    "\n",
    "mytuple[:]"
   ]
  },
  {
   "cell_type": "code",
   "execution_count": 24,
   "id": "5a7dc841-f484-49be-97f8-64cde6bd6f7d",
   "metadata": {},
   "outputs": [
    {
     "data": {
      "text/plain": [
       "('three', 'four', 'five', 'six', 'seven', 'eight')"
      ]
     },
     "execution_count": 24,
     "metadata": {},
     "output_type": "execute_result"
    }
   ],
   "source": [
    "mytuple[2:]"
   ]
  },
  {
   "cell_type": "code",
   "execution_count": 23,
   "id": "17f9d56a-ef0b-4ffa-a850-80470b4b6e71",
   "metadata": {},
   "outputs": [
    {
     "data": {
      "text/plain": [
       "('one', 'two', 'three')"
      ]
     },
     "execution_count": 23,
     "metadata": {},
     "output_type": "execute_result"
    }
   ],
   "source": [
    "mytuple[0:3]"
   ]
  },
  {
   "cell_type": "code",
   "execution_count": 26,
   "id": "a20edbe7-05a6-4a9b-b253-4c08a9007181",
   "metadata": {},
   "outputs": [
    {
     "data": {
      "text/plain": [
       "('one', 'two', 'three')"
      ]
     },
     "execution_count": 26,
     "metadata": {},
     "output_type": "execute_result"
    }
   ],
   "source": [
    "mytuple[:3]"
   ]
  },
  {
   "cell_type": "code",
   "execution_count": 27,
   "id": "d460031c-708d-477a-81d4-3c305578e542",
   "metadata": {},
   "outputs": [
    {
     "data": {
      "text/plain": [
       "('one', 'two')"
      ]
     },
     "execution_count": 27,
     "metadata": {},
     "output_type": "execute_result"
    }
   ],
   "source": [
    "mytuple[:2]"
   ]
  },
  {
   "cell_type": "code",
   "execution_count": 32,
   "id": "19bc34d6-cd72-4f1a-b87b-a55f866d673a",
   "metadata": {},
   "outputs": [
    {
     "ename": "NameError",
     "evalue": "name 'mytuple' is not defined",
     "output_type": "error",
     "traceback": [
      "\u001b[1;31m---------------------------------------------------------------------------\u001b[0m",
      "\u001b[1;31mNameError\u001b[0m                                 Traceback (most recent call last)",
      "Cell \u001b[1;32mIn[32], line 1\u001b[0m\n\u001b[1;32m----> 1\u001b[0m mytuple[\u001b[38;5;241m-\u001b[39m\u001b[38;5;241m3\u001b[39m:]\n",
      "\u001b[1;31mNameError\u001b[0m: name 'mytuple' is not defined"
     ]
    }
   ],
   "source": [
    "mytuple[-3:]"
   ]
  },
  {
   "cell_type": "code",
   "execution_count": 29,
   "id": "a65481ee-3cbf-4878-996c-f8868d52461c",
   "metadata": {},
   "outputs": [
    {
     "data": {
      "text/plain": [
       "('six', 'seven', 'eight')"
      ]
     },
     "execution_count": 29,
     "metadata": {},
     "output_type": "execute_result"
    }
   ],
   "source": [
    "mytuple[-3:]"
   ]
  },
  {
   "cell_type": "code",
   "execution_count": 31,
   "id": "caa7ac5e-1d3a-481e-93cf-c83122d99073",
   "metadata": {},
   "outputs": [
    {
     "ename": "NameError",
     "evalue": "name 'mytuple' is not defined",
     "output_type": "error",
     "traceback": [
      "\u001b[1;31m---------------------------------------------------------------------------\u001b[0m",
      "\u001b[1;31mNameError\u001b[0m                                 Traceback (most recent call last)",
      "Cell \u001b[1;32mIn[31], line 1\u001b[0m\n\u001b[1;32m----> 1\u001b[0m \u001b[38;5;28;01mdel\u001b[39;00m mytuple[\u001b[38;5;241m0\u001b[39m]\n",
      "\u001b[1;31mNameError\u001b[0m: name 'mytuple' is not defined"
     ]
    }
   ],
   "source": [
    "del mytuple[0]"
   ]
  },
  {
   "cell_type": "code",
   "execution_count": 33,
   "id": "043f5c3c-6c76-41af-a101-4e9da1b2879b",
   "metadata": {},
   "outputs": [
    {
     "data": {
      "text/plain": [
       "2"
      ]
     },
     "execution_count": 33,
     "metadata": {},
     "output_type": "execute_result"
    }
   ],
   "source": [
    "mytuple=('one','two','three','one','two','three')\n",
    "mytuple.count('one') #count method"
   ]
  },
  {
   "cell_type": "code",
   "execution_count": 34,
   "id": "d1c6d5be-a1ac-41aa-8dfb-734298dbec92",
   "metadata": {},
   "outputs": [
    {
     "data": {
      "text/plain": [
       "0"
      ]
     },
     "execution_count": 34,
     "metadata": {},
     "output_type": "execute_result"
    }
   ],
   "source": [
    "mytuple.index('one')"
   ]
  },
  {
   "cell_type": "code",
   "execution_count": 35,
   "id": "fb00722b-41e4-412b-b803-b1707e75832e",
   "metadata": {},
   "outputs": [
    {
     "data": {
      "text/plain": [
       "[6, 43, 67, 67, 90, 99]"
      ]
     },
     "execution_count": 35,
     "metadata": {},
     "output_type": "execute_result"
    }
   ],
   "source": [
    "mytuple2=(43,67,99,6,90,67)\n",
    "sorted(mytuple2)"
   ]
  },
  {
   "cell_type": "code",
   "execution_count": 38,
   "id": "02ef085e-90e3-45f3-a884-e67e5dc82825",
   "metadata": {},
   "outputs": [
    {
     "data": {
      "text/plain": [
       "[99, 90, 67, 67, 43, 6]"
      ]
     },
     "execution_count": 38,
     "metadata": {},
     "output_type": "execute_result"
    }
   ],
   "source": [
    "sorted(mytuple2,reverse=True)"
   ]
  },
  {
   "cell_type": "code",
   "execution_count": 39,
   "id": "7e03e1d5-b912-491c-8e81-122ffc2641a6",
   "metadata": {},
   "outputs": [
    {
     "name": "stdout",
     "output_type": "stream",
     "text": [
      "(12, 23, 'abhishek', 5, 67, 89)\n"
     ]
    }
   ],
   "source": [
    "#alternate way to alter in tuple\n",
    "t1=(12,23,34,5,67,89)\n",
    "x=list(t1)\n",
    "x[2]='abhishek'\n",
    "t1=tuple(x)\n",
    "print(t1)"
   ]
  },
  {
   "cell_type": "code",
   "execution_count": 41,
   "id": "bf1f9154-b0e3-415b-ac49-57eb7f27f553",
   "metadata": {},
   "outputs": [
    {
     "name": "stdout",
     "output_type": "stream",
     "text": [
      "12\n",
      "23\n",
      "4\n",
      "56\n",
      "7\n"
     ]
    }
   ],
   "source": [
    "t1=12,23,4,56,7\n",
    "a,b,c,d,e=t1\n",
    "print(a)\n",
    "print(b)\n",
    "print(c)\n",
    "print(d)\n",
    "print(e)"
   ]
  },
  {
   "cell_type": "code",
   "execution_count": 42,
   "id": "feef73ac-bf1b-422e-868d-c3c8645cacb7",
   "metadata": {},
   "outputs": [
    {
     "name": "stdout",
     "output_type": "stream",
     "text": [
      "<class 'int'>\n"
     ]
    }
   ],
   "source": [
    "t2=(12)\n",
    "print(type(t2))"
   ]
  },
  {
   "cell_type": "code",
   "execution_count": 43,
   "id": "01f2731c-886e-4fd4-b264-314e79a0366a",
   "metadata": {},
   "outputs": [
    {
     "name": "stdout",
     "output_type": "stream",
     "text": [
      "<class 'tuple'>\n"
     ]
    }
   ],
   "source": [
    "t2=(12,)\n",
    "print(type(t2))"
   ]
  },
  {
   "cell_type": "code",
   "execution_count": 44,
   "id": "ea5dfa08-0023-4314-ab1e-f32f7d963ef6",
   "metadata": {},
   "outputs": [
    {
     "name": "stdout",
     "output_type": "stream",
     "text": [
      "(1, 2, 3, 4, 5, 6, 7, 98)\n"
     ]
    }
   ],
   "source": [
    "#adding one elemnt in tuple\n",
    "t1=(1,2,3,4,5,6,7)\n",
    "ls=list(t1)\n",
    "ls.append(98)\n",
    "t1=tuple(ls)\n",
    "print(t1)"
   ]
  },
  {
   "cell_type": "code",
   "execution_count": null,
   "id": "b6fdab52-7256-4bb2-a319-6da6db83d0c9",
   "metadata": {},
   "outputs": [],
   "source": []
  },
  {
   "cell_type": "code",
   "execution_count": null,
   "id": "878ab88d-b361-499a-9082-f3a5a6e14a22",
   "metadata": {},
   "outputs": [],
   "source": []
  },
  {
   "cell_type": "code",
   "execution_count": null,
   "id": "e09dd257-9ff9-4cf6-ba6e-3c6118c3219a",
   "metadata": {},
   "outputs": [],
   "source": []
  },
  {
   "cell_type": "code",
   "execution_count": null,
   "id": "0ca3e647-8de3-4d8a-8467-fbddfcc95dc6",
   "metadata": {},
   "outputs": [],
   "source": []
  }
 ],
 "metadata": {
  "kernelspec": {
   "display_name": "Python 3 (ipykernel)",
   "language": "python",
   "name": "python3"
  },
  "language_info": {
   "codemirror_mode": {
    "name": "ipython",
    "version": 3
   },
   "file_extension": ".py",
   "mimetype": "text/x-python",
   "name": "python",
   "nbconvert_exporter": "python",
   "pygments_lexer": "ipython3",
   "version": "3.11.7"
  }
 },
 "nbformat": 4,
 "nbformat_minor": 5
}
