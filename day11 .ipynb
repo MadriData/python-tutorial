{
 "cells": [
  {
   "cell_type": "raw",
   "id": "51c4d5ce-8bd4-4c0f-a479-92192ed404bf",
   "metadata": {},
   "source": [
    "#insert()\n",
    "#it is used to insert one element at a time in the list \n",
    "#but you can insert the element at desired index\n"
   ]
  },
  {
   "cell_type": "code",
   "execution_count": 2,
   "id": "8006b60f-f5c0-4b84-ad1d-ba49ddbccf55",
   "metadata": {},
   "outputs": [
    {
     "name": "stdout",
     "output_type": "stream",
     "text": [
      "[12, 23, 34, 45, 56, 67]\n",
      "[12, 23, 34, 'darina', 45, 56, 67]\n"
     ]
    }
   ],
   "source": [
    "ls=[12,23,34,45,56,67]\n",
    "print(ls)\n",
    "ls.insert(3,\"darina\")\n",
    "print(ls)"
   ]
  },
  {
   "cell_type": "code",
   "execution_count": 3,
   "id": "61436409-25d9-4997-b8d2-46924cc9ba55",
   "metadata": {},
   "outputs": [
    {
     "name": "stdout",
     "output_type": "stream",
     "text": [
      "1\n"
     ]
    }
   ],
   "source": [
    "#count\n",
    "#it returns the frequency of the element in the list.\n",
    "ls=[12,23,34,45,56,67,78,79]\n",
    "x=ls.count(23)\n",
    "print(x)\n"
   ]
  },
  {
   "cell_type": "code",
   "execution_count": 4,
   "id": "4dc31853-84cd-4534-ac1c-0b6ddbb0ae5b",
   "metadata": {},
   "outputs": [
    {
     "name": "stdout",
     "output_type": "stream",
     "text": [
      "[12, 23, 34, 45, 56, 67, 78, 79]\n",
      "12 = 1\n",
      "23 = 1\n",
      "34 = 1\n",
      "45 = 1\n",
      "56 = 1\n",
      "67 = 1\n",
      "78 = 1\n",
      "79 = 1\n"
     ]
    }
   ],
   "source": [
    "ls=[12,23,34,45,56,67,78,79]\n",
    "print(ls)\n",
    "for i in ls:\n",
    "    x=ls.count(i)\n",
    "    print(i,\"=\",x)"
   ]
  },
  {
   "cell_type": "code",
   "execution_count": 7,
   "id": "823241c9-bfb4-40cd-a138-b6c50556113b",
   "metadata": {},
   "outputs": [
    {
     "name": "stdout",
     "output_type": "stream",
     "text": [
      "original list [12, 23, 34, 45, 56, 66, 78, 99, 23, 45, 67, 99]\n",
      "unique list [12, 23, 34, 45, 56, 66, 78, 99, 67]\n"
     ]
    }
   ],
   "source": [
    "new=[]\n",
    "ls=[12,23,34,45,56,66,78,99,23,45,67,99]\n",
    "for i in ls:\n",
    "    if i not in new:\n",
    "        new.append(i)\n",
    "\n",
    "\n",
    "print(\"original list\",ls)\n",
    "print(\"unique list\",new)\n"
   ]
  },
  {
   "cell_type": "code",
   "execution_count": 8,
   "id": "508dfe83-9dab-48d7-9b7d-9a8e1b322628",
   "metadata": {},
   "outputs": [
    {
     "name": "stdout",
     "output_type": "stream",
     "text": [
      "[12, 23, 34, 45, 56, 67]\n",
      "[67, 56, 45, 34, 23, 12]\n"
     ]
    }
   ],
   "source": [
    "#reverse\n",
    "ls=[12,23,34,45,56,67]\n",
    "print(ls)\n",
    "ls.reverse()\n",
    "print(ls)"
   ]
  },
  {
   "cell_type": "code",
   "execution_count": 10,
   "id": "5fec4b06-3567-41a1-b169-85cffd325621",
   "metadata": {},
   "outputs": [
    {
     "name": "stdout",
     "output_type": "stream",
     "text": [
      "[12, 23, 34, 45, 56, 65, 54, 32, 13]\n",
      "[12, 13, 23, 32, 34, 45, 54, 56, 65]\n",
      "[65, 56, 54, 45, 34, 32, 23, 13, 12]\n"
     ]
    }
   ],
   "source": [
    "#sort\n",
    "ls=[12,23,34,45,56,65,54,32,13]\n",
    "print(ls)\n",
    "ls.sort()\n",
    "print(ls)\n",
    "ls.sort(reverse=True)\n",
    "print(ls )"
   ]
  },
  {
   "cell_type": "code",
   "execution_count": 11,
   "id": "2dde0eb9-e761-4796-9028-fffd243f295f",
   "metadata": {},
   "outputs": [
    {
     "name": "stdout",
     "output_type": "stream",
     "text": [
      "[12, 23, 34, 45, 56, 23]\n",
      "1\n"
     ]
    }
   ],
   "source": [
    "#index\n",
    "ls=[12,23,34,45,56,23]\n",
    "print(ls)\n",
    "x=ls.index(23)\n",
    "print(x)\n"
   ]
  },
  {
   "cell_type": "code",
   "execution_count": 12,
   "id": "3442b6c0-bdea-4768-a256-6b91d0943840",
   "metadata": {},
   "outputs": [
    {
     "name": "stdout",
     "output_type": "stream",
     "text": [
      "[12, 23, 34, 45, 56, 67]\n",
      "[12, 23, 34, 45, 56, 67]\n",
      "[12, 23, 34, 'hello', 56, 67]\n",
      "[12, 23, 34, 'hello', 56, 67]\n"
     ]
    }
   ],
   "source": [
    "#copy\n",
    "ls=[12,23,34,45,56,67]\n",
    "ls1=ls\n",
    "print(ls)\n",
    "print(ls1)\n",
    "ls1[3]=\"hello\"\n",
    "print(ls)\n",
    "print(ls1)\n",
    "#if we copy a list by using .copy()\n",
    "#then if we change any element in the list then it will not reflect in another one."
   ]
  },
  {
   "cell_type": "code",
   "execution_count": 14,
   "id": "05165a32-04d4-4e87-a10b-f2d183212a8f",
   "metadata": {},
   "outputs": [
    {
     "name": "stdout",
     "output_type": "stream",
     "text": [
      "[1, 2, 3, 4, 5, 6, 7]\n",
      "[]\n"
     ]
    }
   ],
   "source": [
    "#clear\n",
    "ls=[1,2,3,4,5,6,7]\n",
    "print(ls)\n",
    "ls.clear()\n",
    "print(ls)"
   ]
  },
  {
   "cell_type": "code",
   "execution_count": 15,
   "id": "4bc832d8-cd6e-4687-9b1b-e28dd6ce8dc2",
   "metadata": {},
   "outputs": [
    {
     "name": "stdout",
     "output_type": "stream",
     "text": [
      "['sumit']\n"
     ]
    }
   ],
   "source": [
    "l=[\"amit\",\"sumit\",\"naina\"]\n",
    "print(l[1:-1])"
   ]
  },
  {
   "cell_type": "code",
   "execution_count": 16,
   "id": "be16cc16-5f53-4f26-b4ad-85b59a6692a1",
   "metadata": {},
   "outputs": [
    {
     "name": "stdout",
     "output_type": "stream",
     "text": [
      "['anubhav', 'anubhav']\n"
     ]
    }
   ],
   "source": [
    "l=[\"anubhav\"]\n",
    "print(l*2)"
   ]
  },
  {
   "cell_type": "code",
   "execution_count": 18,
   "id": "b1dd55e7-8fbf-4e0e-a104-182323b12a42",
   "metadata": {},
   "outputs": [
    {
     "name": "stdout",
     "output_type": "stream",
     "text": [
      "[10, 6, 2]\n"
     ]
    }
   ],
   "source": [
    "l=[1*x for x in range(10,1,-4)]\n",
    "print(l)"
   ]
  },
  {
   "cell_type": "code",
   "execution_count": 21,
   "id": "6a49b01b-de6d-4c5f-994a-99178c031f7b",
   "metadata": {},
   "outputs": [
    {
     "name": "stdout",
     "output_type": "stream",
     "text": [
      "['A', 2, 3, 4]\n",
      "['A', 2, 3, 4]\n"
     ]
    }
   ],
   "source": [
    "t=[1,2,3,4]\n",
    "t1=t\n",
    "t[0]=\"A\"\n",
    "print(t)\n",
    "print(t1)"
   ]
  },
  {
   "cell_type": "code",
   "execution_count": null,
   "id": "cede203d-2e8c-4482-ace0-9b50187e29e9",
   "metadata": {},
   "outputs": [],
   "source": []
  }
 ],
 "metadata": {
  "kernelspec": {
   "display_name": "Python 3 (ipykernel)",
   "language": "python",
   "name": "python3"
  },
  "language_info": {
   "codemirror_mode": {
    "name": "ipython",
    "version": 3
   },
   "file_extension": ".py",
   "mimetype": "text/x-python",
   "name": "python",
   "nbconvert_exporter": "python",
   "pygments_lexer": "ipython3",
   "version": "3.12.4"
  }
 },
 "nbformat": 4,
 "nbformat_minor": 5
}
