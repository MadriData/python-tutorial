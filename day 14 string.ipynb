{
 "cells": [
  {
   "cell_type": "code",
   "execution_count": 1,
   "id": "5b460b66-95a7-4fdb-b068-8e63f6875537",
   "metadata": {},
   "outputs": [
    {
     "data": {
      "text/plain": [
       "'Python String index() Method\\nThe index() method returns the index of the first occurence of a substring in the given string. It is same as the find() method except that if a substring is not found, then it raises an exception'"
      ]
     },
     "execution_count": 1,
     "metadata": {},
     "output_type": "execute_result"
    }
   ],
   "source": [
    "'''Python String index() Method\n",
    "The index() method returns the index of the first occurence of a substring in the given string. It is same as the find() method except that if a substring is not found, then it raises an exception'''"
   ]
  },
  {
   "cell_type": "code",
   "execution_count": 4,
   "id": "e2ad7d1d-76f0-484e-bbdc-b218a8a880e6",
   "metadata": {},
   "outputs": [
    {
     "name": "stdout",
     "output_type": "stream",
     "text": [
      "index of h: 0\n",
      "index of e: 1\n",
      "index of l: 2\n",
      "index of world: 6\n"
     ]
    }
   ],
   "source": [
    "greet='hello world'\n",
    "print('index of h:', greet.index('h'))\n",
    "print('index of e:', greet.index('e'))\n",
    "print('index of l:', greet.index('l'))\n",
    "print('index of world:', greet.index('world'))"
   ]
  },
  {
   "cell_type": "code",
   "execution_count": 5,
   "id": "00d9839a-01b0-4f42-8bf2-4ef25bce7e02",
   "metadata": {},
   "outputs": [
    {
     "data": {
      "text/plain": [
       "'Python String isalnum() Method\\nThe isalnum() method returns True if all characters in the string are alphanumeric (either alphabets or numbers). If not, it returns False.\\n\\nSyntax:\\nstr.isalnum()'"
      ]
     },
     "execution_count": 5,
     "metadata": {},
     "output_type": "execute_result"
    }
   ],
   "source": [
    "'''Python String isalnum() Method\n",
    "The isalnum() method returns True if all characters in the string are alphanumeric (either alphabets or numbers). If not, it returns False.\n",
    "\n",
    "Syntax:\n",
    "str.isalnum()'''"
   ]
  },
  {
   "cell_type": "code",
   "execution_count": 6,
   "id": "cb950fab-2dfc-485f-8ba7-b095df6620ee",
   "metadata": {},
   "outputs": [
    {
     "name": "stdout",
     "output_type": "stream",
     "text": [
      "True\n"
     ]
    }
   ],
   "source": [
    "mystr=\"hello123\"\n",
    "print(mystr.isalnum())\n"
   ]
  },
  {
   "cell_type": "code",
   "execution_count": 8,
   "id": "1d72be79-7683-4729-b75b-356d0119f0c7",
   "metadata": {},
   "outputs": [
    {
     "name": "stdout",
     "output_type": "stream",
     "text": [
      "True\n"
     ]
    }
   ],
   "source": [
    "mystr='12345'\n",
    "print(mystr.isalnum())"
   ]
  },
  {
   "cell_type": "code",
   "execution_count": 10,
   "id": "1e34c666-c4d1-4801-af4d-3a3bd7a3ab83",
   "metadata": {},
   "outputs": [
    {
     "name": "stdout",
     "output_type": "stream",
     "text": [
      "False\n"
     ]
    }
   ],
   "source": [
    "mystr='python is a programming language'\n",
    "print(mystr.isalnum())"
   ]
  },
  {
   "cell_type": "code",
   "execution_count": 11,
   "id": "3e081ec1-00b7-481c-8a39-0b14211f381a",
   "metadata": {},
   "outputs": [
    {
     "name": "stdout",
     "output_type": "stream",
     "text": [
      "True\n"
     ]
    }
   ],
   "source": [
    "mystr='madrid'\n",
    "print(mystr.isalnum())"
   ]
  },
  {
   "cell_type": "code",
   "execution_count": 12,
   "id": "b827e9a9-2bfb-4a20-bd11-13a34c6ca829",
   "metadata": {},
   "outputs": [
    {
     "name": "stdout",
     "output_type": "stream",
     "text": [
      "False\n"
     ]
    }
   ],
   "source": [
    "mystr=\"#1\"\n",
    "print(mystr.isalnum())"
   ]
  },
  {
   "cell_type": "code",
   "execution_count": 13,
   "id": "48a3a536-a992-4590-bc15-1f6ec0cf6e8b",
   "metadata": {},
   "outputs": [
    {
     "name": "stdout",
     "output_type": "stream",
     "text": [
      "True\n"
     ]
    }
   ],
   "source": [
    "mystr='12345'\n",
    "print(mystr.isdigit())"
   ]
  },
  {
   "cell_type": "code",
   "execution_count": 14,
   "id": "d91fe6a2-3f6d-45c6-b7b3-65c0c1013880",
   "metadata": {},
   "outputs": [
    {
     "name": "stdout",
     "output_type": "stream",
     "text": [
      "False\n"
     ]
    }
   ],
   "source": [
    "mystr='10.5'\n",
    "print(mystr.isdigit())"
   ]
  },
  {
   "cell_type": "code",
   "execution_count": 15,
   "id": "c3829823-155d-4428-b3b1-bb7a4adee7da",
   "metadata": {},
   "outputs": [
    {
     "name": "stdout",
     "output_type": "stream",
     "text": [
      "False\n"
     ]
    }
   ],
   "source": [
    "mystr='python'\n",
    "print(mystr.isdigit())"
   ]
  },
  {
   "cell_type": "code",
   "execution_count": 16,
   "id": "03499bd0-692e-41b4-9d38-7f50628ae6db",
   "metadata": {},
   "outputs": [
    {
     "data": {
      "text/plain": [
       "True"
      ]
     },
     "execution_count": 16,
     "metadata": {},
     "output_type": "execute_result"
    }
   ],
   "source": [
    "mystr='hello world'\n",
    "mystr.islower()"
   ]
  },
  {
   "cell_type": "code",
   "execution_count": 17,
   "id": "8c636477-ac9b-41dd-9d71-a7a94f20728c",
   "metadata": {},
   "outputs": [
    {
     "data": {
      "text/plain": [
       "False"
      ]
     },
     "execution_count": 17,
     "metadata": {},
     "output_type": "execute_result"
    }
   ],
   "source": [
    "mystr='Hello world'\n",
    "mystr.islower()"
   ]
  },
  {
   "cell_type": "code",
   "execution_count": 18,
   "id": "6cc81499-5e90-4929-acdf-f326237a7df2",
   "metadata": {},
   "outputs": [
    {
     "data": {
      "text/plain": [
       "True"
      ]
     },
     "execution_count": 18,
     "metadata": {},
     "output_type": "execute_result"
    }
   ],
   "source": [
    "mystr='python is #1'\n",
    "mystr.islower()"
   ]
  },
  {
   "cell_type": "code",
   "execution_count": 19,
   "id": "0e9c0570-0bb1-4fd9-9b2a-4f9aa6e57f00",
   "metadata": {},
   "outputs": [
    {
     "data": {
      "text/plain": [
       "True"
      ]
     },
     "execution_count": 19,
     "metadata": {},
     "output_type": "execute_result"
    }
   ],
   "source": [
    "greet='Hello World'\n",
    "greet.istitle()"
   ]
  },
  {
   "cell_type": "code",
   "execution_count": 20,
   "id": "34e908c8-db23-49eb-a727-8c1261fc649a",
   "metadata": {},
   "outputs": [
    {
     "data": {
      "text/plain": [
       "False"
      ]
     },
     "execution_count": 20,
     "metadata": {},
     "output_type": "execute_result"
    }
   ],
   "source": [
    "greet='hello world'\n",
    "greet.istitle()"
   ]
  },
  {
   "cell_type": "code",
   "execution_count": 23,
   "id": "5ead387e-f264-4233-b364-022d09aaab5a",
   "metadata": {},
   "outputs": [
    {
     "data": {
      "text/plain": [
       "False"
      ]
     },
     "execution_count": 23,
     "metadata": {},
     "output_type": "execute_result"
    }
   ],
   "source": [
    "greet='HELLO WORLD'\n",
    "greet.istitle()"
   ]
  },
  {
   "cell_type": "code",
   "execution_count": 24,
   "id": "dadf9fa1-dfe6-42ee-a7b9-e14800390de6",
   "metadata": {},
   "outputs": [
    {
     "data": {
      "text/plain": [
       "False"
      ]
     },
     "execution_count": 24,
     "metadata": {},
     "output_type": "execute_result"
    }
   ],
   "source": [
    "greet='HelloWorld'\n",
    "greet.istitle()"
   ]
  },
  {
   "cell_type": "code",
   "execution_count": 25,
   "id": "8d00e53b-d958-41db-a4de-8d360ff5a7bf",
   "metadata": {},
   "outputs": [
    {
     "data": {
      "text/plain": [
       "False"
      ]
     },
     "execution_count": 25,
     "metadata": {},
     "output_type": "execute_result"
    }
   ],
   "source": [
    "mystr='hello world'\n",
    "mystr.isupper()"
   ]
  },
  {
   "cell_type": "code",
   "execution_count": 26,
   "id": "c95c115c-753e-484a-9a89-ef95aca2b1ef",
   "metadata": {},
   "outputs": [
    {
     "data": {
      "text/plain": [
       "False"
      ]
     },
     "execution_count": 26,
     "metadata": {},
     "output_type": "execute_result"
    }
   ],
   "source": [
    "mystr='Hello World'\n",
    "mystr.isupper()"
   ]
  },
  {
   "cell_type": "code",
   "execution_count": 27,
   "id": "d788912e-6257-4e2e-819d-387244014bb3",
   "metadata": {},
   "outputs": [
    {
     "data": {
      "text/plain": [
       "True"
      ]
     },
     "execution_count": 27,
     "metadata": {},
     "output_type": "execute_result"
    }
   ],
   "source": [
    "mystr='HELLO WORLD'\n",
    "mystr.isupper()"
   ]
  },
  {
   "cell_type": "code",
   "execution_count": 29,
   "id": "b7a3fe23-9cc5-484b-83fb-dfb11177c1c4",
   "metadata": {},
   "outputs": [
    {
     "data": {
      "text/plain": [
       "True"
      ]
     },
     "execution_count": 29,
     "metadata": {},
     "output_type": "execute_result"
    }
   ],
   "source": [
    "mystr='PYTHON IS #1'\n",
    "mystr.isupper()"
   ]
  },
  {
   "cell_type": "code",
   "execution_count": 30,
   "id": "2bbce1d0-6540-488d-919b-79411ac072b2",
   "metadata": {},
   "outputs": [
    {
     "data": {
      "text/plain": [
       "'hello world'"
      ]
     },
     "execution_count": 30,
     "metadata": {},
     "output_type": "execute_result"
    }
   ],
   "source": [
    "mystr='HELLO WORLD'\n",
    "mystr.lower()"
   ]
  },
  {
   "cell_type": "code",
   "execution_count": 31,
   "id": "c4737249-4053-4886-8c5f-e3a3541fa8f0",
   "metadata": {},
   "outputs": [
    {
     "data": {
      "text/plain": [
       "'1234abc'"
      ]
     },
     "execution_count": 31,
     "metadata": {},
     "output_type": "execute_result"
    }
   ],
   "source": [
    "mystr='1234ABC'\n",
    "mystr.lower()"
   ]
  },
  {
   "cell_type": "code",
   "execution_count": 33,
   "id": "cf0f26ae-1e81-4b60-8dac-70ce4a83b289",
   "metadata": {},
   "outputs": [
    {
     "name": "stdout",
     "output_type": "stream",
     "text": [
      "    hellow world   \n"
     ]
    },
    {
     "data": {
      "text/plain": [
       "'hellow world   '"
      ]
     },
     "execution_count": 33,
     "metadata": {},
     "output_type": "execute_result"
    }
   ],
   "source": [
    "mystr='    hellow world   '\n",
    "print(mystr)\n",
    "mystr.lstrip()  #removes leading strip\n"
   ]
  },
  {
   "cell_type": "code",
   "execution_count": 61,
   "id": "9457eb04-04c0-415b-ae32-823b36ae5bcb",
   "metadata": {},
   "outputs": [
    {
     "data": {
      "text/plain": [
       "'anubhav'"
      ]
     },
     "execution_count": 61,
     "metadata": {},
     "output_type": "execute_result"
    }
   ],
   "source": [
    "text='hii anubhav'\n",
    "text.lstrip(\"hii \")"
   ]
  },
  {
   "cell_type": "code",
   "execution_count": 41,
   "id": "ca66ecb6-e226-4460-918c-61d8fc2e8194",
   "metadata": {},
   "outputs": [
    {
     "data": {
      "text/plain": [
       "'hii '"
      ]
     },
     "execution_count": 41,
     "metadata": {},
     "output_type": "execute_result"
    }
   ],
   "source": [
    "text='hii anubhav'\n",
    "text.rstrip(\"anubhav\")"
   ]
  },
  {
   "cell_type": "code",
   "execution_count": 42,
   "id": "42b888ef-5246-44f5-b21c-bd4a962900f2",
   "metadata": {},
   "outputs": [
    {
     "name": "stdout",
     "output_type": "stream",
     "text": [
      "('Hello', ' ', 'World')\n"
     ]
    }
   ],
   "source": [
    "mystr='Hello World'\n",
    "print(mystr.partition(' '))"
   ]
  },
  {
   "cell_type": "code",
   "execution_count": 43,
   "id": "894f9a0c-56fa-4110-8f58-ffcd4e6f3b6f",
   "metadata": {},
   "outputs": [
    {
     "name": "stdout",
     "output_type": "stream",
     "text": [
      "('how ', 'are', ' you?')\n"
     ]
    }
   ],
   "source": [
    "mystr='how are you?'\n",
    "print(mystr.partition('are'))"
   ]
  },
  {
   "cell_type": "code",
   "execution_count": 48,
   "id": "110e5444-1358-411c-9592-9b4174f5de4c",
   "metadata": {},
   "outputs": [
    {
     "name": "stdout",
     "output_type": "stream",
     "text": [
      "('education info is the best tutorials website.', '', '')\n",
      "('education info is the best ', 'tutorials', ' website.')\n"
     ]
    }
   ],
   "source": [
    "mystr='education info is the best tutorials website.'\n",
    "print(mystr.partition('Tutorials'))\n",
    "print(mystr.partition('tutorials'))"
   ]
  },
  {
   "cell_type": "code",
   "execution_count": 51,
   "id": "a069abed-e280-4410-8b42-0555fe604814",
   "metadata": {},
   "outputs": [
    {
     "name": "stdout",
     "output_type": "stream",
     "text": [
      "20\n",
      "16\n"
     ]
    }
   ],
   "source": [
    "mystr='     hello world    '\n",
    "print(len(mystr))\n",
    "print(len(mystr.rstrip()))"
   ]
  },
  {
   "cell_type": "code",
   "execution_count": 53,
   "id": "6ca22ecc-4e6c-440d-b03e-240d7969a42f",
   "metadata": {},
   "outputs": [
    {
     "data": {
      "text/plain": [
       "['hello', 'world']"
      ]
     },
     "execution_count": 53,
     "metadata": {},
     "output_type": "execute_result"
    }
   ],
   "source": [
    "mystr='hello world'\n",
    "mystr.split()"
   ]
  },
  {
   "cell_type": "code",
   "execution_count": 54,
   "id": "1c5cece9-542d-43ce-8962-1699fc66eca8",
   "metadata": {},
   "outputs": [
    {
     "data": {
      "text/plain": [
       "['c', 'python', 'r', 'jawa', 'sql', 'hadoop']"
      ]
     },
     "execution_count": 54,
     "metadata": {},
     "output_type": "execute_result"
    }
   ],
   "source": [
    "langs='c,python,r,jawa,sql,hadoop'\n",
    "langs.split(',')"
   ]
  },
  {
   "cell_type": "code",
   "execution_count": 56,
   "id": "591ac097-f6b1-4ec6-8fe4-8ae6dee9639b",
   "metadata": {},
   "outputs": [
    {
     "name": "stdout",
     "output_type": "stream",
     "text": [
      "['apples', 'banana', 'mango', 'fig', 'pear']\n"
     ]
    }
   ],
   "source": [
    "fruits='apples$banana$mango$fig$pear'\n",
    "print(fruits.split('$'))"
   ]
  },
  {
   "cell_type": "code",
   "execution_count": 57,
   "id": "0a9f5b5b-98b8-4c76-9c0f-0131312620dc",
   "metadata": {},
   "outputs": [
    {
     "data": {
      "text/plain": [
       "['c', 'python', 'r', 'jawa,sql,hadoop']"
      ]
     },
     "execution_count": 57,
     "metadata": {},
     "output_type": "execute_result"
    }
   ],
   "source": [
    "langs='c,python,r,jawa,sql,hadoop'\n",
    "langs.split(',',3)"
   ]
  },
  {
   "cell_type": "code",
   "execution_count": 59,
   "id": "cae9de2e-a73d-47d7-bfd7-b252e7e43dd9",
   "metadata": {},
   "outputs": [
    {
     "data": {
      "text/plain": [
       "['banana', 'apple', 'pear$fig']"
      ]
     },
     "execution_count": 59,
     "metadata": {},
     "output_type": "execute_result"
    }
   ],
   "source": [
    "fruits='banana$apple$pear$fig'\n",
    "fruits.split('$',2)"
   ]
  },
  {
   "cell_type": "code",
   "execution_count": 60,
   "id": "daf918a3-82d6-43f5-92e0-011a7cb158e9",
   "metadata": {},
   "outputs": [
    {
     "data": {
      "text/plain": [
       "'HELLO WORLD'"
      ]
     },
     "execution_count": 60,
     "metadata": {},
     "output_type": "execute_result"
    }
   ],
   "source": [
    "mystr='hello world'\n",
    "mystr.upper()\n"
   ]
  },
  {
   "cell_type": "code",
   "execution_count": null,
   "id": "e5cd0358-e9ed-4223-b963-e199ad6844e8",
   "metadata": {},
   "outputs": [],
   "source": []
  }
 ],
 "metadata": {
  "kernelspec": {
   "display_name": "Python 3 (ipykernel)",
   "language": "python",
   "name": "python3"
  },
  "language_info": {
   "codemirror_mode": {
    "name": "ipython",
    "version": 3
   },
   "file_extension": ".py",
   "mimetype": "text/x-python",
   "name": "python",
   "nbconvert_exporter": "python",
   "pygments_lexer": "ipython3",
   "version": "3.11.7"
  }
 },
 "nbformat": 4,
 "nbformat_minor": 5
}
