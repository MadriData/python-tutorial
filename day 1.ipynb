{
 "cells": [
  {
   "cell_type": "code",
   "execution_count": 6,
   "id": "58ae0c7c-1871-4ac2-9257-6c0f52c4b04e",
   "metadata": {},
   "outputs": [],
   "source": [
    "a=10 # variable=value"
   ]
  },
  {
   "cell_type": "code",
   "execution_count": 7,
   "id": "70293bd7-f5bf-4e77-9d39-0759cafd989e",
   "metadata": {},
   "outputs": [
    {
     "data": {
      "text/plain": [
       "10"
      ]
     },
     "execution_count": 7,
     "metadata": {},
     "output_type": "execute_result"
    }
   ],
   "source": [
    "a"
   ]
  },
  {
   "cell_type": "code",
   "execution_count": 8,
   "id": "ef42fe8a-e047-4cab-a7af-21779fef15f0",
   "metadata": {},
   "outputs": [],
   "source": [
    "a=a+10"
   ]
  },
  {
   "cell_type": "code",
   "execution_count": 9,
   "id": "0610da26-164e-4efa-a7cb-4c169b74551c",
   "metadata": {},
   "outputs": [
    {
     "data": {
      "text/plain": [
       "20"
      ]
     },
     "execution_count": 9,
     "metadata": {},
     "output_type": "execute_result"
    }
   ],
   "source": [
    "a"
   ]
  },
  {
   "cell_type": "code",
   "execution_count": 17,
   "id": "3e5f2bc4-1df9-49e8-901c-f225aa1f7b22",
   "metadata": {},
   "outputs": [
    {
     "data": {
      "text/plain": [
       "1800"
      ]
     },
     "execution_count": 17,
     "metadata": {},
     "output_type": "execute_result"
    }
   ],
   "source": [
    "a1=30\n",
    "a1"
   ]
  },
  {
   "cell_type": "code",
   "execution_count": 13,
   "id": "207e8383-e18b-46cc-a348-ffed01f855c0",
   "metadata": {},
   "outputs": [
    {
     "ename": "SyntaxError",
     "evalue": "'expression' is an illegal expression for augmented assignment (4067492176.py, line 1)",
     "output_type": "error",
     "traceback": [
      "\u001b[1;36m  Cell \u001b[1;32mIn[13], line 1\u001b[1;36m\u001b[0m\n\u001b[1;33m    -a-=40\u001b[0m\n\u001b[1;37m    ^\u001b[0m\n\u001b[1;31mSyntaxError\u001b[0m\u001b[1;31m:\u001b[0m 'expression' is an illegal expression for augmented assignment\n"
     ]
    }
   ],
   "source": [
    "-a-=40"
   ]
  },
  {
   "cell_type": "code",
   "execution_count": 14,
   "id": "857ea48d-4fc2-45d7-b9ed-2048a4340551",
   "metadata": {},
   "outputs": [
    {
     "ename": "SyntaxError",
     "evalue": "invalid syntax (4202064377.py, line 1)",
     "output_type": "error",
     "traceback": [
      "\u001b[1;36m  Cell \u001b[1;32mIn[14], line 1\u001b[1;36m\u001b[0m\n\u001b[1;33m    a b =50\u001b[0m\n\u001b[1;37m      ^\u001b[0m\n\u001b[1;31mSyntaxError\u001b[0m\u001b[1;31m:\u001b[0m invalid syntax\n"
     ]
    }
   ],
   "source": [
    "a b =50"
   ]
  },
  {
   "cell_type": "code",
   "execution_count": 18,
   "id": "7eb858e8-ec5e-4c83-b0f5-88d77288711b",
   "metadata": {},
   "outputs": [],
   "source": [
    "a=25\n",
    "b=6"
   ]
  },
  {
   "cell_type": "code",
   "execution_count": 19,
   "id": "170ef5a4-f87b-49ec-a41a-b652171925df",
   "metadata": {},
   "outputs": [
    {
     "data": {
      "text/plain": [
       "31"
      ]
     },
     "execution_count": 19,
     "metadata": {},
     "output_type": "execute_result"
    }
   ],
   "source": [
    "a+b"
   ]
  },
  {
   "cell_type": "code",
   "execution_count": 20,
   "id": "51ce7109-e097-4422-941c-53b4f4524bde",
   "metadata": {},
   "outputs": [
    {
     "data": {
      "text/plain": [
       "19"
      ]
     },
     "execution_count": 20,
     "metadata": {},
     "output_type": "execute_result"
    }
   ],
   "source": [
    "a-b"
   ]
  },
  {
   "cell_type": "code",
   "execution_count": 21,
   "id": "27552841-0e36-44d3-9d10-c37f608d464a",
   "metadata": {},
   "outputs": [
    {
     "data": {
      "text/plain": [
       "150"
      ]
     },
     "execution_count": 21,
     "metadata": {},
     "output_type": "execute_result"
    }
   ],
   "source": [
    "a*b"
   ]
  },
  {
   "cell_type": "code",
   "execution_count": 22,
   "id": "dc8c73ea-9d11-4987-a2aa-90886c3e62f8",
   "metadata": {},
   "outputs": [
    {
     "data": {
      "text/plain": [
       "4.166666666666667"
      ]
     },
     "execution_count": 22,
     "metadata": {},
     "output_type": "execute_result"
    }
   ],
   "source": [
    "a/b"
   ]
  },
  {
   "cell_type": "code",
   "execution_count": 23,
   "id": "4e226ba7-a6b1-4c52-826f-9cd29ef9a49f",
   "metadata": {},
   "outputs": [
    {
     "data": {
      "text/plain": [
       "4"
      ]
     },
     "execution_count": 23,
     "metadata": {},
     "output_type": "execute_result"
    }
   ],
   "source": [
    "a//b #only integer part"
   ]
  },
  {
   "cell_type": "code",
   "execution_count": 24,
   "id": "b0626858-d699-4974-914d-cc4911025c46",
   "metadata": {},
   "outputs": [
    {
     "data": {
      "text/plain": [
       "244140625"
      ]
     },
     "execution_count": 24,
     "metadata": {},
     "output_type": "execute_result"
    }
   ],
   "source": [
    "a**b #exponent"
   ]
  },
  {
   "cell_type": "code",
   "execution_count": 25,
   "id": "aa793143-dafd-4f96-9d43-cb6f2370f746",
   "metadata": {},
   "outputs": [
    {
     "data": {
      "text/plain": [
       "625"
      ]
     },
     "execution_count": 25,
     "metadata": {},
     "output_type": "execute_result"
    }
   ],
   "source": [
    "25**2"
   ]
  },
  {
   "cell_type": "code",
   "execution_count": 26,
   "id": "c1aba6a0-af83-4004-804b-2125b42eaf28",
   "metadata": {},
   "outputs": [
    {
     "data": {
      "text/plain": [
       "244140625"
      ]
     },
     "execution_count": 26,
     "metadata": {},
     "output_type": "execute_result"
    }
   ],
   "source": [
    "a**b #exponent"
   ]
  },
  {
   "cell_type": "code",
   "execution_count": 27,
   "id": "6040b2c0-ea44-4624-bdf6-db9559a4b4c5",
   "metadata": {},
   "outputs": [
    {
     "data": {
      "text/plain": [
       "1"
      ]
     },
     "execution_count": 27,
     "metadata": {},
     "output_type": "execute_result"
    }
   ],
   "source": [
    "a%b"
   ]
  },
  {
   "cell_type": "code",
   "execution_count": 30,
   "id": "c68b8cb3-2b06-4ed3-aed6-0927b1537d65",
   "metadata": {},
   "outputs": [
    {
     "name": "stdout",
     "output_type": "stream",
     "text": [
      "300\n",
      "the sum is 300\n"
     ]
    }
   ],
   "source": [
    "a=100\n",
    "b=200\n",
    "c=a+b\n",
    "print(c)\n",
    "print(\"the sum is\",c)"
   ]
  },
  {
   "cell_type": "code",
   "execution_count": 1,
   "id": "90e02aa6-42d2-469c-b1ce-7c3faac884a2",
   "metadata": {},
   "outputs": [
    {
     "name": "stdout",
     "output_type": "stream",
     "text": [
      "450.0\n"
     ]
    }
   ],
   "source": [
    "# simple interest \n",
    "p=2000\n",
    "r=4.5\n",
    "t=5\n",
    "si=p*r*t/100\n",
    "print( si )"
   ]
  },
  {
   "cell_type": "code",
   "execution_count": 2,
   "id": "c10678ec-0659-43b6-ba5c-72028bacf27e",
   "metadata": {},
   "outputs": [
    {
     "name": "stdout",
     "output_type": "stream",
     "text": [
      "20.0\n"
     ]
    }
   ],
   "source": [
    "# average\n",
    "a=10\n",
    "b=20\n",
    "c=30\n",
    "d=(a+b+c)/3\n",
    "print( d )"
   ]
  },
  {
   "cell_type": "code",
   "execution_count": 37,
   "id": "f3e16e96-8910-48f9-82b6-f705e244b8c0",
   "metadata": {},
   "outputs": [
    {
     "name": "stdout",
     "output_type": "stream",
     "text": [
      "the percent of student marks 72.8\n"
     ]
    }
   ],
   "source": [
    "# percent of student marks\n",
    "p=56\n",
    "c=89 \n",
    "m=87\n",
    "e=56\n",
    "h=76\n",
    "s=p+c+m+e+h\n",
    "per=s*100/500\n",
    "print(\"the percent of student marks\",per)"
   ]
  },
  {
   "cell_type": "code",
   "execution_count": 38,
   "id": "57d85c07-ac8d-4fc6-bd7b-3c5e4187aac0",
   "metadata": {},
   "outputs": [
    {
     "name": "stdout",
     "output_type": "stream",
     "text": [
      "values before swapping\n",
      "A= 10\n",
      "B= 20\n",
      "values after swapping\n",
      "A= 20\n",
      "B= 10\n"
     ]
    }
   ],
   "source": [
    "# swaping of two numbers\n",
    "a=10\n",
    "b=20\n",
    "print(\"values before swapping\")\n",
    "print(\"A=\",a)\n",
    "print(\"B=\",b)\n",
    "temp=a #temp=10\n",
    "a=b #a=20\n",
    "b=temp #b=10\n",
    "print(\"values after swapping\")\n",
    "print(\"A=\",a)\n",
    "print(\"B=\",b)"
   ]
  },
  {
   "cell_type": "code",
   "execution_count": 40,
   "id": "db9b5c74-0323-48da-931c-e417d44db2df",
   "metadata": {},
   "outputs": [
    {
     "name": "stdout",
     "output_type": "stream",
     "text": [
      "A= 20\n",
      "B= 10\n"
     ]
    }
   ],
   "source": [
    "# swaping of two numbers\n",
    "a=10\n",
    "b=20\n",
    "a,b=b,a\n",
    "print(\"A=\",a)\n",
    "print(\"B=\",b)\n"
   ]
  },
  {
   "cell_type": "code",
   "execution_count": null,
   "id": "4569baf1-7bfe-4ed2-8a2c-fd4782473b92",
   "metadata": {},
   "outputs": [],
   "source": []
  }
 ],
 "metadata": {
  "kernelspec": {
   "display_name": "Python 3 (ipykernel)",
   "language": "python",
   "name": "python3"
  },
  "language_info": {
   "codemirror_mode": {
    "name": "ipython",
    "version": 3
   },
   "file_extension": ".py",
   "mimetype": "text/x-python",
   "name": "python",
   "nbconvert_exporter": "python",
   "pygments_lexer": "ipython3",
   "version": "3.11.7"
  }
 },
 "nbformat": 4,
 "nbformat_minor": 5
}
