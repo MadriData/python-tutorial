{
 "cells": [
  {
   "cell_type": "markdown",
   "id": "e7c4e366-75a7-4f7f-9bbe-566aae739ae5",
   "metadata": {},
   "source": [
    "# shallow copy and deep copy"
   ]
  },
  {
   "cell_type": "code",
   "execution_count": 52,
   "id": "3eac7848-4775-4052-b266-48b5aad26214",
   "metadata": {},
   "outputs": [
    {
     "data": {
      "text/plain": [
       "[1, '2', 3, 4, 5]"
      ]
     },
     "execution_count": 52,
     "metadata": {},
     "output_type": "execute_result"
    }
   ],
   "source": [
    "l=[1,\"2\",3,4,5]\n",
    "l1=l\n",
    "l1"
   ]
  },
  {
   "cell_type": "code",
   "execution_count": 53,
   "id": "6cf44c36-018e-4748-a567-dce7a2f4684a",
   "metadata": {},
   "outputs": [
    {
     "data": {
      "text/plain": [
       "[1, '2', 100, 4, 5]"
      ]
     },
     "execution_count": 53,
     "metadata": {},
     "output_type": "execute_result"
    }
   ],
   "source": [
    "l1[2]=100\n",
    "l1"
   ]
  },
  {
   "cell_type": "code",
   "execution_count": 54,
   "id": "8235df76-e56e-47f0-a70c-e9d371fcff92",
   "metadata": {},
   "outputs": [
    {
     "data": {
      "text/plain": [
       "[1, '2', 100, 4, 5]"
      ]
     },
     "execution_count": 54,
     "metadata": {},
     "output_type": "execute_result"
    }
   ],
   "source": [
    "l"
   ]
  },
  {
   "cell_type": "code",
   "execution_count": 55,
   "id": "19ca310c-41cf-468d-b434-e3dfe476d7a1",
   "metadata": {},
   "outputs": [
    {
     "data": {
      "text/plain": [
       "[1, 100, 100, 4, 5]"
      ]
     },
     "execution_count": 55,
     "metadata": {},
     "output_type": "execute_result"
    }
   ],
   "source": [
    "l2=l.copy()\n",
    "l2[1]=100\n",
    "l2"
   ]
  },
  {
   "cell_type": "code",
   "execution_count": 56,
   "id": "c4a4144a-e596-40ca-9aeb-2c0ead4c1c76",
   "metadata": {},
   "outputs": [
    {
     "name": "stdout",
     "output_type": "stream",
     "text": [
      "[1, '2', 100, 4, 5]\n"
     ]
    },
    {
     "data": {
      "text/plain": [
       "[1, 100, 100, 4, 5]"
      ]
     },
     "execution_count": 56,
     "metadata": {},
     "output_type": "execute_result"
    }
   ],
   "source": [
    "print(l)\n",
    "l2"
   ]
  },
  {
   "cell_type": "code",
   "execution_count": 57,
   "id": "26b3a2ba-b7d3-46a6-a1fb-2c35796d478a",
   "metadata": {},
   "outputs": [
    {
     "name": "stdout",
     "output_type": "stream",
     "text": [
      "1700902276288 1700902280448\n"
     ]
    }
   ],
   "source": [
    "print(id(l),id(l2))"
   ]
  },
  {
   "cell_type": "code",
   "execution_count": 58,
   "id": "a0831e16-3caa-4819-8a9e-8e7006229f24",
   "metadata": {},
   "outputs": [
    {
     "data": {
      "text/plain": [
       "[[1, 2, 3], [4, 56]]"
      ]
     },
     "execution_count": 58,
     "metadata": {},
     "output_type": "execute_result"
    }
   ],
   "source": [
    "L=[[1,2,3],[4,56]]\n",
    "L"
   ]
  },
  {
   "cell_type": "code",
   "execution_count": 59,
   "id": "d4b5c518-a1b3-4c60-b390-f7e0eff4727b",
   "metadata": {},
   "outputs": [
    {
     "data": {
      "text/plain": [
       "[[1, 2, 3], [4, 56]]"
      ]
     },
     "execution_count": 59,
     "metadata": {},
     "output_type": "execute_result"
    }
   ],
   "source": [
    "L2=L.copy()\n",
    "L2"
   ]
  },
  {
   "cell_type": "raw",
   "id": "fa6f85e3-8445-41f8-8127-d189ad3d8d34",
   "metadata": {},
   "source": [
    "L2[0][2]=100"
   ]
  },
  {
   "cell_type": "code",
   "execution_count": 103,
   "id": "68963922-3498-4637-918a-b421b0f211c0",
   "metadata": {},
   "outputs": [
    {
     "data": {
      "text/plain": [
       "[1, 100, 100, 4, 5]"
      ]
     },
     "execution_count": 103,
     "metadata": {},
     "output_type": "execute_result"
    }
   ],
   "source": [
    "l2"
   ]
  },
  {
   "cell_type": "code",
   "execution_count": 102,
   "id": "b2017393-7bfb-4204-91cf-cdc612be8efc",
   "metadata": {},
   "outputs": [
    {
     "data": {
      "text/plain": [
       "[[1, 2, 3], [4, 56]]"
      ]
     },
     "execution_count": 102,
     "metadata": {},
     "output_type": "execute_result"
    }
   ],
   "source": [
    "L"
   ]
  },
  {
   "cell_type": "code",
   "execution_count": 61,
   "id": "fa93a335-d824-477a-bfff-d8647a0b1cc2",
   "metadata": {},
   "outputs": [],
   "source": [
    "import copy"
   ]
  },
  {
   "cell_type": "code",
   "execution_count": 62,
   "id": "b7b997c6-76f0-4339-935a-c92c3a1cbca5",
   "metadata": {},
   "outputs": [
    {
     "data": {
      "text/plain": [
       "[1, 100, 100, 4, 5]"
      ]
     },
     "execution_count": 62,
     "metadata": {},
     "output_type": "execute_result"
    }
   ],
   "source": [
    "l=[[1,2,3],[4,5,6]]\n",
    "L2=copy.deepcopy(l)\n",
    "l2"
   ]
  },
  {
   "cell_type": "code",
   "execution_count": 63,
   "id": "ab20460c-d350-4df5-aff3-5520b1fc6e95",
   "metadata": {},
   "outputs": [
    {
     "name": "stdout",
     "output_type": "stream",
     "text": [
      "[[1, 2, 100], [4, 5, 6]]\n",
      "[[1, 2, 3], [4, 5, 6]]\n"
     ]
    }
   ],
   "source": [
    "L2[0][2]=100\n",
    "print(L2)\n",
    "print(l)"
   ]
  },
  {
   "cell_type": "markdown",
   "id": "4e9cc446-bf21-4ec9-986c-e0bf9d4da557",
   "metadata": {},
   "source": [
    "# random number generation\n",
    "* as discussed earlier , we use the random module to work with random numbers in numpy.\n"
   ]
  },
  {
   "cell_type": "code",
   "execution_count": 64,
   "id": "d15f7c08-42b6-4c8b-936a-7325c82a5717",
   "metadata": {},
   "outputs": [],
   "source": [
    "import numpy as np"
   ]
  },
  {
   "cell_type": "code",
   "execution_count": 65,
   "id": "79e18382-8f60-458b-8d47-8923372abeb6",
   "metadata": {},
   "outputs": [
    {
     "name": "stdout",
     "output_type": "stream",
     "text": [
      "1\n"
     ]
    }
   ],
   "source": [
    "# generate random integer from 0 to 9\n",
    "randomnumber=np.random.randint(0,10)\n",
    "print(randomnumber)"
   ]
  },
  {
   "cell_type": "code",
   "execution_count": 66,
   "id": "0bdaf5e2-fb31-497a-9126-84a82dd44e17",
   "metadata": {},
   "outputs": [
    {
     "name": "stdout",
     "output_type": "stream",
     "text": [
      "7\n"
     ]
    }
   ],
   "source": [
    "from numpy import random\n",
    "randomnumber=random.randint(0,10)\n",
    "print(randomnumber)"
   ]
  },
  {
   "cell_type": "markdown",
   "id": "7a993845-36d7-47f0-87c6-da784c221acb",
   "metadata": {},
   "source": [
    "# generate random float in numpy\n",
    "* we can also generate random floating - point number between 0-1. for that we use the random.rand() function. for example,"
   ]
  },
  {
   "cell_type": "code",
   "execution_count": 67,
   "id": "0b8d74e7-de46-4c97-ae51-3ff58e98a38c",
   "metadata": {},
   "outputs": [
    {
     "name": "stdout",
     "output_type": "stream",
     "text": [
      "0.567715788220597\n"
     ]
    }
   ],
   "source": [
    "randomnumber=np.random.rand()\n",
    "print(randomnumber)"
   ]
  },
  {
   "cell_type": "markdown",
   "id": "b0212324-c474-4cb0-bf30-57fd5254719d",
   "metadata": {},
   "source": [
    "# generate random array in numpy \n",
    "* numpy's random module can also be used to generate an array of random numbers."
   ]
  },
  {
   "cell_type": "code",
   "execution_count": 68,
   "id": "7b212630-cb65-42e4-b614-a01affed3f52",
   "metadata": {},
   "outputs": [
    {
     "name": "stdout",
     "output_type": "stream",
     "text": [
      "1d random float array:\n",
      " [0.45137772 0.8752461  0.84948206 0.56203274 0.641447  ]\n"
     ]
    }
   ],
   "source": [
    "# generate 1d array of 5 random numbers between 0-1\n",
    "floatarray =np.random.rand(5)\n",
    "print(\"1d random float array:\\n\",floatarray)"
   ]
  },
  {
   "cell_type": "code",
   "execution_count": 69,
   "id": "e77e4040-4872-4fc0-adc7-3e6e966b69ab",
   "metadata": {},
   "outputs": [
    {
     "name": "stdout",
     "output_type": "stream",
     "text": [
      "random integer array\n",
      " [[5 2 4 4]\n",
      " [7 6 2 3]\n",
      " [0 1 0 5]]\n"
     ]
    }
   ],
   "source": [
    "# generate 2d array of shape (3,4) with random integers\n",
    "result=np.random.randint(0,10,(3,4))\n",
    "print(\"random integer array\\n\",result)"
   ]
  },
  {
   "cell_type": "code",
   "execution_count": 70,
   "id": "ae20810e-3470-48c1-b01e-573b07b7b72e",
   "metadata": {},
   "outputs": [],
   "source": [
    "# create an array of integer from 1 to 5\n",
    "array1 = np.array([1,2,3,4,5])"
   ]
  },
  {
   "cell_type": "code",
   "execution_count": 71,
   "id": "ac2b94a9-20a3-4859-b919-fcb307f629bb",
   "metadata": {},
   "outputs": [
    {
     "name": "stdout",
     "output_type": "stream",
     "text": [
      "3\n"
     ]
    }
   ],
   "source": [
    "# choose a random number from array1\n",
    "randomchoice=np.random.choice(array1)\n",
    "print(randomchoice)"
   ]
  },
  {
   "cell_type": "markdown",
   "id": "26a14c24-ec2e-4926-b85e-d64665dd1c33",
   "metadata": {},
   "source": [
    "* number from normal distribution with zero mean and standard deviation 1 i.e. standard deviation"
   ]
  },
  {
   "cell_type": "code",
   "execution_count": 72,
   "id": "44e85e56-7ef5-4a7c-9321-1eb00bbb0893",
   "metadata": {},
   "outputs": [
    {
     "data": {
      "text/plain": [
       "array([[ 2.03334204,  1.04948652, -1.18133019, -1.05202642,  0.8185578 ],\n",
       "       [ 1.76371694, -0.36789782,  0.90919047, -0.22421927, -1.97226011],\n",
       "       [-1.15282144,  0.57467233,  0.25188985, -0.02186307, -0.56359089],\n",
       "       [ 0.0107299 ,  0.36291229,  0.80223518, -1.24092702, -0.23204471],\n",
       "       [-0.40171519,  0.89062995, -0.20614035, -0.63273209,  0.89366461]])"
      ]
     },
     "execution_count": 72,
     "metadata": {},
     "output_type": "execute_result"
    }
   ],
   "source": [
    "np.random.randn(5,5)"
   ]
  },
  {
   "cell_type": "code",
   "execution_count": 73,
   "id": "b507a4ba-3b26-4aab-a047-ac7350634886",
   "metadata": {},
   "outputs": [],
   "source": [
    "import numpy as np\n",
    "from numpy.random import randint as ri"
   ]
  },
  {
   "cell_type": "code",
   "execution_count": 74,
   "id": "1dd54084-2987-4362-8300-5164fa11c629",
   "metadata": {},
   "outputs": [],
   "source": [
    "#np.random.seed(100)"
   ]
  },
  {
   "cell_type": "code",
   "execution_count": 75,
   "id": "f8fa4272-9903-423e-8523-1715a514a142",
   "metadata": {},
   "outputs": [
    {
     "data": {
      "text/plain": [
       "array([[11, 74, 85, 80, 81, 63],\n",
       "       [26,  2, 76, 78, 58, 27],\n",
       "       [34, 69, 34,  9,  3, 77],\n",
       "       [85, 92, 32, 67,  6, 27],\n",
       "       [16, 90, 87, 44, 70, 50]])"
      ]
     },
     "execution_count": 75,
     "metadata": {},
     "output_type": "execute_result"
    }
   ],
   "source": [
    "np.random.seed(6)\n",
    "ri(1,100,(5,6))"
   ]
  },
  {
   "cell_type": "code",
   "execution_count": 76,
   "id": "36f0d319-4c3a-43c5-a31f-5642abcd1ce2",
   "metadata": {},
   "outputs": [
    {
     "data": {
      "text/plain": [
       "array([[27,  9, 73,  8, 92],\n",
       "       [27, 15, 11, 38, 68],\n",
       "       [41,  4, 27,  4, 28],\n",
       "       [11, 25, 27, 83, 98],\n",
       "       [89, 60, 50, 37, 93]])"
      ]
     },
     "execution_count": 76,
     "metadata": {},
     "output_type": "execute_result"
    }
   ],
   "source": [
    "np.random.seed(244)\n",
    "m=ri(1,100,25).reshape(5,5)\n",
    "m"
   ]
  },
  {
   "cell_type": "code",
   "execution_count": 77,
   "id": "f1527a52-c6c2-4d36-8cda-40e40355c3e2",
   "metadata": {},
   "outputs": [
    {
     "data": {
      "text/plain": [
       "array([[ 8,  9, 27, 73, 92],\n",
       "       [11, 15, 27, 38, 68],\n",
       "       [ 4,  4, 27, 28, 41],\n",
       "       [11, 25, 27, 83, 98],\n",
       "       [37, 50, 60, 89, 93]])"
      ]
     },
     "execution_count": 77,
     "metadata": {},
     "output_type": "execute_result"
    }
   ],
   "source": [
    "np.sort(m)"
   ]
  },
  {
   "cell_type": "code",
   "execution_count": 78,
   "id": "766c7f52-5de8-44c2-a22a-ad0cc77ce3d4",
   "metadata": {},
   "outputs": [
    {
     "data": {
      "text/plain": [
       "array([[11,  4, 11,  4, 28],\n",
       "       [27,  9, 27,  8, 68],\n",
       "       [27, 15, 27, 37, 92],\n",
       "       [41, 25, 50, 38, 93],\n",
       "       [89, 60, 73, 83, 98]])"
      ]
     },
     "execution_count": 78,
     "metadata": {},
     "output_type": "execute_result"
    }
   ],
   "source": [
    "np.sort(m, axis=0)"
   ]
  },
  {
   "cell_type": "code",
   "execution_count": 79,
   "id": "01d3fb3b-b8c1-4f0e-aa10-8390c4ee0d4e",
   "metadata": {},
   "outputs": [
    {
     "data": {
      "text/plain": [
       "array([[87, 98,  3, 58, 87],\n",
       "       [27,  9, 82,  6, 60],\n",
       "       [17,  6, 43, 94, 13],\n",
       "       [69, 82, 59,  3,  1],\n",
       "       [18, 70, 85,  6, 25],\n",
       "       [85,  8, 83, 46, 15]])"
      ]
     },
     "execution_count": 79,
     "metadata": {},
     "output_type": "execute_result"
    }
   ],
   "source": [
    "a=ri(1,100,30)\n",
    "b=a.reshape(6,5)\n",
    "b"
   ]
  },
  {
   "cell_type": "code",
   "execution_count": 80,
   "id": "c8200e89-30be-4f57-a855-b06ebd1d0766",
   "metadata": {},
   "outputs": [
    {
     "data": {
      "text/plain": [
       "array([87, 98,  3, 58, 87, 27,  9, 82,  6, 60, 17,  6, 43, 94, 13, 69, 82,\n",
       "       59,  3,  1, 18, 70, 85,  6, 25, 85,  8, 83, 46, 15])"
      ]
     },
     "execution_count": 80,
     "metadata": {},
     "output_type": "execute_result"
    }
   ],
   "source": [
    "a"
   ]
  },
  {
   "cell_type": "code",
   "execution_count": 81,
   "id": "98e2bf71-8064-498f-8992-b62889ff7401",
   "metadata": {},
   "outputs": [
    {
     "data": {
      "text/plain": [
       "98"
      ]
     },
     "execution_count": 81,
     "metadata": {},
     "output_type": "execute_result"
    }
   ],
   "source": [
    "a.max()"
   ]
  },
  {
   "cell_type": "code",
   "execution_count": 82,
   "id": "fc14aa75-33e3-4e2d-88cc-b4b605f525e9",
   "metadata": {},
   "outputs": [
    {
     "data": {
      "text/plain": [
       "1"
      ]
     },
     "execution_count": 82,
     "metadata": {},
     "output_type": "execute_result"
    }
   ],
   "source": [
    "a.min()"
   ]
  },
  {
   "cell_type": "code",
   "execution_count": 83,
   "id": "ee422302-2482-462e-8b97-f4a3729cc7e7",
   "metadata": {},
   "outputs": [
    {
     "data": {
      "text/plain": [
       "1"
      ]
     },
     "execution_count": 83,
     "metadata": {},
     "output_type": "execute_result"
    }
   ],
   "source": [
    "a.argmax()"
   ]
  },
  {
   "cell_type": "code",
   "execution_count": 84,
   "id": "c10aa30e-4b4a-4732-a2dd-8b3adb695ca5",
   "metadata": {},
   "outputs": [
    {
     "data": {
      "text/plain": [
       "array([1, 2, 3, 4, 0], dtype=int64)"
      ]
     },
     "execution_count": 84,
     "metadata": {},
     "output_type": "execute_result"
    }
   ],
   "source": [
    "ls=[121,23,34,45,56]\n",
    "a=np.array(ls)\n",
    "a.argsort()"
   ]
  },
  {
   "cell_type": "code",
   "execution_count": 85,
   "id": "2a089dd9-d3e8-49b4-a7d7-4a491a96d52d",
   "metadata": {},
   "outputs": [
    {
     "data": {
      "text/plain": [
       "1"
      ]
     },
     "execution_count": 85,
     "metadata": {},
     "output_type": "execute_result"
    }
   ],
   "source": [
    "b.argmax()"
   ]
  },
  {
   "cell_type": "code",
   "execution_count": 86,
   "id": "f8f88b45-31f1-4501-9e25-8ac5d981511b",
   "metadata": {},
   "outputs": [
    {
     "data": {
      "text/plain": [
       "array([1, 2, 3, 1, 2, 0], dtype=int64)"
      ]
     },
     "execution_count": 86,
     "metadata": {},
     "output_type": "execute_result"
    }
   ],
   "source": [
    "b.argmax(axis=1)"
   ]
  },
  {
   "cell_type": "code",
   "execution_count": 87,
   "id": "21ca879c-060c-4418-b36f-7e04e3279c0c",
   "metadata": {},
   "outputs": [
    {
     "name": "stdout",
     "output_type": "stream",
     "text": [
      "[ 1  2  3  4  5  6  7  8  9 10 11 12 13 14 15 16 17 18 19 20]\n"
     ]
    }
   ],
   "source": [
    "a=np.arange(1,21)\n",
    "print(a)"
   ]
  },
  {
   "cell_type": "code",
   "execution_count": 88,
   "id": "2c316c37-4a24-475d-9ced-3b3ae0f1051d",
   "metadata": {},
   "outputs": [
    {
     "data": {
      "text/plain": [
       "array([False, False, False, False, False, False, False, False, False,\n",
       "       False,  True,  True,  True,  True,  True,  True,  True,  True,\n",
       "        True,  True])"
      ]
     },
     "execution_count": 88,
     "metadata": {},
     "output_type": "execute_result"
    }
   ],
   "source": [
    "a>10"
   ]
  },
  {
   "cell_type": "code",
   "execution_count": 89,
   "id": "af337489-ec08-4052-a873-b7a4f2db3a28",
   "metadata": {},
   "outputs": [
    {
     "data": {
      "text/plain": [
       "array([11, 12, 13, 14, 15, 16, 17, 18, 19, 20])"
      ]
     },
     "execution_count": 89,
     "metadata": {},
     "output_type": "execute_result"
    }
   ],
   "source": [
    "a[a>10]"
   ]
  },
  {
   "cell_type": "code",
   "execution_count": 90,
   "id": "bcd6ff9d-c49f-4e6c-9b0c-1873a0ac52d7",
   "metadata": {},
   "outputs": [
    {
     "data": {
      "text/plain": [
       "array([1, 2, 3, 4, 5, 6, 7, 8, 9])"
      ]
     },
     "execution_count": 90,
     "metadata": {},
     "output_type": "execute_result"
    }
   ],
   "source": [
    "a[a<10]"
   ]
  },
  {
   "cell_type": "code",
   "execution_count": 91,
   "id": "3d8a949d-9793-4977-a140-b61ada749707",
   "metadata": {},
   "outputs": [
    {
     "data": {
      "text/plain": [
       "array([ 2,  4,  6,  8, 10, 12, 14, 16, 18, 20])"
      ]
     },
     "execution_count": 91,
     "metadata": {},
     "output_type": "execute_result"
    }
   ],
   "source": [
    "a[a%2==0]"
   ]
  },
  {
   "cell_type": "code",
   "execution_count": 92,
   "id": "669db7a8-b088-4832-bd39-0b61105f9ad2",
   "metadata": {},
   "outputs": [
    {
     "data": {
      "text/plain": [
       "array([ 1,  3,  5,  7,  9, 11, 13, 15, 17, 19])"
      ]
     },
     "execution_count": 92,
     "metadata": {},
     "output_type": "execute_result"
    }
   ],
   "source": [
    "a[a%2 !=0]"
   ]
  },
  {
   "cell_type": "code",
   "execution_count": 93,
   "id": "3dafca22-937e-4fbd-85c0-96f37d3af095",
   "metadata": {},
   "outputs": [
    {
     "data": {
      "text/plain": [
       "array([5])"
      ]
     },
     "execution_count": 93,
     "metadata": {},
     "output_type": "execute_result"
    }
   ],
   "source": [
    "a[a==5]"
   ]
  },
  {
   "cell_type": "code",
   "execution_count": 94,
   "id": "b91abf52-97a8-48b3-b715-c6a3b571f932",
   "metadata": {},
   "outputs": [
    {
     "data": {
      "text/plain": [
       "array([1, 2, 3, 4])"
      ]
     },
     "execution_count": 94,
     "metadata": {},
     "output_type": "execute_result"
    }
   ],
   "source": [
    "a[a<5]"
   ]
  },
  {
   "cell_type": "code",
   "execution_count": 95,
   "id": "71a1ef3f-1aa9-44fa-b0f5-159827aeedf0",
   "metadata": {},
   "outputs": [
    {
     "data": {
      "text/plain": [
       "array([ 0,  2,  0,  4,  0,  6,  0,  8,  0, 10,  0, 12,  0, 14,  0, 16,  0,\n",
       "       18,  0, 20])"
      ]
     },
     "execution_count": 95,
     "metadata": {},
     "output_type": "execute_result"
    }
   ],
   "source": [
    "a[a%2 !=0]=0\n",
    "a"
   ]
  },
  {
   "cell_type": "code",
   "execution_count": 96,
   "id": "1c1c9923-6257-40dc-b580-6e4ee25790a3",
   "metadata": {},
   "outputs": [
    {
     "data": {
      "text/plain": [
       "(array([], dtype=int64),)"
      ]
     },
     "execution_count": 96,
     "metadata": {},
     "output_type": "execute_result"
    }
   ],
   "source": [
    "np.where(a==3)"
   ]
  },
  {
   "cell_type": "code",
   "execution_count": 97,
   "id": "ff263f42-84d8-4290-88d5-d3c52b3052c9",
   "metadata": {},
   "outputs": [
    {
     "name": "stdout",
     "output_type": "stream",
     "text": [
      "[1 2 3 4 5 6]\n"
     ]
    }
   ],
   "source": [
    "b=np.array([1,2,3,4,5,6])\n",
    "print(b)"
   ]
  },
  {
   "cell_type": "code",
   "execution_count": 101,
   "id": "c6dbae25-8aa0-4c39-976f-f39c43ffc589",
   "metadata": {},
   "outputs": [
    {
     "data": {
      "text/plain": [
       "(array([4, 5], dtype=int64),)"
      ]
     },
     "execution_count": 101,
     "metadata": {},
     "output_type": "execute_result"
    }
   ],
   "source": [
    "np.where(b>4)"
   ]
  },
  {
   "cell_type": "code",
   "execution_count": null,
   "id": "5a840a2a-64f2-4296-a26d-a3e83c0dc6d2",
   "metadata": {},
   "outputs": [],
   "source": []
  }
 ],
 "metadata": {
  "kernelspec": {
   "display_name": "Python 3 (ipykernel)",
   "language": "python",
   "name": "python3"
  },
  "language_info": {
   "codemirror_mode": {
    "name": "ipython",
    "version": 3
   },
   "file_extension": ".py",
   "mimetype": "text/x-python",
   "name": "python",
   "nbconvert_exporter": "python",
   "pygments_lexer": "ipython3",
   "version": "3.11.7"
  }
 },
 "nbformat": 4,
 "nbformat_minor": 5
}
