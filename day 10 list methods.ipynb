{
 "cells": [
  {
   "cell_type": "code",
   "execution_count": 1,
   "id": "97a70ae6-dbe8-44a4-895c-a1028dcd7bbc",
   "metadata": {},
   "outputs": [
    {
     "name": "stdout",
     "output_type": "stream",
     "text": [
      "[12, 23, 34, 45, 56, 67]\n",
      "[12, 23, 34, 45, 56, 67, 98]\n"
     ]
    }
   ],
   "source": [
    "ls=[12,23,34,45,56,67]\n",
    "print(ls)\n",
    "ls.append(98)\n",
    "print(ls)"
   ]
  },
  {
   "cell_type": "code",
   "execution_count": 2,
   "id": "8305e96e-ceb8-4b37-a86d-2ddcf72da993",
   "metadata": {},
   "outputs": [
    {
     "name": "stdout",
     "output_type": "stream",
     "text": [
      "[12, 23, 34, 45, 56, 67]\n",
      "[12, 23, 34, 45, 56, 67, 98]\n",
      "[12, 23, 34, 45, 56, 67, 98, ['hello', 'how']]\n"
     ]
    }
   ],
   "source": [
    "ls=[12,23,34,45,56,67]\n",
    "print(ls)\n",
    "ls.append(98)\n",
    "print(ls)\n",
    "ls.append([\"hello\" ,\"how\"])\n",
    "print(ls)"
   ]
  },
  {
   "cell_type": "code",
   "execution_count": 2,
   "id": "285b0c0b-7880-4e31-b08d-1ebb8fa54001",
   "metadata": {},
   "outputs": [
    {
     "name": "stdin",
     "output_type": "stream",
     "text": [
      "enter the number 0\n"
     ]
    },
    {
     "name": "stdout",
     "output_type": "stream",
     "text": [
      "[0]\n"
     ]
    },
    {
     "name": "stdin",
     "output_type": "stream",
     "text": [
      "enter the number 1\n"
     ]
    },
    {
     "name": "stdout",
     "output_type": "stream",
     "text": [
      "[0, 1]\n"
     ]
    },
    {
     "name": "stdin",
     "output_type": "stream",
     "text": [
      "enter the number 2\n"
     ]
    },
    {
     "name": "stdout",
     "output_type": "stream",
     "text": [
      "[0, 1, 2]\n"
     ]
    },
    {
     "name": "stdin",
     "output_type": "stream",
     "text": [
      "enter the number 3\n"
     ]
    },
    {
     "name": "stdout",
     "output_type": "stream",
     "text": [
      "[0, 1, 2, 3]\n"
     ]
    },
    {
     "name": "stdin",
     "output_type": "stream",
     "text": [
      "enter the number 4\n"
     ]
    },
    {
     "name": "stdout",
     "output_type": "stream",
     "text": [
      "[0, 1, 2, 3, 4]\n"
     ]
    },
    {
     "name": "stdin",
     "output_type": "stream",
     "text": [
      "enter the number 5\n"
     ]
    },
    {
     "name": "stdout",
     "output_type": "stream",
     "text": [
      "[0, 1, 2, 3, 4, 5]\n"
     ]
    },
    {
     "name": "stdin",
     "output_type": "stream",
     "text": [
      "enter the number 6\n"
     ]
    },
    {
     "name": "stdout",
     "output_type": "stream",
     "text": [
      "[0, 1, 2, 3, 4, 5, 6]\n"
     ]
    },
    {
     "name": "stdin",
     "output_type": "stream",
     "text": [
      "enter the number 7\n"
     ]
    },
    {
     "name": "stdout",
     "output_type": "stream",
     "text": [
      "[0, 1, 2, 3, 4, 5, 6, 7]\n"
     ]
    },
    {
     "name": "stdin",
     "output_type": "stream",
     "text": [
      "enter the number 8\n"
     ]
    },
    {
     "name": "stdout",
     "output_type": "stream",
     "text": [
      "[0, 1, 2, 3, 4, 5, 6, 7, 8]\n"
     ]
    },
    {
     "name": "stdin",
     "output_type": "stream",
     "text": [
      "enter the number 8\n"
     ]
    },
    {
     "name": "stdout",
     "output_type": "stream",
     "text": [
      "[0, 1, 2, 3, 4, 5, 6, 7, 8, 8]\n"
     ]
    }
   ],
   "source": [
    "#make the list of 10 number\n",
    "ls=[]\n",
    "for i in range(10):\n",
    "    n=int(input(\"enter the number\"))\n",
    "    ls.append(n)\n",
    "    print(ls)\n"
   ]
  },
  {
   "cell_type": "code",
   "execution_count": 7,
   "id": "29d6660d-3c39-4573-af36-913fe04f4666",
   "metadata": {},
   "outputs": [
    {
     "name": "stdin",
     "output_type": "stream",
     "text": [
      "enter the number 1\n",
      "enter the number 2\n",
      "enter the number 3\n",
      "enter the number 4\n",
      "enter the number 5\n",
      "enter the number 6\n",
      "enter the number 7\n",
      "enter the number 8\n",
      "enter the number 9\n",
      "enter the number 0\n"
     ]
    },
    {
     "name": "stdout",
     "output_type": "stream",
     "text": [
      "[1, 2, 3, 4, 5, 6, 7, 8, 9, 0]\n",
      "the sum of list is 45\n"
     ]
    }
   ],
   "source": [
    "#sum of the 5 integer of your choice\n",
    "ls=[]\n",
    "for i in range(10):\n",
    "    n=int(input(\"enter the number\"))\n",
    "    ls.append(n)\n",
    "print(ls)\n",
    "print(\"the sum of list is\",sum(ls))"
   ]
  },
  {
   "cell_type": "code",
   "execution_count": 8,
   "id": "0a26cde5-8c56-4b83-8bd9-b76eab438544",
   "metadata": {},
   "outputs": [
    {
     "name": "stdin",
     "output_type": "stream",
     "text": [
      "enter the number 1\n",
      "enter the number 2\n",
      "enter the number 3\n",
      "enter the number 4\n",
      "enter the number 5\n",
      "enter the number 6\n",
      "enter the number 7\n",
      "enter the number 8\n",
      "enter the number 9\n",
      "enter the number 0\n"
     ]
    },
    {
     "name": "stdout",
     "output_type": "stream",
     "text": [
      "[1, 2, 3, 4, 5, 6, 7, 8, 9, 0]\n",
      "the sum is 45\n"
     ]
    }
   ],
   "source": [
    "ls=[]\n",
    "for i in range(10):\n",
    "    n=int(input(\"enter the number\"))\n",
    "    ls.append(n)\n",
    "print(ls)\n",
    "s=0\n",
    "for i in ls:\n",
    "    s=s+i\n",
    "print(\"the sum is\",s)"
   ]
  },
  {
   "cell_type": "code",
   "execution_count": 12,
   "id": "008b3f96-e3e5-4d03-b3eb-c5691dabdd5a",
   "metadata": {},
   "outputs": [
    {
     "name": "stdout",
     "output_type": "stream",
     "text": [
      "original list  [0, 1, 2, 3, 4, 5, 6, 7, 8, 9, 10, 11, 12, 13, 14, 15, 16, 17, 18, 19, 20, 21, 22, 23, 24, 25, 26, 27, 28, 29, 30, 31, 32, 33, 34, 35, 36, 37, 38, 39, 40, 41, 42, 43, 44, 45, 46, 47, 48, 49]\n",
      "even list [0, 2, 4, 6, 8, 10, 12, 14, 16, 18, 20, 22, 24, 26, 28, 30, 32, 34, 36, 38, 40, 42, 44, 46, 48]\n",
      "odd list [1, 3, 5, 7, 9, 11, 13, 15, 17, 19, 21, 23, 25, 27, 29, 31, 33, 35, 37, 39, 41, 43, 45, 47, 49]\n"
     ]
    }
   ],
   "source": [
    "#make the list of even and odd numbers separately\n",
    "ls=[]\n",
    "lse=[]\n",
    "lso=[]\n",
    "for i in range(50):\n",
    "    ls.append(i)\n",
    "print(\"original list \",ls)\n",
    "for i in ls:\n",
    "    if i%2==0:\n",
    "        lse.append(i)\n",
    "    else:\n",
    "        lso.append(i)\n",
    "print(\"even list\",lse)\n",
    "print(\"odd list\",lso)"
   ]
  },
  {
   "cell_type": "code",
   "execution_count": 4,
   "id": "c729579c-8b41-4bba-90ff-c4f2ad9c4272",
   "metadata": {},
   "outputs": [
    {
     "name": "stdin",
     "output_type": "stream",
     "text": [
      "enter the number 1\n",
      "enter the number 2\n",
      "enter the number 3\n",
      "enter the number 4\n",
      "enter the number 5\n"
     ]
    },
    {
     "name": "stdout",
     "output_type": "stream",
     "text": [
      "[1, 2, 3, 4, 5]\n",
      "max element is 5\n"
     ]
    }
   ],
   "source": [
    "#fimd the maximum number in  the list\n",
    "ls=[]\n",
    "for i in range(5):\n",
    "    n=int(input(\"enter the number\"))\n",
    "    ls.append(n)\n",
    "print(ls)\n",
    "print(\"max element is\",max(ls))"
   ]
  },
  {
   "cell_type": "code",
   "execution_count": 5,
   "id": "505d9d8b-2c87-4937-8463-b4ed2522a1e0",
   "metadata": {},
   "outputs": [
    {
     "name": "stdin",
     "output_type": "stream",
     "text": [
      "enter the number 1\n",
      "enter the number 2\n",
      "enter the number 3\n",
      "enter the number 4\n",
      "enter the number 5\n"
     ]
    },
    {
     "name": "stdout",
     "output_type": "stream",
     "text": [
      "[1, 2, 3, 4, 5]\n",
      "max element is 1\n"
     ]
    }
   ],
   "source": [
    "#fimd the minimum number in  the list\n",
    "ls=[]\n",
    "for i in range(5):\n",
    "    n=int(input(\"enter the number\"))\n",
    "    ls.append(n)\n",
    "print(ls)\n",
    "print(\"max element is\",min(ls))"
   ]
  },
  {
   "cell_type": "code",
   "execution_count": 11,
   "id": "409bedfa-0f88-490f-b242-9d96b0745eec",
   "metadata": {},
   "outputs": [
    {
     "name": "stdin",
     "output_type": "stream",
     "text": [
      "enter the number 12\n",
      "enter the number 23\n",
      "enter the number 24\n",
      "enter the number 56\n",
      "enter the number 54\n"
     ]
    },
    {
     "name": "stdout",
     "output_type": "stream",
     "text": [
      "[12, 23, 24, 56, 54]\n",
      "max element is 56\n",
      "maximum is 56\n"
     ]
    }
   ],
   "source": [
    "#fimd the maximum number in  the list\n",
    "ls=[]\n",
    "for i in range(5):\n",
    "    n=int(input(\"enter the number\"))\n",
    "    ls.append(n)\n",
    "print(ls)\n",
    "print(\"max element is\",max (ls))\n",
    "\n",
    "large=ls[0]\n",
    "for i in ls:\n",
    "    if i>large:\n",
    "        large=i\n",
    "print(\"maximum is\",large)"
   ]
  },
  {
   "cell_type": "code",
   "execution_count": 12,
   "id": "35ef6511-a539-441c-a835-6952aac14276",
   "metadata": {},
   "outputs": [
    {
     "name": "stdout",
     "output_type": "stream",
     "text": [
      "[12, 23, 45, 56]\n",
      "[12, 23, 45, 56, 98, 99, 78]\n"
     ]
    }
   ],
   "source": [
    "#extend\n",
    "ls=[12,23,45,56]\n",
    "print(ls)\n",
    "ls.extend([98,99,78])\n",
    "print(ls)\n",
    "\n"
   ]
  },
  {
   "cell_type": "code",
   "execution_count": 14,
   "id": "13ec51f8-3ebd-487d-9bdf-d4a6ad46b709",
   "metadata": {},
   "outputs": [
    {
     "name": "stdout",
     "output_type": "stream",
     "text": [
      "[12, 25, 215, 145, 45, 45]\n"
     ]
    }
   ],
   "source": [
    "a=[12,25,215]\n",
    "b=[145,45,45]\n",
    "c=a+b\n",
    "print(c)"
   ]
  },
  {
   "cell_type": "code",
   "execution_count": 15,
   "id": "89845422-32f5-4621-b819-e74bb281aae0",
   "metadata": {},
   "outputs": [
    {
     "name": "stdout",
     "output_type": "stream",
     "text": [
      "[12, 25, 215, 145, 45, 45]\n"
     ]
    }
   ],
   "source": [
    "a=[12,25,215]\n",
    "b=[145,45,45]\n",
    "a.extend(b)\n",
    "print(a)"
   ]
  },
  {
   "cell_type": "code",
   "execution_count": 19,
   "id": "3682b436-7d8d-4ce2-9719-49662b1c3645",
   "metadata": {},
   "outputs": [
    {
     "name": "stdout",
     "output_type": "stream",
     "text": [
      "[12, 25, 215, 145, 45, 45, 45, 56]\n"
     ]
    }
   ],
   "source": [
    "a=[12,25,215]\n",
    "b=[145,45,45]\n",
    "c=[45,56]\n",
    "a.extend([*b,*c])\n",
    "print(a)"
   ]
  },
  {
   "cell_type": "code",
   "execution_count": null,
   "id": "76566bef-2393-4e09-8f55-29a4274ae822",
   "metadata": {},
   "outputs": [],
   "source": []
  }
 ],
 "metadata": {
  "kernelspec": {
   "display_name": "Python 3 (ipykernel)",
   "language": "python",
   "name": "python3"
  },
  "language_info": {
   "codemirror_mode": {
    "name": "ipython",
    "version": 3
   },
   "file_extension": ".py",
   "mimetype": "text/x-python",
   "name": "python",
   "nbconvert_exporter": "python",
   "pygments_lexer": "ipython3",
   "version": "3.12.4"
  }
 },
 "nbformat": 4,
 "nbformat_minor": 5
}
