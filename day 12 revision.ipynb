{
 "cells": [
  {
   "cell_type": "code",
   "execution_count": 1,
   "id": "6292d363-857c-4bab-8007-afdaf9cee5b6",
   "metadata": {},
   "outputs": [
    {
     "name": "stdout",
     "output_type": "stream",
     "text": [
      "23\n"
     ]
    }
   ],
   "source": [
    "l=[1,5,9]\n",
    "print(sum(l)+max(l)-min(l))"
   ]
  },
  {
   "cell_type": "code",
   "execution_count": 3,
   "id": "f9f71ace-5a51-4a75-bf92-57573067a89e",
   "metadata": {},
   "outputs": [
    {
     "name": "stdout",
     "output_type": "stream",
     "text": [
      "10\n"
     ]
    }
   ],
   "source": [
    "l=[1,2,3,4,5,6,7,8,9,10]\n",
    "print(l[len(l)-1])"
   ]
  },
  {
   "cell_type": "code",
   "execution_count": 5,
   "id": "50dadda0-7d0b-4d68-b495-ed011b151802",
   "metadata": {},
   "outputs": [
    {
     "name": "stdout",
     "output_type": "stream",
     "text": [
      "False\n"
     ]
    }
   ],
   "source": [
    "print(1 in [[1],2,3])"
   ]
  },
  {
   "cell_type": "code",
   "execution_count": 6,
   "id": "d67d5513-8535-4bfc-a16f-f765670fe6e0",
   "metadata": {},
   "outputs": [
    {
     "name": "stdout",
     "output_type": "stream",
     "text": [
      "m\n"
     ]
    }
   ],
   "source": [
    "l=[\"amit\",'sumit','ravi']\n",
    "print(l[0][1])"
   ]
  },
  {
   "cell_type": "code",
   "execution_count": 16,
   "id": "c7e56998-bb35-42a9-b0d0-5a7be231886e",
   "metadata": {},
   "outputs": [
    {
     "name": "stdout",
     "output_type": "stream",
     "text": [
      "[23, 45, 65, 'monitor', 32, 3]\n"
     ]
    }
   ],
   "source": [
    "l=[23,45,65,32,3]\n",
    "l.insert(l[4],'monitor')\n",
    "print(l)\n"
   ]
  },
  {
   "cell_type": "code",
   "execution_count": 17,
   "id": "57167606-29e4-4940-aa38-01646b76a9de",
   "metadata": {},
   "outputs": [
    {
     "data": {
      "text/plain": [
       "[11, 21, 33, 65, 88, 98]"
      ]
     },
     "execution_count": 17,
     "metadata": {},
     "output_type": "execute_result"
    }
   ],
   "source": [
    "mylist=[88,65,33,21,11,98]\n",
    "sorted(mylist)"
   ]
  },
  {
   "cell_type": "code",
   "execution_count": 18,
   "id": "cdec407a-d718-427c-86ea-37aa8ffb15ae",
   "metadata": {},
   "outputs": [
    {
     "name": "stdout",
     "output_type": "stream",
     "text": [
      "[88, 65, 33, 21, 11, 98]\n"
     ]
    }
   ],
   "source": [
    "print(mylist)"
   ]
  },
  {
   "cell_type": "code",
   "execution_count": 20,
   "id": "0d5600d7-74ba-43cf-a65f-4a263adc4b03",
   "metadata": {},
   "outputs": [
    {
     "name": "stdout",
     "output_type": "stream",
     "text": [
      "10.0\n"
     ]
    }
   ],
   "source": [
    "a=10.\n",
    "print(a)"
   ]
  },
  {
   "cell_type": "code",
   "execution_count": 24,
   "id": "a5a39c64-2e66-4c78-949e-eb7e0194d39d",
   "metadata": {},
   "outputs": [
    {
     "name": "stdout",
     "output_type": "stream",
     "text": [
      "addition of 5 and 2 will give :- 7\n",
      "\n"
     ]
    }
   ],
   "source": [
    "\n",
    "a=5\n",
    "b=2\n",
    "c=a+b\n",
    "print('addition of {} and {} will give :- {}\\n'.format(a,b,c))"
   ]
  },
  {
   "cell_type": "code",
   "execution_count": 26,
   "id": "514d0206-a5ec-435b-93f1-066919011e63",
   "metadata": {},
   "outputs": [
    {
     "name": "stdout",
     "output_type": "stream",
     "text": [
      "subtracting 5 form 2 will give :- 3\n",
      "\n"
     ]
    }
   ],
   "source": [
    "c=a-b\n",
    "print('subtracting {} form {} will give :- {}\\n'.format(a,b,c))"
   ]
  },
  {
   "cell_type": "code",
   "execution_count": null,
   "id": "92264c3f-41ba-49e2-a323-ecd716b58677",
   "metadata": {},
   "outputs": [],
   "source": []
  }
 ],
 "metadata": {
  "kernelspec": {
   "display_name": "Python 3 (ipykernel)",
   "language": "python",
   "name": "python3"
  },
  "language_info": {
   "codemirror_mode": {
    "name": "ipython",
    "version": 3
   },
   "file_extension": ".py",
   "mimetype": "text/x-python",
   "name": "python",
   "nbconvert_exporter": "python",
   "pygments_lexer": "ipython3",
   "version": "3.11.7"
  }
 },
 "nbformat": 4,
 "nbformat_minor": 5
}
