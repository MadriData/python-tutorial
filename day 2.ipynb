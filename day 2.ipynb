{
 "cells": [
  {
   "cell_type": "code",
   "execution_count": 1,
   "id": "406dc8ca-a846-4659-853f-480e3d358ee3",
   "metadata": {},
   "outputs": [],
   "source": [
    "a=20\n",
    "b=18"
   ]
  },
  {
   "cell_type": "code",
   "execution_count": 2,
   "id": "38c368d5-4d55-4fba-93a1-55226568bb41",
   "metadata": {},
   "outputs": [
    {
     "data": {
      "text/plain": [
       "False"
      ]
     },
     "execution_count": 2,
     "metadata": {},
     "output_type": "execute_result"
    }
   ],
   "source": [
    "a==b"
   ]
  },
  {
   "cell_type": "code",
   "execution_count": 3,
   "id": "69f16f9b-c246-427e-9bdb-293214f9d71c",
   "metadata": {},
   "outputs": [
    {
     "data": {
      "text/plain": [
       "True"
      ]
     },
     "execution_count": 3,
     "metadata": {},
     "output_type": "execute_result"
    }
   ],
   "source": [
    "a>b"
   ]
  },
  {
   "cell_type": "code",
   "execution_count": 5,
   "id": "96da1329-6a80-4856-a4cf-40817bb8e0b1",
   "metadata": {},
   "outputs": [
    {
     "data": {
      "text/plain": [
       "False"
      ]
     },
     "execution_count": 5,
     "metadata": {},
     "output_type": "execute_result"
    }
   ],
   "source": [
    "a<b"
   ]
  },
  {
   "cell_type": "code",
   "execution_count": 6,
   "id": "42b66848-489d-455b-b7a9-efe1b86c9d90",
   "metadata": {},
   "outputs": [
    {
     "data": {
      "text/plain": [
       "False"
      ]
     },
     "execution_count": 6,
     "metadata": {},
     "output_type": "execute_result"
    }
   ],
   "source": [
    "a<=b #either less or equal "
   ]
  },
  {
   "cell_type": "code",
   "execution_count": 10,
   "id": "4abc768b-b636-4ba2-862e-2a3953bb6822",
   "metadata": {},
   "outputs": [
    {
     "data": {
      "text/plain": [
       "True"
      ]
     },
     "execution_count": 10,
     "metadata": {},
     "output_type": "execute_result"
    }
   ],
   "source": [
    "True and True and True"
   ]
  },
  {
   "cell_type": "code",
   "execution_count": 11,
   "id": "67654896-ec90-4be2-9bdc-10ee9d2699ce",
   "metadata": {},
   "outputs": [
    {
     "data": {
      "text/plain": [
       "False"
      ]
     },
     "execution_count": 11,
     "metadata": {},
     "output_type": "execute_result"
    }
   ],
   "source": [
    "True and True and False"
   ]
  },
  {
   "cell_type": "code",
   "execution_count": 12,
   "id": "7ab77efa-567a-4185-9904-55af76ad4d00",
   "metadata": {},
   "outputs": [
    {
     "data": {
      "text/plain": [
       "True"
      ]
     },
     "execution_count": 12,
     "metadata": {},
     "output_type": "execute_result"
    }
   ],
   "source": [
    "False or False or True"
   ]
  },
  {
   "cell_type": "code",
   "execution_count": 13,
   "id": "04920b9f-c49f-4263-97cd-e4220ff45d61",
   "metadata": {},
   "outputs": [
    {
     "data": {
      "text/plain": [
       "False"
      ]
     },
     "execution_count": 13,
     "metadata": {},
     "output_type": "execute_result"
    }
   ],
   "source": [
    "False or False or False"
   ]
  },
  {
   "cell_type": "code",
   "execution_count": 14,
   "id": "679e7282-eaba-41fb-aa93-a733c17e0fa5",
   "metadata": {},
   "outputs": [
    {
     "data": {
      "text/plain": [
       "False"
      ]
     },
     "execution_count": 14,
     "metadata": {},
     "output_type": "execute_result"
    }
   ],
   "source": [
    "not True"
   ]
  },
  {
   "cell_type": "code",
   "execution_count": 15,
   "id": "f4aeaf4f-22d9-494d-9ad6-48adfa49b03f",
   "metadata": {},
   "outputs": [
    {
     "data": {
      "text/plain": [
       "True"
      ]
     },
     "execution_count": 15,
     "metadata": {},
     "output_type": "execute_result"
    }
   ],
   "source": [
    "not False"
   ]
  },
  {
   "cell_type": "code",
   "execution_count": 17,
   "id": "7b7d051d-31e7-41e1-98ce-c98e0b983bdb",
   "metadata": {},
   "outputs": [
    {
     "data": {
      "text/plain": [
       "True"
      ]
     },
     "execution_count": 17,
     "metadata": {},
     "output_type": "execute_result"
    }
   ],
   "source": [
    "not True and True or False or True and True"
   ]
  },
  {
   "cell_type": "code",
   "execution_count": 19,
   "id": "1dcb23cc-790f-472f-93e7-ad44295984e1",
   "metadata": {},
   "outputs": [
    {
     "name": "stdin",
     "output_type": "stream",
     "text": [
      "enter the value of a 15\n",
      "enter the vlue of b 56\n"
     ]
    },
    {
     "name": "stdout",
     "output_type": "stream",
     "text": [
      "the sum is  71\n"
     ]
    }
   ],
   "source": [
    "# sum of two numbers\n",
    "a=int(input(\"enter the value of a\"))\n",
    "b=int(input(\"enter the vlue of b\"))\n",
    "c=a+b\n",
    "print(\"the sum is \",c)"
   ]
  },
  {
   "cell_type": "code",
   "execution_count": 21,
   "id": "b381c1e5-8489-424d-936d-504f9a4aeee1",
   "metadata": {},
   "outputs": [
    {
     "name": "stdin",
     "output_type": "stream",
     "text": [
      "enter the value of p 1000\n",
      "enter the value of r 10\n",
      "enter the value of t 2\n"
     ]
    },
    {
     "name": "stdout",
     "output_type": "stream",
     "text": [
      "the interest is  200.0\n"
     ]
    }
   ],
   "source": [
    "p=int(input(\"enter the value of p\"))\n",
    "r=int(input(\"enter the value of r\"))\n",
    "t=int(input(\"enter the value of t\"))\n",
    "si=p*r*t/100\n",
    "print(\"the interest is \",si)\n"
   ]
  },
  {
   "cell_type": "code",
   "execution_count": 22,
   "id": "e4aa5e42-096d-4a82-9a61-abf177b2eb85",
   "metadata": {},
   "outputs": [
    {
     "name": "stdin",
     "output_type": "stream",
     "text": [
      "enter the value of p 1000\n",
      "enter the value of r 120\n",
      "enter the value of t 500\n"
     ]
    },
    {
     "name": "stdout",
     "output_type": "stream",
     "text": [
      "the average is 540.0\n"
     ]
    }
   ],
   "source": [
    "int(input(\"enter the value of p\"))\n",
    "r=int(input(\"enter the value of r\"))\n",
    "t=int(input(\"enter the value of t\"))\n",
    "avg=(p+r+t)/3\n",
    "print(\"the average is\",avg)\n"
   ]
  },
  {
   "cell_type": "code",
   "execution_count": 24,
   "id": "ac4c50a6-a73a-4edf-8122-e44b8590df9d",
   "metadata": {},
   "outputs": [
    {
     "name": "stdin",
     "output_type": "stream",
     "text": [
      "enter the value of a 100\n",
      "enter the value of b 80\n",
      "enter the value of c 60\n",
      "enter the value of d 20\n"
     ]
    },
    {
     "name": "stdout",
     "output_type": "stream",
     "text": [
      "the perentage of marks 65.0\n"
     ]
    }
   ],
   "source": [
    "# marks of 5 subject\n",
    "a=int(input(\"enter the value of a\"))\n",
    "b=int(input(\"enter the value of b\"))\n",
    "c=int(input(\"enter the value of c\"))\n",
    "d=int(input(\"enter the value of d\"))\n",
    "e=(a+b+c+d)*100/400\n",
    "print(\"the perentage of marks\",e)"
   ]
  },
  {
   "cell_type": "code",
   "execution_count": 30,
   "id": "3ff83ffa-b156-4979-93b7-5637e7b0c1f0",
   "metadata": {},
   "outputs": [
    {
     "name": "stdin",
     "output_type": "stream",
     "text": [
      "enter the value of x 20\n",
      "enter the value of y 30\n"
     ]
    },
    {
     "name": "stdout",
     "output_type": "stream",
     "text": [
      "is X greater than y :- False\n",
      "\\is X less than y :- True\n",
      "\\is X equal to y :- False\n",
      "\\is X not equal to y :- True\n",
      "\\is X greater thanor equal y :- False\n",
      "\\is X less than or equal to y :- True\n"
     ]
    }
   ],
   "source": [
    "x=int(input(\"enter the value of x\"))\n",
    "y=int(input(\"enter the value of y\"))\n",
    "print(\"is X greater than y :-\",x>y)\n",
    "print(\"\\is X less than y :-\",x<y)\n",
    "print(\"\\is X equal to y :-\",x==y)       \n",
    "print(\"\\is X not equal to y :-\",x!=y)\n",
    "print(\"\\is X greater thanor equal y :-\",x>=y)\n",
    "print(\"\\is X less than or equal to y :-\",x<=y)\n",
    "\n"
   ]
  },
  {
   "cell_type": "code",
   "execution_count": 34,
   "id": "52690c30-9f03-4d1a-8ce4-82a41859fa60",
   "metadata": {},
   "outputs": [
    {
     "name": "stdin",
     "output_type": "stream",
     "text": [
      "enter the nubmer 10\n"
     ]
    },
    {
     "name": "stdout",
     "output_type": "stream",
     "text": [
      "3.1622776601683795\n"
     ]
    }
   ],
   "source": [
    "import math\n",
    "n=int(input('enter the nubmer'))\n",
    "x=math.sqrt(n)\n",
    "print(x)\n"
   ]
  },
  {
   "cell_type": "code",
   "execution_count": 36,
   "id": "f2dcce82-189a-4416-99c6-1b5b8c688fd3",
   "metadata": {},
   "outputs": [
    {
     "name": "stdin",
     "output_type": "stream",
     "text": [
      "enter the value of the base 2\n",
      "enter the vakue of th eexponent 2\n"
     ]
    },
    {
     "name": "stdout",
     "output_type": "stream",
     "text": [
      "4\n",
      "4.0\n"
     ]
    }
   ],
   "source": [
    "import math\n",
    "a= int(input('enter the value of the base'))\n",
    "b=int(input('enter the vakue of th eexponent'))\n",
    "print(a**b)\n",
    "print(math.pow(a,b))\n",
    "       "
   ]
  },
  {
   "cell_type": "code",
   "execution_count": 39,
   "id": "b613789b-250a-4774-880d-ea2cc1568fee",
   "metadata": {},
   "outputs": [
    {
     "name": "stdin",
     "output_type": "stream",
     "text": [
      "enter the value of the base 2\n",
      "enter the vakue of th eexponent 2\n"
     ]
    },
    {
     "name": "stdout",
     "output_type": "stream",
     "text": [
      "4\n",
      "4\n",
      "4.0\n"
     ]
    }
   ],
   "source": [
    "import math\n",
    "a= int(input('enter the value of the base'))\n",
    "b=int(input('enter the vakue of th eexponent'))\n",
    "print(a**b)\n",
    "print(pow(a,b))\n",
    "print(math.pow(a,b))\n"
   ]
  },
  {
   "cell_type": "code",
   "execution_count": null,
   "id": "7f08ea59-12ef-4fce-bc5f-0c90497c8fea",
   "metadata": {},
   "outputs": [],
   "source": []
  }
 ],
 "metadata": {
  "kernelspec": {
   "display_name": "Python 3 (ipykernel)",
   "language": "python",
   "name": "python3"
  },
  "language_info": {
   "codemirror_mode": {
    "name": "ipython",
    "version": 3
   },
   "file_extension": ".py",
   "mimetype": "text/x-python",
   "name": "python",
   "nbconvert_exporter": "python",
   "pygments_lexer": "ipython3",
   "version": "3.11.7"
  }
 },
 "nbformat": 4,
 "nbformat_minor": 5
}
