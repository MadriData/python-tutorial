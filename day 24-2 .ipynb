{
 "cells": [
  {
   "cell_type": "markdown",
   "id": "8405b51d-4725-407e-8140-48d78613e6d2",
   "metadata": {},
   "source": [
    "# dictionary comprehension"
   ]
  },
  {
   "cell_type": "code",
   "execution_count": 2,
   "id": "069e8c19-6dfc-42e6-88ce-d766a25ccea2",
   "metadata": {},
   "outputs": [
    {
     "data": {
      "text/plain": [
       "{1: 2, 2: 4, 3: 6, 4: 8, 5: 10, 6: 12, 7: 14, 8: 16, 9: 18, 10: 20}"
      ]
     },
     "execution_count": 2,
     "metadata": {},
     "output_type": "execute_result"
    }
   ],
   "source": [
    "double={i:i*2 for i in range(1,11)} #double eacch value using dict comprehension\n",
    "double"
   ]
  },
  {
   "cell_type": "code",
   "execution_count": 13,
   "id": "863b737c-e59b-4f75-9829-a853cc1c3f9a",
   "metadata": {},
   "outputs": [
    {
     "name": "stdout",
     "output_type": "stream",
     "text": [
      "one 1\n",
      "two 2\n",
      "three 3\n",
      "foour 4\n",
      "five 5\n"
     ]
    }
   ],
   "source": [
    "key = ['one','two','three','foour','five']\n",
    "value=[1,2,3,4,5]\n",
    "list(zip(key,value))\n",
    "for k,v in zip (key,value):\n",
    "    print(k,v)"
   ]
  },
  {
   "cell_type": "code",
   "execution_count": 15,
   "id": "e82f8380-f1f9-4302-98a1-4d9d764c1a3b",
   "metadata": {},
   "outputs": [
    {
     "data": {
      "text/plain": [
       "{'one': 1, 'two': 2, 'three': 3, 'foour': 4, 'five': 5}"
      ]
     },
     "execution_count": 15,
     "metadata": {},
     "output_type": "execute_result"
    }
   ],
   "source": [
    "key = ['one','two','three','foour','five']\n",
    "value=[1,2,3,4,5]\n",
    "mydict={k:v for (k,v) in zip(key,value)}\n",
    "mydict"
   ]
  },
  {
   "cell_type": "code",
   "execution_count": 16,
   "id": "04819fd4-7037-4ab6-b98f-b76b8908cb2d",
   "metadata": {},
   "outputs": [
    {
     "data": {
      "text/plain": [
       "{'a': 1.0, 'b': 2.0, 'c': 3.0, 'd': 4.0, 'e': 5.0}"
      ]
     },
     "execution_count": 16,
     "metadata": {},
     "output_type": "execute_result"
    }
   ],
   "source": [
    "mydict1={'a':10,'b':20,'c':30,'d':40,'e':50}\n",
    "mydict1={k:v/10 for (k,v) in mydict1.items() }\n",
    "mydict1"
   ]
  },
  {
   "cell_type": "code",
   "execution_count": 17,
   "id": "d5503cf7-279d-45b2-a363-6c02419fd7e7",
   "metadata": {},
   "outputs": [
    {
     "data": {
      "text/plain": [
       "{0: 'n',\n",
       " 1: 'a',\n",
       " 2: 't',\n",
       " 3: 'u',\n",
       " 4: 'a',\n",
       " 5: 'l',\n",
       " 6: ' ',\n",
       " 7: 'l',\n",
       " 8: 'a',\n",
       " 9: 'n',\n",
       " 10: 'g',\n",
       " 11: 'u',\n",
       " 12: 'a',\n",
       " 13: 'g',\n",
       " 14: 'e',\n",
       " 15: ' ',\n",
       " 16: 'p',\n",
       " 17: 'r',\n",
       " 18: 'o',\n",
       " 19: 'c',\n",
       " 20: 'e',\n",
       " 21: 's',\n",
       " 22: 's',\n",
       " 23: 'i',\n",
       " 24: 'n',\n",
       " 25: 'g'}"
      ]
     },
     "execution_count": 17,
     "metadata": {},
     "output_type": "execute_result"
    }
   ],
   "source": [
    "str1=\"natual language processing\"\n",
    "mydict2= {k:v for (k,v) in enumerate (str1)}\n",
    "mydict2"
   ]
  },
  {
   "cell_type": "code",
   "execution_count": 18,
   "id": "d44318d6-672c-47b3-837e-81887393751e",
   "metadata": {},
   "outputs": [
    {
     "data": {
      "text/plain": [
       "{'a': 'A',\n",
       " 'n': 'N',\n",
       " 'u': 'U',\n",
       " 'b': 'B',\n",
       " 'h': 'H',\n",
       " 'v': 'V',\n",
       " 's': 'S',\n",
       " 'k': 'K',\n",
       " 'w': 'W',\n",
       " 'j': 'J',\n",
       " 'i': 'I'}"
      ]
     },
     "execution_count": 18,
     "metadata": {},
     "output_type": "execute_result"
    }
   ],
   "source": [
    "str1=\"anubhvabsnaksuwhwji\"\n",
    "mydict3={i:i.upper() for i in str1}\n",
    "mydict3"
   ]
  },
  {
   "cell_type": "markdown",
   "id": "58ef33f3-a394-4b77-bd4e-7d1b38f42855",
   "metadata": {},
   "source": [
    "# lambda ,filter,map and reduce.\n",
    "# * lambda is an anonymous function.\n",
    "# * lambda function can have any number of arguments but only one expression.the expression is evaluated and returned.\n",
    "# * we use lambda function when we required a nameless function for a short period of time.\n"
   ]
  },
  {
   "cell_type": "code",
   "execution_count": 32,
   "id": "8d5aa8c3-ee1f-41a4-bd83-5d5b9d4a646b",
   "metadata": {},
   "outputs": [],
   "source": [
    "doubles=[12,23,34,56,77]"
   ]
  },
  {
   "cell_type": "code",
   "execution_count": 38,
   "id": "1de35136-0a39-4e95-8e10-9bee3d48b2b5",
   "metadata": {},
   "outputs": [
    {
     "ename": "TypeError",
     "evalue": "all() takes exactly one argument (2 given)",
     "output_type": "error",
     "traceback": [
      "\u001b[1;31m---------------------------------------------------------------------------\u001b[0m",
      "\u001b[1;31mTypeError\u001b[0m                                 Traceback (most recent call last)",
      "Cell \u001b[1;32mIn[38], line 4\u001b[0m\n\u001b[0;32m      2\u001b[0m \u001b[38;5;28;01mdef\u001b[39;00m \u001b[38;5;21madd\u001b[39m(a,b):\n\u001b[0;32m      3\u001b[0m     \u001b[38;5;28;01mreturn\u001b[39;00m a\u001b[38;5;241m+\u001b[39mb\n\u001b[1;32m----> 4\u001b[0m sumall\u001b[38;5;241m=\u001b[39mreduce(\u001b[38;5;28mall\u001b[39m,doubles)\n\u001b[0;32m      5\u001b[0m sumall\n",
      "\u001b[1;31mTypeError\u001b[0m: all() takes exactly one argument (2 given)"
     ]
    }
   ],
   "source": [
    "from functools import reduce\n",
    "def add(a,b):\n",
    "    return a+b\n",
    "sumall=reduce(all,doubles)\n",
    "sumall"
   ]
  },
  {
   "cell_type": "code",
   "execution_count": 30,
   "id": "8bfec495-ca12-4f94-bc8c-8ce15b187395",
   "metadata": {},
   "outputs": [
    {
     "ename": "NameError",
     "evalue": "name 'reduce' is not defined",
     "output_type": "error",
     "traceback": [
      "\u001b[1;31m---------------------------------------------------------------------------\u001b[0m",
      "\u001b[1;31mNameError\u001b[0m                                 Traceback (most recent call last)",
      "Cell \u001b[1;32mIn[30], line 1\u001b[0m\n\u001b[1;32m----> 1\u001b[0m sumall\u001b[38;5;241m=\u001b[39mreduce(\u001b[38;5;28;01mlambda\u001b[39;00m a,b:a\u001b[38;5;241m+\u001b[39mb,doubles)\n\u001b[0;32m      2\u001b[0m sumall\n",
      "\u001b[1;31mNameError\u001b[0m: name 'reduce' is not defined"
     ]
    }
   ],
   "source": [
    "sumall=reduce(lambda a,b:a+b,doubles)\n",
    "sumall"
   ]
  },
  {
   "cell_type": "code",
   "execution_count": 35,
   "id": "c069d044-e562-4191-adca-09e70fbe422c",
   "metadata": {},
   "outputs": [
    {
     "name": "stdout",
     "output_type": "stream",
     "text": [
      "24\n",
      "10\n",
      "python  rocks\n",
      "hellohellohello\n",
      "1\n",
      "4\n"
     ]
    }
   ],
   "source": [
    "import operator\n",
    "list2= [1,2,3,4]\n",
    "product=reduce(operator.mul,list2)\n",
    "print(product)\n",
    "add=reduce(operator.add,list2)\n",
    "print(add)\n",
    "cincatstr=reduce(operator.add,[\"python\",\"  \",\"rocks\"])\n",
    "print(cincatstr)\n",
    "prod=reduce(operator.mul,[\"hello\",3])\n",
    "print(prod)\n",
    "minnum=reduce(lambda a,b:a if a<b else b,list2)\n",
    "print(minnum)\n",
    "maxnum=reduce(lambda a,b:a if a>b else b ,list2)\n",
    "print(maxnum)"
   ]
  },
  {
   "cell_type": "code",
   "execution_count": null,
   "id": "7f93ab54-46a4-4240-b270-2fab1415a841",
   "metadata": {},
   "outputs": [],
   "source": []
  },
  {
   "cell_type": "code",
   "execution_count": null,
   "id": "1080be05-2948-464a-9e35-66e3ca02b4ec",
   "metadata": {},
   "outputs": [],
   "source": []
  },
  {
   "cell_type": "code",
   "execution_count": null,
   "id": "f1177637-15df-4fe6-9736-2e216994e70d",
   "metadata": {},
   "outputs": [],
   "source": []
  },
  {
   "cell_type": "code",
   "execution_count": null,
   "id": "9f5f7d57-50f1-470f-beb6-ead8b4ccca54",
   "metadata": {},
   "outputs": [],
   "source": []
  }
 ],
 "metadata": {
  "kernelspec": {
   "display_name": "Python 3 (ipykernel)",
   "language": "python",
   "name": "python3"
  },
  "language_info": {
   "codemirror_mode": {
    "name": "ipython",
    "version": 3
   },
   "file_extension": ".py",
   "mimetype": "text/x-python",
   "name": "python",
   "nbconvert_exporter": "python",
   "pygments_lexer": "ipython3",
   "version": "3.11.7"
  }
 },
 "nbformat": 4,
 "nbformat_minor": 5
}
