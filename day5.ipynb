{
 "cells": [
  {
   "cell_type": "code",
   "execution_count": 4,
   "id": "b5b33d55-c053-4973-a0cc-c7dd8cd05672",
   "metadata": {},
   "outputs": [
    {
     "name": "stdin",
     "output_type": "stream",
     "text": [
      "enter the number 10\n",
      "enter the number 30\n",
      "enter the number 2\n"
     ]
    },
    {
     "name": "stdout",
     "output_type": "stream",
     "text": [
      "b is greatest\n"
     ]
    }
   ],
   "source": [
    "#3 greatest among three numbers\n",
    "a=int(input(\"enter the number\"))\n",
    "b=int(input(\"enter the number\"))\n",
    "c=int(input(\"enter the number\"))\n",
    "if a>b:\n",
    "     if a>c:\n",
    "         print(\"a is greatest\")\n",
    "     else: \n",
    "         print(\"c is greatest\")\n",
    "else:\n",
    "      if b>c:\n",
    "          print(\"b is greatest\")\n",
    "      else: \n",
    "          print(\"c is greatest\")\n",
    "          "
   ]
  },
  {
   "cell_type": "code",
   "execution_count": 4,
   "id": "247952f9-064b-4f4b-8bb0-a2dff6d61f90",
   "metadata": {},
   "outputs": [
    {
     "name": "stdout",
     "output_type": "stream",
     "text": [
      "anubhav\n",
      "anubhav\n",
      "anubhav\n",
      "anubhav\n",
      "anubhav\n",
      "anubhav\n",
      "anubhav\n",
      "anubhav\n",
      "anubhav\n",
      "anubhav\n"
     ]
    }
   ],
   "source": [
    "#while loop\n",
    "#print your name\n",
    "i=1\n",
    "while i<=10:\n",
    "    print(\"anubhav\")\n",
    "    i=i+1"
   ]
  },
  {
   "cell_type": "code",
   "execution_count": 5,
   "id": "96a0888d-eec7-4ceb-bc7d-6c94f9a7a3d5",
   "metadata": {},
   "outputs": [
    {
     "name": "stdout",
     "output_type": "stream",
     "text": [
      "1\n",
      "2\n",
      "3\n",
      "4\n",
      "5\n",
      "6\n",
      "7\n",
      "8\n",
      "9\n",
      "10\n"
     ]
    }
   ],
   "source": [
    "#print first 10 natural numbers\n",
    "i=1\n",
    "while i<=10:\n",
    "    print(i)\n",
    "    i=i+1"
   ]
  },
  {
   "cell_type": "code",
   "execution_count": 6,
   "id": "93908913-34b5-4365-aad8-e5a501722dcf",
   "metadata": {},
   "outputs": [
    {
     "name": "stdout",
     "output_type": "stream",
     "text": [
      "1 2 3 4 5 6 7 8 9 10 "
     ]
    }
   ],
   "source": [
    "#print first 10 natural numbers\n",
    "i=1\n",
    "while i<=10:\n",
    "    print(i,end=\" \")\n",
    "    i=i+1"
   ]
  },
  {
   "cell_type": "code",
   "execution_count": 12,
   "id": "03d01050-abfb-44a8-8bcc-5ccae51e8327",
   "metadata": {},
   "outputs": [
    {
     "name": "stdout",
     "output_type": "stream",
     "text": [
      "sum is 55\n"
     ]
    }
   ],
   "source": [
    "#print the sum of first 10 natural numbers\n",
    "i=1\n",
    "s=0\n",
    "while i<=10:\n",
    "    s=s+i\n",
    "    i=i+1\n",
    "print('sum is',s)\n",
    "\n",
    "\n",
    "\n",
    "\n",
    "#s=0+1=1\n",
    "#s=1+2=3\n",
    "#s=3+3=6\n",
    "\n",
    "\n",
    "\n",
    "      \n"
   ]
  },
  {
   "cell_type": "code",
   "execution_count": 15,
   "id": "f934dc95-e5ed-4707-ba54-406292184998",
   "metadata": {},
   "outputs": [
    {
     "name": "stdout",
     "output_type": "stream",
     "text": [
      "2 4 6 8 10 12 14 16 18 20 22 24 26 28 30 32 34 36 38 40 42 44 46 48 50 52 54 56 58 60 62 64 66 68 70 72 74 76 78 80 82 84 86 88 90 92 94 96 98 100 "
     ]
    }
   ],
   "source": [
    "#1-100 even number\n",
    "i=1\n",
    "while i<=100:\n",
    "    if i%2==0:\n",
    "        print(i,end=\" \")\n",
    "    i=i+1"
   ]
  },
  {
   "cell_type": "code",
   "execution_count": 19,
   "id": "69f2b8a2-30f2-4ecd-a761-b1f15db9112a",
   "metadata": {},
   "outputs": [
    {
     "name": "stdout",
     "output_type": "stream",
     "text": [
      "the sum of even number is  2550\n",
      "the sum of odd number is 2500\n"
     ]
    }
   ],
   "source": [
    "#print the sum of even amd odd number seperately from 1-100\n",
    "\n",
    "i=1\n",
    "se=0\n",
    "so=0\n",
    "while i<=100:\n",
    "    if i%2==0:\n",
    "        se=se+i\n",
    "    else:\n",
    "        so=so+i\n",
    "    i=i+1\n",
    "print('the sum of even number is ' ,se)\n",
    "print('the sum of odd number is' ,so)\n"
   ]
  },
  {
   "cell_type": "code",
   "execution_count": 7,
   "id": "56299a06-c8a4-462c-8a18-1ae6bed80b11",
   "metadata": {},
   "outputs": [
    {
     "name": "stdin",
     "output_type": "stream",
     "text": [
      "enter the number 4\n"
     ]
    },
    {
     "name": "stdout",
     "output_type": "stream",
     "text": [
      "4 * 1 = 4\n",
      "4 * 2 = 8\n",
      "4 * 3 = 12\n",
      "4 * 4 = 16\n",
      "4 * 5 = 20\n",
      "4 * 6 = 24\n",
      "4 * 7 = 28\n",
      "4 * 8 = 32\n",
      "4 * 9 = 36\n",
      "4 * 10 = 40\n"
     ]
    }
   ],
   "source": [
    "# table of a given number\n",
    "#4*1\n",
    "#4*2\n",
    "#4*3\n",
    "\n",
    "n=int(input('enter the number'))\n",
    "i=1\n",
    "while i<=10:\n",
    "    print(n,\"*\",i,\"=\",n*i)\n",
    "    i=i+1\n",
    "    "
   ]
  },
  {
   "cell_type": "code",
   "execution_count": 8,
   "id": "a0d7951c-be49-4ff5-b35a-8a9e887180f6",
   "metadata": {},
   "outputs": [
    {
     "name": "stdin",
     "output_type": "stream",
     "text": [
      "enter the number= 50\n"
     ]
    },
    {
     "name": "stdout",
     "output_type": "stream",
     "text": [
      "1 2 5 10 25 50 "
     ]
    }
   ],
   "source": [
    "#factors of a given number\n",
    "i=1\n",
    "n=int(input('enter the number='))\n",
    "while i<=n:\n",
    "    if n%i==0:\n",
    "       print(i,end=\" \")\n",
    "    i=i+1\n",
    "\n",
    "\n"
   ]
  },
  {
   "cell_type": "code",
   "execution_count": null,
   "id": "4088b809-e794-4827-9266-f8a18c135e57",
   "metadata": {},
   "outputs": [],
   "source": []
  },
  {
   "cell_type": "code",
   "execution_count": null,
   "id": "e89c742d-5b72-44df-a835-f30581a093c4",
   "metadata": {},
   "outputs": [],
   "source": []
  },
  {
   "cell_type": "code",
   "execution_count": null,
   "id": "81a19ea5-ac63-430e-98b7-dbd03903860a",
   "metadata": {},
   "outputs": [],
   "source": []
  }
 ],
 "metadata": {
  "kernelspec": {
   "display_name": "Python 3 (ipykernel)",
   "language": "python",
   "name": "python3"
  },
  "language_info": {
   "codemirror_mode": {
    "name": "ipython",
    "version": 3
   },
   "file_extension": ".py",
   "mimetype": "text/x-python",
   "name": "python",
   "nbconvert_exporter": "python",
   "pygments_lexer": "ipython3",
   "version": "3.11.7"
  }
 },
 "nbformat": 4,
 "nbformat_minor": 5
}
