{
 "cells": [
  {
   "cell_type": "markdown",
   "id": "741983eb-e682-4ee3-b506-8a14e47ab11d",
   "metadata": {},
   "source": [
    "# if else coondition with lambda"
   ]
  },
  {
   "cell_type": "code",
   "execution_count": 7,
   "id": "cec1630f-d6bc-4b41-a99e-c2bdd8181058",
   "metadata": {},
   "outputs": [
    {
     "data": {
      "text/plain": [
       "64"
      ]
     },
     "execution_count": 7,
     "metadata": {},
     "output_type": "execute_result"
    }
   ],
   "source": [
    "a=lambda x:x*2 if x%2==0 else x  #true if false\n",
    "a(32)\n"
   ]
  },
  {
   "cell_type": "markdown",
   "id": "68b812d9-a1bd-4b1c-9228-04e1685480c4",
   "metadata": {},
   "source": [
    "# map function"
   ]
  },
  {
   "cell_type": "code",
   "execution_count": null,
   "id": "3261de28-1c13-4bdc-9718-1a93d1a5e4f0",
   "metadata": {},
   "outputs": [],
   "source": [
    "#syntax\n",
    "#map(fun,iter)\n",
    "#parameter:\n",
    "#fun:it is a function to which map passes each element of given iterable.\n",
    "#iter:it is a iterable which is to be mapped."
   ]
  },
  {
   "cell_type": "code",
   "execution_count": 12,
   "id": "abe0c938-d8fd-4bfa-bdd1-e7c44dd3c83d",
   "metadata": {},
   "outputs": [
    {
     "data": {
      "text/plain": [
       "[2, 4, 6, 8]"
      ]
     },
     "execution_count": 12,
     "metadata": {},
     "output_type": "execute_result"
    }
   ],
   "source": [
    "list(map(lambda x:x+x,[1,2,3,4]))"
   ]
  },
  {
   "cell_type": "code",
   "execution_count": 13,
   "id": "791dc9db-f8d8-4c82-a41a-b266497c56fd",
   "metadata": {},
   "outputs": [],
   "source": [
    "def addition(n):\n",
    "    return(n*2)"
   ]
  },
  {
   "cell_type": "code",
   "execution_count": 14,
   "id": "4235e4c0-19cc-4512-908c-f6064e57d822",
   "metadata": {},
   "outputs": [
    {
     "data": {
      "text/plain": [
       "[24, 46, 68, 90, 112]"
      ]
     },
     "execution_count": 14,
     "metadata": {},
     "output_type": "execute_result"
    }
   ],
   "source": [
    "number=[12,23,34,45,56]\n",
    "list(map(addition,number))  #list(map(lambda x:x*2,number))"
   ]
  },
  {
   "cell_type": "code",
   "execution_count": 16,
   "id": "362a732a-21e1-4778-b7cb-d7b99b456474",
   "metadata": {},
   "outputs": [
    {
     "data": {
      "text/plain": [
       "[6, 10, 14]"
      ]
     },
     "execution_count": 16,
     "metadata": {},
     "output_type": "execute_result"
    }
   ],
   "source": [
    "numbers1=[1,2,3]\n",
    "numbers2=[4,5,6]\n",
    "numbers3=[1,3,5]\n",
    "result=map(lambda x,y,z:x+y+z,numbers1,numbers2,numbers3)\n",
    "list(result)"
   ]
  },
  {
   "cell_type": "code",
   "execution_count": 20,
   "id": "2da3cc9e-737b-4648-85b1-c3a9a229c5f6",
   "metadata": {},
   "outputs": [
    {
     "data": {
      "text/plain": [
       "['ANUBHAV', 'BANSAL', 'SINGLA', 'TITU']"
      ]
     },
     "execution_count": 20,
     "metadata": {},
     "output_type": "execute_result"
    }
   ],
   "source": [
    "mypets=['anubhav','bansal','singla','titu']\n",
    "list(map(lambda x:x.upper(),mypets))"
   ]
  },
  {
   "cell_type": "code",
   "execution_count": 21,
   "id": "a4702d65-91f8-414c-af12-22589ba8a26b",
   "metadata": {},
   "outputs": [
    {
     "name": "stdout",
     "output_type": "stream",
     "text": [
      "['ANUBHAV', 'BANSAL', 'SINGLA', 'TITU']\n"
     ]
    }
   ],
   "source": [
    "mypets=['anubhav','bansal','singla','titu']\n",
    "new=[]\n",
    "for i in mypets:\n",
    "    new.append(i.upper())\n",
    "print(new)"
   ]
  },
  {
   "cell_type": "code",
   "execution_count": 22,
   "id": "81459926-9101-4f92-927b-31dba1b9ba20",
   "metadata": {},
   "outputs": [
    {
     "data": {
      "text/plain": [
       "[(1, 'axx'), (2, 'byy'), (3, 'czz'), (4, 'dww'), (5, 'edd')]"
      ]
     },
     "execution_count": 22,
     "metadata": {},
     "output_type": "execute_result"
    }
   ],
   "source": [
    "mysting=['a','b','c','d','e']\n",
    "mynumbers=[1,2,3,4,5]\n",
    "myname=['xx','yy','zz','ww','dd']\n",
    "results=list(map(lambda x,y,z:(y,x+z),mysting,mynumbers,myname))\n",
    "list(results)"
   ]
  },
  {
   "cell_type": "markdown",
   "id": "fee6c618-87c7-4f59-b481-be5d3b5d4420",
   "metadata": {},
   "source": [
    "# filter"
   ]
  },
  {
   "cell_type": "markdown",
   "id": "17eae9c5-ac3e-44e1-ae85-fb6d01da1251",
   "metadata": {},
   "source": [
    "* filter(function,iterable)\n",
    "* filter(0 method returns an iterator that passed the function check for each element in the iterable."
   ]
  },
  {
   "cell_type": "code",
   "execution_count": 23,
   "id": "7602a2d9-f663-47d9-902d-9313e375c0ca",
   "metadata": {},
   "outputs": [
    {
     "data": {
      "text/plain": [
       "['madam']"
      ]
     },
     "execution_count": 23,
     "metadata": {},
     "output_type": "execute_result"
    }
   ],
   "source": [
    "dromes=(\"demigod\",\"rewire\",\"madam\",\"freer\")\n",
    "palindromes=list(filter(lambda a:a==a[::-1],dromes))\n",
    "palindromes"
   ]
  },
  {
   "cell_type": "code",
   "execution_count": 24,
   "id": "86879110-0280-47cb-910c-689c263800f3",
   "metadata": {},
   "outputs": [
    {
     "name": "stdout",
     "output_type": "stream",
     "text": [
      "[2, 4, 6]\n",
      "[5, 7, 97, 77, 23, 73, 61]\n"
     ]
    }
   ],
   "source": [
    "mylist=[1,2,3,4,5,6]\n",
    "newlist=list(filter(lambda x:(x%2==0),mylist))\n",
    "print(newlist)\n",
    "li=[5,7,22,97,62,77,23,73,61]\n",
    "finallist=list(filter(lambda x:(x%2 !=0),li))\n",
    "print(finallist)"
   ]
  },
  {
   "cell_type": "code",
   "execution_count": 29,
   "id": "f046ab27-4645-4d6f-874b-ff4f56c0f4b7",
   "metadata": {},
   "outputs": [
    {
     "name": "stdout",
     "output_type": "stream",
     "text": [
      "['one', 'two', 'four', 'five']\n",
      "[]\n"
     ]
    }
   ],
   "source": [
    "list2=['one','two','Three','four','five']\n",
    "upper=list(filter(lambda x: x.isupper() ,list2))\n",
    "lower=list(filter(lambda x: x.islower() ,list2))\n",
    "print(lower)\n",
    "print(upper)"
   ]
  },
  {
   "cell_type": "code",
   "execution_count": 37,
   "id": "ba0fc65c-a0a2-466a-84a8-a0d8dbbd6372",
   "metadata": {},
   "outputs": [
    {
     "name": "stdout",
     "output_type": "stream",
     "text": [
      "['one', 'two', 'three', 'four']\n",
      "['88', '99', '44']\n",
      "['one', 'two', 'three', 'four', '88', '99', '44']\n"
     ]
    }
   ],
   "source": [
    "list3=['one','two','three','four','88','99','44']\n",
    "numeric= list(filter(lambda x:x.isnumeric(),list3))\n",
    "alpha=list(filter(lambda x:x.isalpha(),list3))\n",
    "alphanum =list(filter(lambda x:x.isalnum(),list3))\n",
    "print(alpha)\n",
    "print(numeric)\n",
    "print(alphanum)"
   ]
  },
  {
   "cell_type": "code",
   "execution_count": 42,
   "id": "c86b9115-36b4-4477-8de1-15f0128c1163",
   "metadata": {},
   "outputs": [
    {
     "data": {
      "text/plain": [
       "[77, 89, 90, 76]"
      ]
     },
     "execution_count": 42,
     "metadata": {},
     "output_type": "execute_result"
    }
   ],
   "source": [
    "scores = [66,77,89,90,76,65,43,32,21]\n",
    "def is_student (score):\n",
    "    return score > 75\n",
    "over75=list(filter(is_student,scores))\n",
    "over75"
   ]
  },
  {
   "cell_type": "code",
   "execution_count": null,
   "id": "3ee72a7d-00ad-400c-a38d-0648e7640ea3",
   "metadata": {},
   "outputs": [],
   "source": []
  },
  {
   "cell_type": "code",
   "execution_count": null,
   "id": "f7ddaed6-8dc4-410f-b932-e39058aeda40",
   "metadata": {},
   "outputs": [],
   "source": []
  }
 ],
 "metadata": {
  "kernelspec": {
   "display_name": "Python 3 (ipykernel)",
   "language": "python",
   "name": "python3"
  },
  "language_info": {
   "codemirror_mode": {
    "name": "ipython",
    "version": 3
   },
   "file_extension": ".py",
   "mimetype": "text/x-python",
   "name": "python",
   "nbconvert_exporter": "python",
   "pygments_lexer": "ipython3",
   "version": "3.11.7"
  }
 },
 "nbformat": 4,
 "nbformat_minor": 5
}
