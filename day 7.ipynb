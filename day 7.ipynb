{
 "cells": [
  {
   "cell_type": "code",
   "execution_count": 1,
   "id": "032abb51-9cc0-4e01-a2b6-01a5ee74cb20",
   "metadata": {},
   "outputs": [
    {
     "name": "stdout",
     "output_type": "stream",
     "text": [
      "v\n",
      "i\n",
      "s\n",
      "h\n",
      "w\n",
      "a\n",
      "j\n",
      "e\n",
      "e\n",
      "t\n"
     ]
    }
   ],
   "source": [
    "#for loop\n",
    "for i in 'vishwajeet':\n",
    "    print(i)"
   ]
  },
  {
   "cell_type": "code",
   "execution_count": 6,
   "id": "00ff88c5-19b6-43f7-a1a6-14ddb4a84446",
   "metadata": {},
   "outputs": [
    {
     "name": "stdout",
     "output_type": "stream",
     "text": [
      "12\n",
      "23\n",
      "25\n",
      "27\n",
      "35\n",
      "46\n"
     ]
    }
   ],
   "source": [
    "for i in [12,23,25,27,35,46]:\n",
    "    print(i)"
   ]
  },
  {
   "cell_type": "code",
   "execution_count": 7,
   "id": "7adbcba5-dfe6-4fad-a21d-bc74e165a199",
   "metadata": {},
   "outputs": [
    {
     "name": "stdout",
     "output_type": "stream",
     "text": [
      "135\n",
      "345\n",
      "122\n",
      "623\n"
     ]
    }
   ],
   "source": [
    "for i in{122, 345,135,623}:\n",
    "    print(i)"
   ]
  },
  {
   "cell_type": "code",
   "execution_count": 8,
   "id": "8eb8d0df-e92a-46a3-a581-15ce4c8bcbd6",
   "metadata": {},
   "outputs": [
    {
     "name": "stdout",
     "output_type": "stream",
     "text": [
      "name\n",
      "age\n"
     ]
    }
   ],
   "source": [
    "for i in {\"name\":\"aviral\",\"age\":19}:\n",
    "    print(i)"
   ]
  },
  {
   "cell_type": "code",
   "execution_count": 10,
   "id": "e2314911-9a4f-4916-9c84-94313cce0d62",
   "metadata": {},
   "outputs": [
    {
     "name": "stdout",
     "output_type": "stream",
     "text": [
      "0\n",
      "1\n",
      "2\n",
      "3\n",
      "4\n",
      "5\n",
      "6\n",
      "7\n",
      "8\n",
      "9\n"
     ]
    }
   ],
   "source": [
    "for i in range(10):\n",
    "    print(i)"
   ]
  },
  {
   "cell_type": "code",
   "execution_count": 12,
   "id": "e3759caa-4d0e-4c0e-abe1-7d89b53d341e",
   "metadata": {},
   "outputs": [
    {
     "name": "stdout",
     "output_type": "stream",
     "text": [
      "1 4 7 10 13 16 19 22 25 28 31 34 37 40 43 46 49 52 55 58 61 64 67 70 73 76 79 82 85 88 91 94 97 "
     ]
    }
   ],
   "source": [
    "for i in range(1,100,3):\n",
    "    print(i,end=\" \" )"
   ]
  },
  {
   "cell_type": "code",
   "execution_count": 13,
   "id": "0d8ba620-1a14-4286-aed8-07750a4f42e5",
   "metadata": {},
   "outputs": [
    {
     "name": "stdout",
     "output_type": "stream",
     "text": [
      "1\n",
      "2\n",
      "3\n",
      "4\n",
      "5\n",
      "6\n",
      "7\n",
      "8\n",
      "9\n"
     ]
    }
   ],
   "source": [
    "for i in range(1,10):\n",
    "    print(i)"
   ]
  },
  {
   "cell_type": "code",
   "execution_count": 18,
   "id": "63a2f76e-9030-458a-a2f7-351a9739218b",
   "metadata": {},
   "outputs": [
    {
     "name": "stdout",
     "output_type": "stream",
     "text": [
      "100 99 98 97 96 95 94 93 92 91 90 89 88 87 86 85 84 83 82 81 80 79 78 77 76 75 74 73 72 71 70 69 68 67 66 65 64 63 62 61 60 59 58 57 56 55 54 53 52 51 50 49 48 47 46 45 44 43 42 41 40 39 38 37 36 35 34 33 32 31 30 29 28 27 26 25 24 23 22 21 20 19 18 17 16 15 14 13 12 11 10 9 8 7 6 5 4 3 2 1 "
     ]
    }
   ],
   "source": [
    "for i in range(100,0,-1):\n",
    "    print(i,end=\" \" )"
   ]
  },
  {
   "cell_type": "code",
   "execution_count": 22,
   "id": "02d04259-0f90-4fa0-a586-e10ec3fc3640",
   "metadata": {},
   "outputs": [
    {
     "name": "stdout",
     "output_type": "stream",
     "text": [
      "anubhav\n",
      "anubhav\n",
      "anubhav\n",
      "anubhav\n",
      "anubhav\n",
      "anubhav\n",
      "anubhav\n",
      "anubhav\n",
      "anubhav\n",
      "anubhav\n"
     ]
    }
   ],
   "source": [
    "#print your name 10 times\n",
    "\n",
    "for i in range(10):\n",
    "    print(\"anubhav\")\n",
    "    "
   ]
  },
  {
   "cell_type": "code",
   "execution_count": 23,
   "id": "851552ec-3334-46a2-b1a0-fba81c787e3c",
   "metadata": {},
   "outputs": [
    {
     "name": "stdout",
     "output_type": "stream",
     "text": [
      "1\n",
      "2\n",
      "3\n",
      "4\n",
      "5\n",
      "6\n",
      "7\n",
      "8\n",
      "9\n",
      "10\n"
     ]
    }
   ],
   "source": [
    "#print first 10 natural number\n",
    "for i in range(1,11):\n",
    "    print(i)"
   ]
  },
  {
   "cell_type": "code",
   "execution_count": 39,
   "id": "c414f614-1af9-4445-ac0f-41f35744bc91",
   "metadata": {},
   "outputs": [
    {
     "name": "stdout",
     "output_type": "stream",
     "text": [
      "1   anubhav\n",
      "2   anubhav\n",
      "3   anubhav\n",
      "4   anubhav\n",
      "5   anubhav\n",
      "6   anubhav\n",
      "7   anubhav\n",
      "8   anubhav\n",
      "9   anubhav\n",
      "10   anubhav\n"
     ]
    }
   ],
   "source": [
    "for i in range(1,11):\n",
    "    print(i,\" \",\"anubhav\")"
   ]
  },
  {
   "cell_type": "code",
   "execution_count": 38,
   "id": "04842b5b-3362-44b8-bcba-b31589024ec0",
   "metadata": {},
   "outputs": [
    {
     "name": "stdout",
     "output_type": "stream",
     "text": [
      "the sum is 55\n"
     ]
    }
   ],
   "source": [
    "#sum of natural number\n",
    "s=0\n",
    "for i in range(1,11):\n",
    "    s=s+i\n",
    "print(\"the sum is\",s)\n",
    " \n"
   ]
  },
  {
   "cell_type": "code",
   "execution_count": 41,
   "id": "31dead85-b843-4398-b5e3-545e7d5fd986",
   "metadata": {},
   "outputs": [
    {
     "name": "stdout",
     "output_type": "stream",
     "text": [
      "2 4 6 8 10 12 14 16 18 20 22 24 26 28 30 32 34 36 38 40 42 44 46 48 50 52 54 56 58 60 62 64 66 68 70 72 74 76 78 80 82 84 86 88 90 92 94 96 98 100 "
     ]
    }
   ],
   "source": [
    "#even number\n",
    "for i in range(2,102,2):\n",
    "    print(i,end=\" \")"
   ]
  },
  {
   "cell_type": "code",
   "execution_count": 46,
   "id": "2e8c9ba6-ebff-4a09-84e0-d37f9293d58f",
   "metadata": {},
   "outputs": [
    {
     "name": "stdout",
     "output_type": "stream",
     "text": [
      "0 2 4 6 8 10 12 14 16 18 20 22 24 26 28 30 32 34 36 38 40 42 44 46 48 50 52 54 56 58 60 62 64 66 68 70 72 74 76 78 80 82 84 86 88 90 92 94 96 98 100 "
     ]
    }
   ],
   "source": [
    "for i in range(0,101):\n",
    "    if i%2==0:\n",
    "        print (i,end=\" \")\n"
   ]
  },
  {
   "cell_type": "code",
   "execution_count": 48,
   "id": "febfc74e-bc4c-4dad-aa7e-95c54eaf57f2",
   "metadata": {},
   "outputs": [
    {
     "name": "stdin",
     "output_type": "stream",
     "text": [
      "enter the number 6\n"
     ]
    },
    {
     "name": "stdout",
     "output_type": "stream",
     "text": [
      "6 * 1 = 6\n",
      "6 * 2 = 12\n",
      "6 * 3 = 18\n",
      "6 * 4 = 24\n",
      "6 * 5 = 30\n",
      "6 * 6 = 36\n",
      "6 * 7 = 42\n",
      "6 * 8 = 48\n",
      "6 * 9 = 54\n",
      "6 * 10 = 60\n"
     ]
    }
   ],
   "source": [
    "#table of a given number\n",
    "n=int(input(\"enter the number\"))\n",
    "for i in range(1,11):\n",
    "    print(n,\"*\",i,\"=\",n*i)"
   ]
  },
  {
   "cell_type": "code",
   "execution_count": 52,
   "id": "3a3d09c9-8ffa-4d9d-b94b-5687c83695b1",
   "metadata": {},
   "outputs": [
    {
     "name": "stdin",
     "output_type": "stream",
     "text": [
      "enter the number 5\n"
     ]
    },
    {
     "name": "stdout",
     "output_type": "stream",
     "text": [
      "factorial is  120\n"
     ]
    }
   ],
   "source": [
    "#fatorial of givan number\n",
    "n=int(input(\"enter the number\"))\n",
    "f=1\n",
    "for i in range(1,n+1):\n",
    "    f=f*i\n",
    "print(\"factorial is \", f)\n",
    "#a+0=a\n",
    "#a*1=a"
   ]
  },
  {
   "cell_type": "code",
   "execution_count": null,
   "id": "189467b9-30af-4575-9510-d31168cff5cf",
   "metadata": {},
   "outputs": [],
   "source": []
  }
 ],
 "metadata": {
  "kernelspec": {
   "display_name": "Python 3 (ipykernel)",
   "language": "python",
   "name": "python3"
  },
  "language_info": {
   "codemirror_mode": {
    "name": "ipython",
    "version": 3
   },
   "file_extension": ".py",
   "mimetype": "text/x-python",
   "name": "python",
   "nbconvert_exporter": "python",
   "pygments_lexer": "ipython3",
   "version": "3.12.4"
  }
 },
 "nbformat": 4,
 "nbformat_minor": 5
}
