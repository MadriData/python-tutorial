{
 "cells": [
  {
   "cell_type": "code",
   "execution_count": 1,
   "id": "e8927576-97f9-4234-b54b-951893ffe657",
   "metadata": {},
   "outputs": [
    {
     "data": {
      "text/plain": [
       "'Python - Set\\nA set is a mutable collection of distinct hashable objects, same as the list and tuple. It is an unordered collection of objects, meaning it does not record element position or order of insertion and so cannot access elements using indexes.\\n\\nThe set is a Python implementation of the set in Mathematics. A set object has suitable methods to perform mathematical set operations like union, intersection, difference, etc.\\n\\nA set object contains one or more items, not necessarily of the same type, which are separated by a comma and enclosed in curly brackets {}. The following defines a set object with even numbers.'"
      ]
     },
     "execution_count": 1,
     "metadata": {},
     "output_type": "execute_result"
    }
   ],
   "source": [
    "'''Python - Set\n",
    "A set is a mutable collection of distinct hashable objects, same as the list and tuple. It is an unordered collection of objects, meaning it does not record element position or order of insertion and so cannot access elements using indexes.\n",
    "\n",
    "The set is a Python implementation of the set in Mathematics. A set object has suitable methods to perform mathematical set operations like union, intersection, difference, etc.\n",
    "\n",
    "A set object contains one or more items, not necessarily of the same type, which are separated by a comma and enclosed in curly brackets {}. The following defines a set object with even numbers'.''"
   ]
  },
  {
   "cell_type": "code",
   "execution_count": 2,
   "id": "74f873a3-11a6-4335-b430-6d1303b5c684",
   "metadata": {},
   "outputs": [
    {
     "name": "stdout",
     "output_type": "stream",
     "text": [
      "{8, 2, 4, 6}\n",
      "{1, 10.5, 'steve'}\n"
     ]
    }
   ],
   "source": [
    "even ={2,4,6,8}\n",
    "print(even)\n",
    "emp={1,'steve',10.5, True}\n",
    "print (emp)"
   ]
  },
  {
   "cell_type": "code",
   "execution_count": 3,
   "id": "a9a4037a-4d59-48b6-bbf1-7d067498ecbe",
   "metadata": {},
   "outputs": [
    {
     "data": {
      "text/plain": [
       "\"A set doesn't store duplicate objects. Even if an object is added more than once inside the curly brackets, only one copy is held in the set object. Hence, indexing and slicing operations cannot be done on a set object.\""
      ]
     },
     "execution_count": 3,
     "metadata": {},
     "output_type": "execute_result"
    }
   ],
   "source": [
    "'''A set doesn't store duplicate objects. Even if an object is added more than once inside the curly brackets, only one copy is held in the set object. Hence, indexing and slicing operations cannot be done on a set object.'''"
   ]
  },
  {
   "cell_type": "code",
   "execution_count": 4,
   "id": "afd462cb-cc87-40b7-b8ec-ad1bc4f5f69d",
   "metadata": {},
   "outputs": [
    {
     "data": {
      "text/plain": [
       "'The order of elements in the set is not necessarily the same as the order given at the time of assignment. Python optimizes the structure of a set for performing operations over it, as defined in mathematics.'"
      ]
     },
     "execution_count": 4,
     "metadata": {},
     "output_type": "execute_result"
    }
   ],
   "source": [
    "'''The order of elements in the set is not necessarily the same as the order given at the time of assignment. Python optimizes the structure of a set for performing operations over it, as defined in mathematics.'''"
   ]
  },
  {
   "cell_type": "code",
   "execution_count": 5,
   "id": "964adb0d-0772-4947-b53a-527d092a760f",
   "metadata": {},
   "outputs": [
    {
     "name": "stdout",
     "output_type": "stream",
     "text": [
      "{1, 2, 3, 4, 5, 6}\n"
     ]
    }
   ],
   "source": [
    "nums={1,2,2,3,4,4,5,6}\n",
    "print(nums)"
   ]
  },
  {
   "cell_type": "code",
   "execution_count": 7,
   "id": "33760472-2164-4ed3-9a05-bd82a07ea9ef",
   "metadata": {},
   "outputs": [
    {
     "name": "stdout",
     "output_type": "stream",
     "text": [
      "{(10, 10), 10, 20}\n"
     ]
    }
   ],
   "source": [
    "myset={(10,10),10,20}\n",
    "print(myset)"
   ]
  },
  {
   "cell_type": "code",
   "execution_count": 8,
   "id": "132b3906-3243-4a68-aab1-06349c726806",
   "metadata": {},
   "outputs": [
    {
     "ename": "TypeError",
     "evalue": "unhashable type: 'list'",
     "output_type": "error",
     "traceback": [
      "\u001b[1;31m---------------------------------------------------------------------------\u001b[0m",
      "\u001b[1;31mTypeError\u001b[0m                                 Traceback (most recent call last)",
      "Cell \u001b[1;32mIn[8], line 1\u001b[0m\n\u001b[1;32m----> 1\u001b[0m myset\u001b[38;5;241m=\u001b[39m{[\u001b[38;5;241m10\u001b[39m,\u001b[38;5;241m10\u001b[39m],\u001b[38;5;241m10\u001b[39m,\u001b[38;5;241m20\u001b[39m}\n\u001b[0;32m      2\u001b[0m \u001b[38;5;28mprint\u001b[39m(myset)\n",
      "\u001b[1;31mTypeError\u001b[0m: unhashable type: 'list'"
     ]
    }
   ],
   "source": [
    "myset={[10,10],10,20}\n",
    "print(myset)"
   ]
  },
  {
   "cell_type": "code",
   "execution_count": 9,
   "id": "cf8fd016-3be4-4908-83c8-1e8900cdd46f",
   "metadata": {},
   "outputs": [
    {
     "ename": "TypeError",
     "evalue": "unhashable type: 'set'",
     "output_type": "error",
     "traceback": [
      "\u001b[1;31m---------------------------------------------------------------------------\u001b[0m",
      "\u001b[1;31mTypeError\u001b[0m                                 Traceback (most recent call last)",
      "Cell \u001b[1;32mIn[9], line 1\u001b[0m\n\u001b[1;32m----> 1\u001b[0m myset\u001b[38;5;241m=\u001b[39m{{\u001b[38;5;241m10\u001b[39m,\u001b[38;5;241m10\u001b[39m},\u001b[38;5;241m10\u001b[39m,\u001b[38;5;241m20\u001b[39m}\n\u001b[0;32m      2\u001b[0m \u001b[38;5;28mprint\u001b[39m(myset)\n",
      "\u001b[1;31mTypeError\u001b[0m: unhashable type: 'set'"
     ]
    }
   ],
   "source": [
    "myset={{10,10},10,20}\n",
    "print(myset)"
   ]
  },
  {
   "cell_type": "code",
   "execution_count": 10,
   "id": "44b9fb73-0fc3-4991-aa1e-e34e0cb7d1e2",
   "metadata": {},
   "outputs": [],
   "source": [
    "emp={} # empty dictionary\n",
    "s=set() #empty set"
   ]
  },
  {
   "cell_type": "code",
   "execution_count": 11,
   "id": "7b6b9f44-37ff-4259-a300-a52a010988e2",
   "metadata": {},
   "outputs": [
    {
     "data": {
      "text/plain": [
       "'The set() function also use to convert string, tuple, or dictionary object to a set object, as shown below.\\n\\nExample: Convert Sequence to Set'"
      ]
     },
     "execution_count": 11,
     "metadata": {},
     "output_type": "execute_result"
    }
   ],
   "source": [
    "'''The set() function also use to convert string, tuple, or dictionary object to a set object, as shown below.\n",
    "\n",
    "Example: Convert Sequence to Set'''"
   ]
  },
  {
   "cell_type": "code",
   "execution_count": 12,
   "id": "a647b615-7e2e-4f5c-84ea-1acba352e589",
   "metadata": {},
   "outputs": [
    {
     "name": "stdout",
     "output_type": "stream",
     "text": [
      "{'e', 'h', 'l', 'o'}\n"
     ]
    }
   ],
   "source": [
    "s=set('hello')#convert sting to set\n",
    "print(s)"
   ]
  },
  {
   "cell_type": "code",
   "execution_count": 13,
   "id": "f3e872a3-97d4-47d1-826a-b5dedb9ecf0e",
   "metadata": {},
   "outputs": [
    {
     "name": "stdout",
     "output_type": "stream",
     "text": [
      "{1, 2, 3, 4, 5}\n"
     ]
    }
   ],
   "source": [
    "s=set((1,2,3,4,5))# convert tuple to set\n",
    "print(s)"
   ]
  },
  {
   "cell_type": "code",
   "execution_count": 14,
   "id": "3105d105-08dc-4b90-b043-fc97ee62918d",
   "metadata": {},
   "outputs": [
    {
     "name": "stdout",
     "output_type": "stream",
     "text": [
      "{1, 2}\n"
     ]
    }
   ],
   "source": [
    "d={1:'one',2:'two'}\n",
    "s=set(d)#convert dict to set\n",
    "print(s)"
   ]
  },
  {
   "cell_type": "code",
   "execution_count": 15,
   "id": "1e7239ed-dd39-483a-a4fa-5880d3bf4217",
   "metadata": {},
   "outputs": [
    {
     "data": {
      "text/plain": [
       "'Modify Set Elements\\nUse built-in set functions add(), remove() or update() methods to modify set collection.\\n\\nExample:'"
      ]
     },
     "execution_count": 15,
     "metadata": {},
     "output_type": "execute_result"
    }
   ],
   "source": [
    "'''Modify Set Elements\n",
    "Use built-in set functions add(), remove() or update() methods to modify set collection.\n",
    "\n",
    "Example:'''"
   ]
  },
  {
   "cell_type": "code",
   "execution_count": 16,
   "id": "18a98442-3cb1-40c2-b42d-e11ad4a42396",
   "metadata": {},
   "outputs": [
    {
     "name": "stdout",
     "output_type": "stream",
     "text": [
      "{10, 20, 30}\n"
     ]
    }
   ],
   "source": [
    "s=set()#add an element\n",
    "s.add(10)\n",
    "s.add(20)\n",
    "s.add(30)\n",
    "print(s)"
   ]
  },
  {
   "cell_type": "code",
   "execution_count": 17,
   "id": "afe390a0-4db5-4f1f-9682-c3485fc9e807",
   "metadata": {},
   "outputs": [
    {
     "name": "stdout",
     "output_type": "stream",
     "text": [
      "{2, 3, 20, 4, 5, 10, 30}\n"
     ]
    }
   ],
   "source": [
    "primenums={2,3,4,5}\n",
    "s.update(primenums)#update set with another set\n",
    "print(s)"
   ]
  },
  {
   "cell_type": "code",
   "execution_count": 18,
   "id": "15f98717-005c-4279-bc47-7ca745a8e651",
   "metadata": {},
   "outputs": [
    {
     "name": "stdout",
     "output_type": "stream",
     "text": [
      "{3, 20, 4, 5, 10, 30}\n"
     ]
    }
   ],
   "source": [
    "s.remove(2)#remove an element\n",
    "print(s)\n"
   ]
  },
  {
   "cell_type": "code",
   "execution_count": 19,
   "id": "955a2186-c104-402a-bcf9-e311f2742b38",
   "metadata": {},
   "outputs": [
    {
     "data": {
      "text/plain": [
       "'Python Set clear() Method\\nThe set.clear() method removes all the elements from the set.\\n\\nSyntax:\\nset.clear()'"
      ]
     },
     "execution_count": 19,
     "metadata": {},
     "output_type": "execute_result"
    }
   ],
   "source": [
    "'''Python Set clear() Method\n",
    "The set.clear() method removes all the elements from the set.\n",
    "\n",
    "Syntax:\n",
    "set.clear()'''"
   ]
  },
  {
   "cell_type": "code",
   "execution_count": 21,
   "id": "34b634a3-0424-41fc-8f26-31e0572e299d",
   "metadata": {},
   "outputs": [
    {
     "name": "stdout",
     "output_type": "stream",
     "text": [
      "set()\n"
     ]
    }
   ],
   "source": [
    "langs={'python','c++','c','go'}\n",
    "langs.clear()\n",
    "print(langs)"
   ]
  },
  {
   "cell_type": "code",
   "execution_count": 22,
   "id": "a8e49282-6c66-43ff-a6a4-1283d39bca64",
   "metadata": {},
   "outputs": [
    {
     "data": {
      "text/plain": [
       "'python set copy() method\\nthe set.copy() method returns a shallow copy of the set. \\nsyntax:\\nset.copy()\\n'"
      ]
     },
     "execution_count": 22,
     "metadata": {},
     "output_type": "execute_result"
    }
   ],
   "source": [
    "'''python set copy() method\n",
    "the set.copy() method returns a shallow copy of the set. \n",
    "syntax:\n",
    "set.copy()\n",
    "'''"
   ]
  },
  {
   "cell_type": "code",
   "execution_count": 25,
   "id": "9a96736d-457e-45aa-8fc8-8f45023fa327",
   "metadata": {},
   "outputs": [
    {
     "name": "stdout",
     "output_type": "stream",
     "text": [
      "original set: {'c++', 'java', 'python'}\n",
      "copied set {'c++', 'java', 'python'}\n"
     ]
    }
   ],
   "source": [
    "langs={'python','c++','java'}\n",
    "copiedlangs=langs.copy()\n",
    "print(\"original set:\",langs)\n",
    "print(\"copied set\",copiedlangs)"
   ]
  },
  {
   "cell_type": "code",
   "execution_count": 26,
   "id": "ec0648ed-ffa3-4940-9e1c-78c6083e774d",
   "metadata": {},
   "outputs": [
    {
     "name": "stdout",
     "output_type": "stream",
     "text": [
      "{1, 2, 3}\n",
      "{9, 10}\n"
     ]
    }
   ],
   "source": [
    "a={1,2,3,4,5,6,7,8}\n",
    "b={4,5,6,7,8,9,10}\n",
    "print(a-b)\n",
    "print(b-a)\n",
    "\n"
   ]
  },
  {
   "cell_type": "code",
   "execution_count": 27,
   "id": "4aba4b3f-1848-45b2-97db-d864d623cd85",
   "metadata": {},
   "outputs": [
    {
     "data": {
      "text/plain": [
       "'Python Set difference() Method\\nThe set.difference() method returns the new set with the unique elements that are not in the other set passed as a parameter.\\n\\nSyntax:\\nset.difference(*other_set)'"
      ]
     },
     "execution_count": 27,
     "metadata": {},
     "output_type": "execute_result"
    }
   ],
   "source": [
    "'''Python Set difference() Method\n",
    "The set.difference() method returns the new set with the unique elements that are not in the other set passed as a parameter.\n",
    "\n",
    "Syntax:\n",
    "set.difference(*other_set)'''"
   ]
  },
  {
   "cell_type": "code",
   "execution_count": 29,
   "id": "af72c057-06da-4911-b5d4-835bc7b1bb58",
   "metadata": {},
   "outputs": [
    {
     "name": "stdout",
     "output_type": "stream",
     "text": [
      "{1, 2, 3}\n",
      "{8, 6, 7}\n"
     ]
    }
   ],
   "source": [
    "nums1={1,2,3,4,5}\n",
    "nums2={4,5,6,7,8,8}\n",
    "nums3=nums1.difference(nums2)\n",
    "nums4=nums2.difference(nums1)\n",
    "print(nums3)\n",
    "print(nums4)"
   ]
  },
  {
   "cell_type": "code",
   "execution_count": 30,
   "id": "c160f5d8-f2ed-49c4-8c72-1b4f3ee58085",
   "metadata": {},
   "outputs": [
    {
     "data": {
      "text/plain": [
       "'Python Set intersection() Method\\nThe set.intersection() method returns a new set with the elements that are common in the given sets.\\n\\nSyntax:\\nset.intersection(*other_sets)'"
      ]
     },
     "execution_count": 30,
     "metadata": {},
     "output_type": "execute_result"
    }
   ],
   "source": [
    "'''Python Set intersection() Method\n",
    "The set.intersection() method returns a new set with the elements that are common in the given sets.\n",
    "\n",
    "Syntax:\n",
    "set.intersection(*other_sets)'''"
   ]
  },
  {
   "cell_type": "code",
   "execution_count": 33,
   "id": "11906dc6-bc5f-4f88-b051-39f1d0295543",
   "metadata": {},
   "outputs": [
    {
     "name": "stdout",
     "output_type": "stream",
     "text": [
      "{1, 2, 5}\n"
     ]
    }
   ],
   "source": [
    "x={1,2,3,4,5}\n",
    "y={1,2,5,7,6,2}\n",
    "z=x.intersection(y)\n",
    "print(z)"
   ]
  },
  {
   "cell_type": "code",
   "execution_count": 34,
   "id": "2a8e745f-638d-48e4-9734-2734f3ba8b0a",
   "metadata": {},
   "outputs": [
    {
     "name": "stdout",
     "output_type": "stream",
     "text": [
      "{1, 3}\n"
     ]
    }
   ],
   "source": [
    "x={1,2,3,4,5}\n",
    "y={1,3,5,7}\n",
    "z={2,4,6,3,1}\n",
    "w=x.intersection(y,z)\n",
    "print(w)"
   ]
  },
  {
   "cell_type": "code",
   "execution_count": 35,
   "id": "f4e962c7-3ade-487c-8631-4eef4ab15d1a",
   "metadata": {},
   "outputs": [
    {
     "data": {
      "text/plain": [
       "'Python Set union() Method\\nThe set.union() method returns a new set with distinct elements from all the given sets.\\n\\nSyntax:\\nA.union(*other_sets)'"
      ]
     },
     "execution_count": 35,
     "metadata": {},
     "output_type": "execute_result"
    }
   ],
   "source": [
    "'''Python Set union() Method\n",
    "The set.union() method returns a new set with distinct elements from all the given sets.\n",
    "\n",
    "Syntax:\n",
    "A.union(*other_sets)'''"
   ]
  },
  {
   "cell_type": "code",
   "execution_count": 39,
   "id": "cc986c0f-d0b3-46f3-8173-e0ebcb4453e5",
   "metadata": {},
   "outputs": [
    {
     "name": "stdout",
     "output_type": "stream",
     "text": [
      "{1, 2, 3, 4, 5, 6, 7, 8, 9}\n"
     ]
    }
   ],
   "source": [
    "nums={1,2,3,4,5}\n",
    "nums2={4,5,6,7,8,9}\n",
    "distinctnums=nums.union(nums2)\n",
    "print(distinctnums)"
   ]
  },
  {
   "cell_type": "code",
   "execution_count": 41,
   "id": "11f34aa8-f57e-4866-b131-c557e99d6f0f",
   "metadata": {},
   "outputs": [
    {
     "ename": "KeyError",
     "evalue": "'nine'",
     "output_type": "error",
     "traceback": [
      "\u001b[1;31m---------------------------------------------------------------------------\u001b[0m",
      "\u001b[1;31mKeyError\u001b[0m                                  Traceback (most recent call last)",
      "Cell \u001b[1;32mIn[41], line 3\u001b[0m\n\u001b[0;32m      1\u001b[0m \u001b[38;5;66;03m#differnece between remove and discard \u001b[39;00m\n\u001b[0;32m      2\u001b[0m myset\u001b[38;5;241m=\u001b[39m{\u001b[38;5;124m'\u001b[39m\u001b[38;5;124mone\u001b[39m\u001b[38;5;124m'\u001b[39m,\u001b[38;5;124m'\u001b[39m\u001b[38;5;124mtwo\u001b[39m\u001b[38;5;124m'\u001b[39m,\u001b[38;5;124m'\u001b[39m\u001b[38;5;124mthree\u001b[39m\u001b[38;5;124m'\u001b[39m,\u001b[38;5;124m'\u001b[39m\u001b[38;5;124mfour\u001b[39m\u001b[38;5;124m'\u001b[39m,\u001b[38;5;124m'\u001b[39m\u001b[38;5;124mfive\u001b[39m\u001b[38;5;124m'\u001b[39m,\u001b[38;5;124m'\u001b[39m\u001b[38;5;124msix\u001b[39m\u001b[38;5;124m'\u001b[39m,\u001b[38;5;124m'\u001b[39m\u001b[38;5;124mseven\u001b[39m\u001b[38;5;124m'\u001b[39m}\n\u001b[1;32m----> 3\u001b[0m myset\u001b[38;5;241m.\u001b[39mremove(\u001b[38;5;124m'\u001b[39m\u001b[38;5;124mnine\u001b[39m\u001b[38;5;124m'\u001b[39m)\n\u001b[0;32m      4\u001b[0m myset\u001b[38;5;241m.\u001b[39mdiscard(\u001b[38;5;124m'\u001b[39m\u001b[38;5;124mnine\u001b[39m\u001b[38;5;124m'\u001b[39m)\n",
      "\u001b[1;31mKeyError\u001b[0m: 'nine'"
     ]
    }
   ],
   "source": [
    "#differnece between remove and discard \n",
    "myset={'one','two','three','four','five','six','seven'}\n",
    "myset.remove('nine')#wnen non existing element is deleted by remove cause error."
   ]
  },
  {
   "cell_type": "code",
   "execution_count": 44,
   "id": "ff5583af-63f5-48ad-8bf3-2b7b69e05a38",
   "metadata": {},
   "outputs": [],
   "source": [
    "myset={'one','two','three','four','five','six','seven'}\n",
    "myset.discard('nine') #wnen non existing element is deleted by discard cause ignore."
   ]
  },
  {
   "cell_type": "code",
   "execution_count": 48,
   "id": "08729773-37d8-4885-bd6d-add613b9f5af",
   "metadata": {},
   "outputs": [
    {
     "data": {
      "text/plain": [
       "{1, 2, 3, 4, 5, 6}"
      ]
     },
     "execution_count": 48,
     "metadata": {},
     "output_type": "execute_result"
    }
   ],
   "source": [
    "a={3,5,4,3,5,5,2,3}\n",
    "b={2,5,4,3,6,3,6}\n",
    "c={1,2,3,4,5}\n",
    "a | b #union of a and b (all elements from both sets . no duplicate)\n",
    "a.union(b)#union of a and b\n",
    "a.union(b,c)#union of a,b and c"
   ]
  },
  {
   "cell_type": "code",
   "execution_count": 49,
   "id": "1b9af62f-120f-478c-837b-1c2ca4a9cacd",
   "metadata": {},
   "outputs": [
    {
     "data": {
      "text/plain": [
       "{1, 2, 3, 6, 7, 8, 9}"
      ]
     },
     "execution_count": 49,
     "metadata": {},
     "output_type": "execute_result"
    }
   ],
   "source": [
    "a={1,2,3,4,5}\n",
    "b={4,5,6,7,8,9}\n",
    "a^b #symmetric difference (set of element in a and b but not in both.)"
   ]
  },
  {
   "cell_type": "code",
   "execution_count": 50,
   "id": "0c804c6a-bda7-4408-8bf9-67bd3ea6b0a0",
   "metadata": {},
   "outputs": [
    {
     "data": {
      "text/plain": [
       "True"
      ]
     },
     "execution_count": 50,
     "metadata": {},
     "output_type": "execute_result"
    }
   ],
   "source": [
    "a={1,2,3,4,5,6,7,8,9}\n",
    "b={1,2,4,5,6,7}\n",
    "c={10,20,30,40}\n",
    "b.issubset(a) #set b is said to be the subset of a if all elements of b are in a"
   ]
  },
  {
   "cell_type": "code",
   "execution_count": 51,
   "id": "7a0b8b74-126e-45e8-8f6d-e303d1c694b3",
   "metadata": {},
   "outputs": [
    {
     "data": {
      "text/plain": [
       "True"
      ]
     },
     "execution_count": 51,
     "metadata": {},
     "output_type": "execute_result"
    }
   ],
   "source": [
    "a.issuperset(b) #set a is said to be the superset of set b if all elements of b are in a"
   ]
  },
  {
   "cell_type": "code",
   "execution_count": 52,
   "id": "b21c14af-b27f-462f-a08a-4d28f382eecb",
   "metadata": {},
   "outputs": [
    {
     "data": {
      "text/plain": [
       "False"
      ]
     },
     "execution_count": 52,
     "metadata": {},
     "output_type": "execute_result"
    }
   ],
   "source": [
    "b.isdisjoint(a) #two sets are said to be disjoint if they have noo common set in c.\n"
   ]
  },
  {
   "cell_type": "code",
   "execution_count": 54,
   "id": "86781a69-5f83-465c-8c03-182cb758751c",
   "metadata": {},
   "outputs": [
    {
     "data": {
      "text/plain": [
       "45"
      ]
     },
     "execution_count": 54,
     "metadata": {},
     "output_type": "execute_result"
    }
   ],
   "source": [
    "sum(a)"
   ]
  },
  {
   "cell_type": "code",
   "execution_count": 55,
   "id": "65e021f1-6495-4329-998d-6bdf587de810",
   "metadata": {},
   "outputs": [
    {
     "data": {
      "text/plain": [
       "9"
      ]
     },
     "execution_count": 55,
     "metadata": {},
     "output_type": "execute_result"
    }
   ],
   "source": [
    "max(a)"
   ]
  },
  {
   "cell_type": "code",
   "execution_count": 56,
   "id": "7f7c4792-8c68-427a-9272-39669b2c2768",
   "metadata": {},
   "outputs": [
    {
     "data": {
      "text/plain": [
       "1"
      ]
     },
     "execution_count": 56,
     "metadata": {},
     "output_type": "execute_result"
    }
   ],
   "source": [
    "min(a)"
   ]
  },
  {
   "cell_type": "code",
   "execution_count": 57,
   "id": "d042638d-a493-4ddb-b81f-48602a1dec78",
   "metadata": {},
   "outputs": [
    {
     "data": {
      "text/plain": [
       "9"
      ]
     },
     "execution_count": 57,
     "metadata": {},
     "output_type": "execute_result"
    }
   ],
   "source": [
    "len(a)"
   ]
  },
  {
   "cell_type": "code",
   "execution_count": 58,
   "id": "e48f3c85-637d-4096-a6ab-7cf0013b2009",
   "metadata": {},
   "outputs": [
    {
     "data": {
      "text/plain": [
       "[(0, 1), (1, 2), (2, 3), (3, 4), (4, 5), (5, 6), (6, 7), (7, 8), (8, 9)]"
      ]
     },
     "execution_count": 58,
     "metadata": {},
     "output_type": "execute_result"
    }
   ],
   "source": [
    "list(enumerate(a))"
   ]
  },
  {
   "cell_type": "code",
   "execution_count": null,
   "id": "bbcc10e2-2b44-40b5-ae42-e5eca1b4b89f",
   "metadata": {},
   "outputs": [],
   "source": []
  }
 ],
 "metadata": {
  "kernelspec": {
   "display_name": "Python 3 (ipykernel)",
   "language": "python",
   "name": "python3"
  },
  "language_info": {
   "codemirror_mode": {
    "name": "ipython",
    "version": 3
   },
   "file_extension": ".py",
   "mimetype": "text/x-python",
   "name": "python",
   "nbconvert_exporter": "python",
   "pygments_lexer": "ipython3",
   "version": "3.11.7"
  }
 },
 "nbformat": 4,
 "nbformat_minor": 5
}
