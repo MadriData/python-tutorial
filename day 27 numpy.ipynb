{
 "cells": [
  {
   "cell_type": "code",
   "execution_count": 60,
   "id": "0aba97f1-6150-4e37-bc2e-ae7f5d7af6b3",
   "metadata": {},
   "outputs": [],
   "source": [
    "import numpy as np\n"
   ]
  },
  {
   "cell_type": "markdown",
   "id": "71ac701f-ec5e-4c0e-84dd-8f22a925c354",
   "metadata": {},
   "source": [
    "* perform matrix multiplication in numpy\n",
    "* we use the np.dot() function to perform multipiation between two mayrices.\n",
    "* the number of column of first matrix and the number of rows of seconf=d matrix then multiplication is possible."
   ]
  },
  {
   "cell_type": "code",
   "execution_count": 61,
   "id": "b9800801-ff58-43b1-b0f8-eccd422d903a",
   "metadata": {},
   "outputs": [
    {
     "name": "stdout",
     "output_type": "stream",
     "text": [
      "mayrix1 x matrix2: \n",
      " [[14 30]\n",
      " [38 86]]\n"
     ]
    }
   ],
   "source": [
    "# create two matrices\n",
    "matrix1=np.array([[1,3],[5,7]])\n",
    "matrix2=np.array([[2,6],[4,8]])\n",
    "#calculate the dot product of the two mayrices\n",
    "result=np.dot(matrix1,matrix2)\n",
    "print(\"mayrix1 x matrix2: \\n\" , result)\n",
    "# 1 3               2 6                 1*2+2*6              1*6+3*8\n",
    "# 5 7               4 8"
   ]
  },
  {
   "cell_type": "code",
   "execution_count": 62,
   "id": "14aefdb8-1dc9-429a-9f18-8ac0db1fca2d",
   "metadata": {},
   "outputs": [
    {
     "name": "stdout",
     "output_type": "stream",
     "text": [
      "[[1 3]\n",
      " [5 7]]\n",
      "\n"
     ]
    }
   ],
   "source": [
    "# CREATE a matrix\n",
    "matrix1=np.array([[1,3],[5,7]])\n",
    "print(matrix1)\n",
    "print()"
   ]
  },
  {
   "cell_type": "code",
   "execution_count": 63,
   "id": "98f068b3-0383-4e1d-897c-0c250e61753f",
   "metadata": {},
   "outputs": [
    {
     "name": "stdout",
     "output_type": "stream",
     "text": [
      "[[1 5]\n",
      " [3 7]]\n"
     ]
    }
   ],
   "source": [
    "#get transose of matrix1\n",
    "result=np.transpose(matrix1)\n",
    "print(result)"
   ]
  },
  {
   "cell_type": "markdown",
   "id": "e5889f86-4c20-49d5-9bfe-b52e451c2f33",
   "metadata": {},
   "source": [
    "# numpy.hstack()function\n",
    "* horizontally stack numpy array using numpy.hstack()"
   ]
  },
  {
   "cell_type": "code",
   "execution_count": 64,
   "id": "1d5dcc1e-58b2-42f2-b4a0-45172082a782",
   "metadata": {},
   "outputs": [
    {
     "name": "stdout",
     "output_type": "stream",
     "text": [
      "[3 5 7]\n",
      "\n",
      "[5 7 9]\n",
      "\n",
      "[3 5 7 5 7 9]\n"
     ]
    }
   ],
   "source": [
    "x=np.array((3,5,7))\n",
    "print(x)\n",
    "print()\n",
    "y=np.array((5,7,9))\n",
    "print(y)\n",
    "print()\n",
    "print(np.hstack((x,y)))"
   ]
  },
  {
   "cell_type": "code",
   "execution_count": 65,
   "id": "a29068f1-5a4d-47a6-880f-859a69c90217",
   "metadata": {},
   "outputs": [
    {
     "name": "stdout",
     "output_type": "stream",
     "text": [
      "[[3]\n",
      " [5]\n",
      " [7]]\n",
      "----\n",
      "[[5]\n",
      " [7]\n",
      " [9]]\n",
      "----\n",
      "[[3 5]\n",
      " [5 7]\n",
      " [7 9]]\n"
     ]
    }
   ],
   "source": [
    "x=np.array([[3],[5],[7]])\n",
    "print(x)\n",
    "print(\"----\")\n",
    "y=np.array([[5],[7],[9]])\n",
    "print(y)\n",
    "print(\"----\")\n",
    "print(np.hstack((x,y)))"
   ]
  },
  {
   "cell_type": "code",
   "execution_count": 66,
   "id": "8ef84608-ea32-4bea-adb6-b668a127be04",
   "metadata": {},
   "outputs": [
    {
     "name": "stdout",
     "output_type": "stream",
     "text": [
      "[3 5 7]\n",
      "\n",
      "[5 7 9]\n",
      "\n",
      "[[3 5 7]\n",
      " [5 7 9]]\n"
     ]
    }
   ],
   "source": [
    "x=np.array((3,5,7))\n",
    "print(x)\n",
    "print()\n",
    "y=np.array((5,7,9))\n",
    "print(y)\n",
    "print()\n",
    "print(np.vstack((x,y)))"
   ]
  },
  {
   "cell_type": "code",
   "execution_count": 67,
   "id": "9e34e9a6-ebdc-45eb-a3a3-1228eb00f59c",
   "metadata": {},
   "outputs": [
    {
     "name": "stdout",
     "output_type": "stream",
     "text": [
      "[[3]\n",
      " [5]\n",
      " [7]]\n",
      "\n",
      "[[5]\n",
      " [7]\n",
      " [9]]\n",
      "\n",
      "[[3]\n",
      " [5]\n",
      " [7]\n",
      " [5]\n",
      " [7]\n",
      " [9]]\n"
     ]
    }
   ],
   "source": [
    "x=np.array([[3],[5],[7]])\n",
    "print(x)\n",
    "print()\n",
    "y=np.array([[5],[7],[9]])\n",
    "print(y)\n",
    "print()\n",
    "print(np.vstack((x,y)))"
   ]
  },
  {
   "cell_type": "markdown",
   "id": "3d09aa33-d801-4c06-9b6f-e87d08566b1e",
   "metadata": {},
   "source": [
    "# numpy.arange\n",
    "* this function returns an ndarray object containing evenly spaced values within a given range.\n",
    "# an array of evenly spaced numbers \n"
   ]
  },
  {
   "cell_type": "code",
   "execution_count": 68,
   "id": "759de927-61b9-4d29-99b4-782a27a77d52",
   "metadata": {},
   "outputs": [
    {
     "name": "stdout",
     "output_type": "stream",
     "text": [
      "[ 0  1  2  3  4  5  6  7  8  9 10 11 12 13 14 15 16 17 18 19 20 21 22 23]\n"
     ]
    }
   ],
   "source": [
    " a=np.arange(24)\n",
    "print(a)"
   ]
  },
  {
   "cell_type": "code",
   "execution_count": 69,
   "id": "ffa40e8e-d712-4c57-b0fa-4a1fc94f0ac1",
   "metadata": {},
   "outputs": [
    {
     "data": {
      "text/plain": [
       "1"
      ]
     },
     "execution_count": 69,
     "metadata": {},
     "output_type": "execute_result"
    }
   ],
   "source": [
    "# this is ine dimensional array\n",
    "a= np.arange(24)\n",
    "a.ndim"
   ]
  },
  {
   "cell_type": "code",
   "execution_count": 70,
   "id": "ee7b429e-459c-499f-85da-cf20af8562b4",
   "metadata": {},
   "outputs": [
    {
     "name": "stdout",
     "output_type": "stream",
     "text": [
      "[0. 1. 2. 3. 4.]\n"
     ]
    }
   ],
   "source": [
    "x=np.arange(5,dtype=float)\n",
    "print(x)"
   ]
  },
  {
   "cell_type": "code",
   "execution_count": 71,
   "id": "9d46162d-a55a-4c75-92bd-ec52651fbc47",
   "metadata": {},
   "outputs": [
    {
     "name": "stdout",
     "output_type": "stream",
     "text": [
      "[10 12 14 16 18]\n"
     ]
    }
   ],
   "source": [
    "#start and stop parameter set\n",
    "import numpy as np\n",
    "x=np.arange(10,20,2)\n",
    "print(x)"
   ]
  },
  {
   "cell_type": "markdown",
   "id": "9942ee2b-77a9-45dc-8922-f894207b650c",
   "metadata": {},
   "source": [
    "# numpy.linspace\n",
    "* this function is similar to arange() function.in this function, instead of step size,the number of evenly spaced values between the interval is specified."
   ]
  },
  {
   "cell_type": "code",
   "execution_count": 72,
   "id": "fefcc4e3-985f-4a56-a119-5f99d2d15ce6",
   "metadata": {},
   "outputs": [
    {
     "name": "stdout",
     "output_type": "stream",
     "text": [
      "[10. 12. 14. 16. 18.]\n"
     ]
    }
   ],
   "source": [
    "x=np.linspace(10,18,5)\n",
    "print(x)"
   ]
  },
  {
   "cell_type": "code",
   "execution_count": 73,
   "id": "052516b5-207d-43f8-b9ff-c297ab52d24d",
   "metadata": {},
   "outputs": [
    {
     "name": "stdout",
     "output_type": "stream",
     "text": [
      "[10. 12. 14. 16. 18.]\n"
     ]
    }
   ],
   "source": [
    "# endpoint set to false\n",
    "import numpy as np\n",
    "x=np.linspace(10,20,5, endpoint=False) # 10 12 14 16 18\n",
    "print(x)"
   ]
  },
  {
   "cell_type": "code",
   "execution_count": 74,
   "id": "4026273a-8493-40aa-80e7-f1af0dbbb32d",
   "metadata": {},
   "outputs": [
    {
     "name": "stdout",
     "output_type": "stream",
     "text": [
      "(array([1.  , 1.25, 1.5 , 1.75, 2.  ]), 0.25)\n"
     ]
    }
   ],
   "source": [
    "# find retstep value\n",
    "x=np.linspace(1,2,5,retstep=True)\n",
    "print(x)\n",
    "# retstep here is 0.25"
   ]
  },
  {
   "cell_type": "code",
   "execution_count": 75,
   "id": "6c31b5e4-8706-4ba2-9157-210d9551817d",
   "metadata": {},
   "outputs": [
    {
     "name": "stdout",
     "output_type": "stream",
     "text": [
      "[[3 3 2]\n",
      " [6 7 8]\n",
      " [5 6 7]]\n"
     ]
    }
   ],
   "source": [
    "a=np.array([[3,3,2],[6,7,8],[5,6,7]])\n",
    "print(a)"
   ]
  },
  {
   "cell_type": "code",
   "execution_count": 76,
   "id": "686804f7-4d05-4d67-a987-5485aaee99ba",
   "metadata": {},
   "outputs": [
    {
     "data": {
      "text/plain": [
       "(3, 3)"
      ]
     },
     "execution_count": 76,
     "metadata": {},
     "output_type": "execute_result"
    }
   ],
   "source": [
    "a.shape"
   ]
  },
  {
   "cell_type": "code",
   "execution_count": 77,
   "id": "1478c910-18c9-4d46-a53e-a238ccdedfb0",
   "metadata": {},
   "outputs": [
    {
     "data": {
      "text/plain": [
       "47"
      ]
     },
     "execution_count": 77,
     "metadata": {},
     "output_type": "execute_result"
    }
   ],
   "source": [
    "np.sum(a)"
   ]
  },
  {
   "cell_type": "code",
   "execution_count": 78,
   "id": "74d5ae5b-9dc4-41d8-9c49-c71e377f1de9",
   "metadata": {},
   "outputs": [
    {
     "data": {
      "text/plain": [
       "array([14, 16, 17])"
      ]
     },
     "execution_count": 78,
     "metadata": {},
     "output_type": "execute_result"
    }
   ],
   "source": [
    "np.sum(a,axis=0) # column"
   ]
  },
  {
   "cell_type": "code",
   "execution_count": 79,
   "id": "d79ae71e-7630-4ea6-8c97-212c6b8a7721",
   "metadata": {},
   "outputs": [
    {
     "data": {
      "text/plain": [
       "array([ 8, 21, 18])"
      ]
     },
     "execution_count": 79,
     "metadata": {},
     "output_type": "execute_result"
    }
   ],
   "source": [
    "np.sum(a,axis=1) # row"
   ]
  },
  {
   "cell_type": "code",
   "execution_count": 80,
   "id": "d0c2977c-2d17-4716-9824-4ba4424649e9",
   "metadata": {},
   "outputs": [
    {
     "data": {
      "text/plain": [
       "2"
      ]
     },
     "execution_count": 80,
     "metadata": {},
     "output_type": "execute_result"
    }
   ],
   "source": [
    "np.min(a)"
   ]
  },
  {
   "cell_type": "code",
   "execution_count": 81,
   "id": "9d0abd27-0efe-4f9c-bde2-7ea7f67b8a8a",
   "metadata": {},
   "outputs": [
    {
     "data": {
      "text/plain": [
       "8"
      ]
     },
     "execution_count": 81,
     "metadata": {},
     "output_type": "execute_result"
    }
   ],
   "source": [
    "np.max(a)"
   ]
  },
  {
   "cell_type": "code",
   "execution_count": 82,
   "id": "b11730ce-a466-450a-8048-75248a991b99",
   "metadata": {},
   "outputs": [
    {
     "data": {
      "text/plain": [
       "array([3, 8, 7])"
      ]
     },
     "execution_count": 82,
     "metadata": {},
     "output_type": "execute_result"
    }
   ],
   "source": [
    "np.max(a,axis=1)"
   ]
  },
  {
   "cell_type": "code",
   "execution_count": 83,
   "id": "578c1164-1de5-45b9-9d84-fd5eb5d38c3b",
   "metadata": {},
   "outputs": [
    {
     "data": {
      "text/plain": [
       "array([6, 7, 8])"
      ]
     },
     "execution_count": 83,
     "metadata": {},
     "output_type": "execute_result"
    }
   ],
   "source": [
    "np.max(a,axis=0)"
   ]
  },
  {
   "cell_type": "code",
   "execution_count": 84,
   "id": "93bfbf3a-0a77-4f63-961d-c9150f5feccd",
   "metadata": {},
   "outputs": [
    {
     "data": {
      "text/plain": [
       "array([3, 3, 2])"
      ]
     },
     "execution_count": 84,
     "metadata": {},
     "output_type": "execute_result"
    }
   ],
   "source": [
    "np.min(a,axis=0)"
   ]
  },
  {
   "cell_type": "code",
   "execution_count": 85,
   "id": "736a7366-a34b-43ea-9f57-5686408fdb82",
   "metadata": {},
   "outputs": [
    {
     "data": {
      "text/plain": [
       "array([2, 6, 5])"
      ]
     },
     "execution_count": 85,
     "metadata": {},
     "output_type": "execute_result"
    }
   ],
   "source": [
    "np.min(a,axis=1)"
   ]
  },
  {
   "cell_type": "code",
   "execution_count": null,
   "id": "de70f44b-a021-4a1c-a99d-d3d5958efefb",
   "metadata": {},
   "outputs": [],
   "source": []
  },
  {
   "cell_type": "code",
   "execution_count": null,
   "id": "f8816e4e-ee04-4544-aa4b-bf74e8f98410",
   "metadata": {},
   "outputs": [],
   "source": []
  },
  {
   "cell_type": "code",
   "execution_count": null,
   "id": "073fb3b1-f20e-4ed8-9a28-74089e5dce99",
   "metadata": {},
   "outputs": [],
   "source": []
  },
  {
   "cell_type": "code",
   "execution_count": null,
   "id": "2a48ec98-0001-463c-9252-5074a740aefd",
   "metadata": {},
   "outputs": [],
   "source": []
  },
  {
   "cell_type": "code",
   "execution_count": null,
   "id": "762802de-ea4f-4c7e-bcd6-e9ffc48cfbfd",
   "metadata": {},
   "outputs": [],
   "source": []
  },
  {
   "cell_type": "code",
   "execution_count": null,
   "id": "2320b405-44d0-47e1-a01a-ef7597682be5",
   "metadata": {},
   "outputs": [],
   "source": []
  }
 ],
 "metadata": {
  "kernelspec": {
   "display_name": "Python 3 (ipykernel)",
   "language": "python",
   "name": "python3"
  },
  "language_info": {
   "codemirror_mode": {
    "name": "ipython",
    "version": 3
   },
   "file_extension": ".py",
   "mimetype": "text/x-python",
   "name": "python",
   "nbconvert_exporter": "python",
   "pygments_lexer": "ipython3",
   "version": "3.11.7"
  }
 },
 "nbformat": 4,
 "nbformat_minor": 5
}
