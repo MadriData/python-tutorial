{
 "cells": [
  {
   "cell_type": "markdown",
   "id": "c51168ea-d1cd-4558-b869-3a74d0c5ff10",
   "metadata": {},
   "source": [
    "# NUMPY"
   ]
  },
  {
   "cell_type": "markdown",
   "id": "01fa8006-c516-4426-aef5-6e3ca6af2955",
   "metadata": {},
   "source": [
    "* numpy is the fundamental package for scientific compouunding in python .it is a python liabrary that provides a multidimensional array object, various derived objects(such masked arrays and matrices), and an assortment of routines for fast operations on array ,including mathematical,logical,shape manupilation,sorting,selecting,i\\o,discrete fourier transforms basic linear algebra,basic statistical operation ,random stiulation and much more.\n"
   ]
  },
  {
   "cell_type": "markdown",
   "id": "08e1018f-6a18-42d2-a968-c9b71fe0ae86",
   "metadata": {},
   "source": [
    "* collection of similar type of element"
   ]
  },
  {
   "cell_type": "markdown",
   "id": "ab8becc4-6ae9-4466-8223-d15e746ab9eb",
   "metadata": {},
   "source": [
    "# NUMPY ndARRAY"
   ]
  },
  {
   "cell_type": "markdown",
   "id": "addc3d04-11fc-4a7f-8c58-1e819205b2e0",
   "metadata": {},
   "source": [
    "* NDARRAY IS THE N- DIMENSIONAL ARRAY OBJECT DEFINED IN THE NUMPY WHICH STORES THE COLLECTION OF THE SIMILAR TYPE OF THE DATA TYPE (DTYPE) OBJECTS.\n",
    "* THE NDARRAY OBJECT CAN BE ACCESSSED BY USING THE 0 BASED INDEXING. EACH ELEMENT OF THE ARRAY OBJECT CONTAINS THE SAME SIZE INT HE MEMORY.\n"
   ]
  },
  {
   "cell_type": "code",
   "execution_count": 2,
   "id": "974d7d52-61b4-4675-8102-18a21d31cc0e",
   "metadata": {},
   "outputs": [
    {
     "name": "stdout",
     "output_type": "stream",
     "text": [
      "[1 2 3]\n"
     ]
    }
   ],
   "source": [
    "import numpy as np \n",
    "a= np.array([1,2,3])\n",
    "print(a)"
   ]
  },
  {
   "cell_type": "code",
   "execution_count": 3,
   "id": "83417eac-53f7-4394-94eb-1402c0fadc3d",
   "metadata": {},
   "outputs": [
    {
     "name": "stdout",
     "output_type": "stream",
     "text": [
      "['1' '2' 'a']\n"
     ]
    }
   ],
   "source": [
    "import numpy as np \n",
    "a= np.array([1,2,'a'])\n",
    "print(a)"
   ]
  },
  {
   "cell_type": "code",
   "execution_count": 4,
   "id": "cc58b4d6-cda1-4ac2-8254-ab51a545412d",
   "metadata": {},
   "outputs": [
    {
     "name": "stdout",
     "output_type": "stream",
     "text": [
      "['1' '2.5' 'a']\n"
     ]
    }
   ],
   "source": [
    "import numpy as np \n",
    "a= np.array([1,2.5,'a'])\n",
    "print(a)"
   ]
  },
  {
   "cell_type": "code",
   "execution_count": 5,
   "id": "e1a0f813-0644-4d96-b386-6a55168a0f27",
   "metadata": {},
   "outputs": [],
   "source": [
    "#sring------\"upcasting\"\n",
    "#float\n",
    "#int"
   ]
  },
  {
   "cell_type": "code",
   "execution_count": 6,
   "id": "fd124bc8-758c-47da-bed3-99d46ee6868d",
   "metadata": {},
   "outputs": [
    {
     "name": "stdout",
     "output_type": "stream",
     "text": [
      "[[1 2]\n",
      " [3 4]]\n"
     ]
    }
   ],
   "source": [
    "a=np.array([[1,2],[3,4]])\n",
    "print(a)"
   ]
  },
  {
   "cell_type": "code",
   "execution_count": 7,
   "id": "1b3c6687-eb9d-4398-ac73-43c746b16ed0",
   "metadata": {},
   "outputs": [
    {
     "name": "stdout",
     "output_type": "stream",
     "text": [
      "[[1 2 3 4 5]]\n"
     ]
    }
   ],
   "source": [
    "a=np.array([1,2,3,4,5],ndmin=2)\n",
    "print(a)"
   ]
  },
  {
   "cell_type": "code",
   "execution_count": 8,
   "id": "6efbbe57-6945-4623-977a-51189c773e46",
   "metadata": {},
   "outputs": [
    {
     "name": "stdout",
     "output_type": "stream",
     "text": [
      "[1.+0.j 2.+0.j 3.+0.j]\n"
     ]
    }
   ],
   "source": [
    "a=np.array([1,2,3],dtype=complex)#a+jb\n",
    "print(a)"
   ]
  },
  {
   "cell_type": "code",
   "execution_count": 9,
   "id": "0b0c484a-20b4-4c12-8924-7a10660114f0",
   "metadata": {},
   "outputs": [
    {
     "name": "stdout",
     "output_type": "stream",
     "text": [
      "[1 2 3]\n"
     ]
    }
   ],
   "source": [
    "a=np.array([1.0,2.0,3.0],dtype=int)\n",
    "print(a)"
   ]
  },
  {
   "cell_type": "markdown",
   "id": "b906108d-2640-4e38-9645-0777ce81422f",
   "metadata": {},
   "source": [
    "# ndarray.shape\n",
    "* this array attribute returns a tuple consdering of array dimensions. It can also be used to resize the array."
   ]
  },
  {
   "cell_type": "code",
   "execution_count": 10,
   "id": "d3f07b12-df58-4faf-ac95-fbf16ff94537",
   "metadata": {},
   "outputs": [
    {
     "name": "stdout",
     "output_type": "stream",
     "text": [
      "[[1 2 3]\n",
      " [4 5 6]]\n",
      "\n",
      "(2, 3)\n"
     ]
    }
   ],
   "source": [
    "A= np.array([[1,2,3],[4,5,6]])\n",
    "print(A)\n",
    "print()\n",
    "print(A.shape)"
   ]
  },
  {
   "cell_type": "code",
   "execution_count": 11,
   "id": "0e58f67d-760b-4a9b-bde0-1b0221ad8ed1",
   "metadata": {},
   "outputs": [
    {
     "name": "stdout",
     "output_type": "stream",
     "text": [
      "[[1 2]\n",
      " [3 4]\n",
      " [5 6]]\n"
     ]
    }
   ],
   "source": [
    "a=np.array([[1,2,3],[4,5,6]])\n",
    "a.shape=(3,2)\n",
    "print(a)"
   ]
  },
  {
   "cell_type": "markdown",
   "id": "8d96d369-970c-400c-ab45-6155d73a263d",
   "metadata": {},
   "source": [
    "# reshape\n",
    "* numpy also provides a reshape function to resize an array."
   ]
  },
  {
   "cell_type": "code",
   "execution_count": 12,
   "id": "ec7e16c3-3170-45ef-b6ca-7f87b9018395",
   "metadata": {},
   "outputs": [
    {
     "name": "stdout",
     "output_type": "stream",
     "text": [
      "[[1 2]\n",
      " [3 4]\n",
      " [5 6]]\n"
     ]
    }
   ],
   "source": [
    "a=np.array([[1,2,3],[4,5,6]])\n",
    "b=a.reshape(3,2)\n",
    "print(b)"
   ]
  },
  {
   "cell_type": "markdown",
   "id": "81b7d8ef-442f-4341-b33f-9fb4e03c9105",
   "metadata": {},
   "source": [
    "# zero funtion\n",
    "* returns a new array of specified size and type, filled with zeroes.\n",
    "* numpy.zeroes() "
   ]
  },
  {
   "cell_type": "code",
   "execution_count": 25,
   "id": "693c983f-aef6-4bee-8861-099808c77532",
   "metadata": {
    "scrolled": true
   },
   "outputs": [
    {
     "name": "stdout",
     "output_type": "stream",
     "text": [
      "[0 0 0 0 0]\n"
     ]
    }
   ],
   "source": [
    "x=np.zeros((5),dtype=int)\n",
    "print(x)"
   ]
  },
  {
   "cell_type": "markdown",
   "id": "07628666-ecb0-4800-83ec-64a83bfa9ea5",
   "metadata": {},
   "source": [
    "# ones function\n",
    "* returns a new array of specified size and type, filled with ones.\n",
    "* array of five ones. default dtype is float."
   ]
  },
  {
   "cell_type": "code",
   "execution_count": 14,
   "id": "eb72c0bd-8cd4-4b06-aca0-74e7752311b4",
   "metadata": {},
   "outputs": [
    {
     "name": "stdout",
     "output_type": "stream",
     "text": [
      "[1. 1. 1. 1. 1.]\n"
     ]
    }
   ],
   "source": [
    "x=np.ones(5)\n",
    "print(x)"
   ]
  },
  {
   "cell_type": "code",
   "execution_count": 15,
   "id": "fc0ab6ec-1b33-4502-87c1-a604ac790b4e",
   "metadata": {},
   "outputs": [
    {
     "name": "stdout",
     "output_type": "stream",
     "text": [
      "[[0 0]\n",
      " [0 0]]\n"
     ]
    }
   ],
   "source": [
    "x=np.zeros([2,2],dtype=int)\n",
    "print(x)\n"
   ]
  },
  {
   "cell_type": "code",
   "execution_count": 16,
   "id": "4dacb533-4230-406b-a023-6803ce30d69e",
   "metadata": {},
   "outputs": [
    {
     "name": "stdout",
     "output_type": "stream",
     "text": [
      "[[1 1]\n",
      " [1 1]]\n"
     ]
    }
   ],
   "source": [
    "x=np.ones([2,2],dtype=int)\n",
    "print(x)"
   ]
  },
  {
   "cell_type": "code",
   "execution_count": 17,
   "id": "288903d6-44e5-4d37-bf1d-18babbc5bcff",
   "metadata": {},
   "outputs": [
    {
     "data": {
      "text/plain": [
       "2"
      ]
     },
     "execution_count": 17,
     "metadata": {},
     "output_type": "execute_result"
    }
   ],
   "source": [
    "a.ndim"
   ]
  },
  {
   "cell_type": "code",
   "execution_count": 18,
   "id": "c20e7d45-65f1-4d42-b273-fa9788207982",
   "metadata": {},
   "outputs": [
    {
     "data": {
      "text/plain": [
       "(2, 3)"
      ]
     },
     "execution_count": 18,
     "metadata": {},
     "output_type": "execute_result"
    }
   ],
   "source": [
    "a.shape"
   ]
  },
  {
   "cell_type": "code",
   "execution_count": 19,
   "id": "17b54f08-4f58-4933-b777-12f744c77b62",
   "metadata": {},
   "outputs": [
    {
     "data": {
      "text/plain": [
       "6"
      ]
     },
     "execution_count": 19,
     "metadata": {},
     "output_type": "execute_result"
    }
   ],
   "source": [
    "a.size"
   ]
  },
  {
   "cell_type": "code",
   "execution_count": 20,
   "id": "04223feb-eeff-40a2-ae2b-cbb847303b34",
   "metadata": {},
   "outputs": [
    {
     "name": "stdout",
     "output_type": "stream",
     "text": [
      "[2. 2. 2. 2. 2.]\n"
     ]
    }
   ],
   "source": [
    "x=2*(np.ones(5))\n",
    "print(x)"
   ]
  },
  {
   "cell_type": "code",
   "execution_count": 28,
   "id": "e3145ea5-5649-464d-a75a-abbbcac2f2ba",
   "metadata": {},
   "outputs": [
    {
     "name": "stdout",
     "output_type": "stream",
     "text": [
      "[[1. 0. 0. 0. 0.]\n",
      " [0. 1. 0. 0. 0.]\n",
      " [0. 0. 1. 0. 0.]\n",
      " [0. 0. 0. 1. 0.]\n",
      " [0. 0. 0. 0. 1.]]\n"
     ]
    }
   ],
   "source": [
    "y=np.eye(5) # identity matrix\n",
    "print(y)"
   ]
  },
  {
   "cell_type": "code",
   "execution_count": 22,
   "id": "9fbf0191-e754-4703-bb07-d2db51072d9f",
   "metadata": {},
   "outputs": [
    {
     "name": "stdout",
     "output_type": "stream",
     "text": [
      "[[12 23 34]\n",
      " [34 45 56]\n",
      " [67 78 89]]\n",
      "\n",
      "[12 45 89]\n"
     ]
    }
   ],
   "source": [
    "x=np.array([[12,23,34],[34,45,56],[67,78,89]])\n",
    "print(x)\n",
    "y=np.diag(x)\n",
    "print()\n",
    "print(y)"
   ]
  },
  {
   "cell_type": "code",
   "execution_count": 23,
   "id": "8ecbfef0-d8b1-4bee-b013-cfa0f177eae6",
   "metadata": {},
   "outputs": [
    {
     "name": "stdout",
     "output_type": "stream",
     "text": [
      "[[2 0 0 0 0]\n",
      " [0 3 0 0 0]\n",
      " [0 0 4 0 0]\n",
      " [0 0 0 5 0]\n",
      " [0 0 0 0 6]]\n"
     ]
    }
   ],
   "source": [
    "x=np.diag([2,3,4,5,6])\n",
    "print(x)"
   ]
  },
  {
   "cell_type": "markdown",
   "id": "adaa8ce9-164e-47d9-8e7b-074785720119",
   "metadata": {},
   "source": [
    "# ASARRAY\n",
    "* this function issimilar to numpy.array except for the fact that it has fewer parameters. this routine is useful for converting python sequence into ndarray."
   ]
  },
  {
   "cell_type": "code",
   "execution_count": 24,
   "id": "8e268b17-bc1d-4e54-ba65-3849871d7f31",
   "metadata": {},
   "outputs": [
    {
     "name": "stdout",
     "output_type": "stream",
     "text": [
      "<class 'list'>\n",
      "<class 'numpy.ndarray'>\n",
      "[1 2 3]\n"
     ]
    }
   ],
   "source": [
    "x=[1,2,3] \n",
    "print(type(x))\n",
    "a=np.asarray(x)\n",
    "print(type(a))\n",
    "print(a)"
   ]
  },
  {
   "cell_type": "code",
   "execution_count": null,
   "id": "0e622873-2937-4e66-81f5-f87d1eeada61",
   "metadata": {},
   "outputs": [],
   "source": []
  },
  {
   "cell_type": "code",
   "execution_count": null,
   "id": "91cfb69f-19a3-44e9-b1c3-73cb3c994372",
   "metadata": {},
   "outputs": [],
   "source": []
  }
 ],
 "metadata": {
  "kernelspec": {
   "display_name": "Python 3 (ipykernel)",
   "language": "python",
   "name": "python3"
  },
  "language_info": {
   "codemirror_mode": {
    "name": "ipython",
    "version": 3
   },
   "file_extension": ".py",
   "mimetype": "text/x-python",
   "name": "python",
   "nbconvert_exporter": "python",
   "pygments_lexer": "ipython3",
   "version": "3.11.7"
  }
 },
 "nbformat": 4,
 "nbformat_minor": 5
}
