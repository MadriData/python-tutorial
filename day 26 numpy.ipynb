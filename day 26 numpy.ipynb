{
 "cells": [
  {
   "cell_type": "code",
   "execution_count": 2,
   "id": "c4e5aedc-deaa-4211-a287-3a44f8a07a2a",
   "metadata": {},
   "outputs": [],
   "source": [
    "import numpy as np\n"
   ]
  },
  {
   "cell_type": "code",
   "execution_count": 3,
   "id": "34920acc-c6fb-41c0-a563-21a27268a940",
   "metadata": {},
   "outputs": [
    {
     "name": "stdout",
     "output_type": "stream",
     "text": [
      "[1. 2. 3.]\n"
     ]
    }
   ],
   "source": [
    "x=[1,2,3]\n",
    "a=np.asarray(x,dtype=float)\n",
    "print(a)"
   ]
  },
  {
   "cell_type": "code",
   "execution_count": 9,
   "id": "e7bc2e6a-57eb-42ba-8222-94661ef91877",
   "metadata": {},
   "outputs": [
    {
     "name": "stdout",
     "output_type": "stream",
     "text": [
      "[1 2 3]\n"
     ]
    }
   ],
   "source": [
    "# ndarray from tuple\n",
    "x=(1,2,3)\n",
    "a=np.asarray(x)\n",
    "print(a)"
   ]
  },
  {
   "cell_type": "markdown",
   "id": "3dc177dd-eb0b-493c-a64e-d787b04aaf1d",
   "metadata": {},
   "source": [
    "* create matrix in numpy\n",
    "* in numpy,we use the np.array() function otcreate a matrix. for example,\n"
   ]
  },
  {
   "cell_type": "code",
   "execution_count": 5,
   "id": "cde3a51f-4765-4fc1-a336-f6cfd2cfce55",
   "metadata": {},
   "outputs": [
    {
     "name": "stdout",
     "output_type": "stream",
     "text": [
      "2x2 matrix:\n",
      " [[1 3]\n",
      " [5 7]]\n"
     ]
    }
   ],
   "source": [
    "#create a 2x2 matrix\n",
    "matrix1=np.array([[1,3],[5,7]])\n",
    "print(\"2x2 matrix:\\n\",matrix1)"
   ]
  },
  {
   "cell_type": "code",
   "execution_count": 6,
   "id": "2ae85036-edea-478c-be42-b45e896578b4",
   "metadata": {},
   "outputs": [
    {
     "name": "stdout",
     "output_type": "stream",
     "text": [
      "\n",
      " 3x3 matrix:\n",
      " [[ 2  3  5]\n",
      " [ 4  5  6]\n",
      " [23 45 59]]\n"
     ]
    }
   ],
   "source": [
    "#create 3x3 matrix\n",
    "matrix2= np.array([[2,3,5],[4,5,6],[23,45,59]])\n",
    "print(\"\\n 3x3 matrix:\\n\", matrix2)"
   ]
  },
  {
   "cell_type": "code",
   "execution_count": 7,
   "id": "77fdf3e1-f233-4a96-93a2-6b5583954de5",
   "metadata": {},
   "outputs": [
    {
     "name": "stdout",
     "output_type": "stream",
     "text": [
      "[[ 2  3  4]\n",
      " [ 7  8  9]\n",
      " [ 2  3 45]]\n",
      "\n",
      "[[ 2  3  4]\n",
      " [ 7 12 34]\n",
      " [45 68  7]]\n",
      "\n",
      "[[ 4  6  8]\n",
      " [14 20 43]\n",
      " [47 71 52]]\n"
     ]
    }
   ],
   "source": [
    "a=np.array([[2,3,4],[7,8,9],\n",
    "            [2,3,45]])\n",
    "print(a)\n",
    "print()\n",
    "b= np.array([[2,3,4],[7,12,34],[45,68,7]])\n",
    "print(b)\n",
    "print()\n",
    "c=a+b\n",
    "print(c)\n"
   ]
  },
  {
   "cell_type": "code",
   "execution_count": null,
   "id": "e3f04808-76f8-4f14-b902-fd346c7f9a6c",
   "metadata": {},
   "outputs": [],
   "source": []
  }
 ],
 "metadata": {
  "kernelspec": {
   "display_name": "Python 3 (ipykernel)",
   "language": "python",
   "name": "python3"
  },
  "language_info": {
   "codemirror_mode": {
    "name": "ipython",
    "version": 3
   },
   "file_extension": ".py",
   "mimetype": "text/x-python",
   "name": "python",
   "nbconvert_exporter": "python",
   "pygments_lexer": "ipython3",
   "version": "3.11.7"
  }
 },
 "nbformat": 4,
 "nbformat_minor": 5
}
