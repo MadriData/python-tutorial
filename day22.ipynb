{
 "cells": [
  {
   "cell_type": "code",
   "execution_count": null,
   "id": "2765d109-c927-4b5c-ac77-33f6cbb861da",
   "metadata": {},
   "outputs": [],
   "source": [
    "#FORMAT OF ARGS ,KWARGS \n",
    "#1-unpacking operators are operators that unpack the value from iterab;e objects in python.\n",
    "#2-the string asterisk operator * can be used on any iterable that pythin provides.\n",
    "#3-while the diuble asterisk ** operator can only be used as dictionaries.\n"
   ]
  },
  {
   "cell_type": "code",
   "execution_count": 5,
   "id": "a09e86e3-e2cd-4a24-ab05-be62ddf03fb8",
   "metadata": {},
   "outputs": [
    {
     "name": "stdout",
     "output_type": "stream",
     "text": [
      "[1, 2, 3]\n",
      "1 2 3\n"
     ]
    }
   ],
   "source": [
    "u=[1,2,3]\n",
    "print (u)\n",
    "print(*u)"
   ]
  },
  {
   "cell_type": "code",
   "execution_count": 10,
   "id": "10648a09-4f60-457f-bfe2-083f7675bd94",
   "metadata": {},
   "outputs": [
    {
     "name": "stdout",
     "output_type": "stream",
     "text": [
      "1\n",
      "2 3 4 5 6 7\n",
      "8\n"
     ]
    }
   ],
   "source": [
    "a,*b,c=[1,2,3,4,5,6,7,8]\n",
    "print(a)\n",
    "print(*b)\n",
    "print(c)"
   ]
  },
  {
   "cell_type": "code",
   "execution_count": 13,
   "id": "8fe59876-9a6d-4e29-b1e8-4e70660dcdfe",
   "metadata": {},
   "outputs": [
    {
     "data": {
      "text/plain": [
       "[1, 2, 3, 5, 6, 7, 7, 8, 9]"
      ]
     },
     "execution_count": 13,
     "metadata": {},
     "output_type": "execute_result"
    }
   ],
   "source": [
    "a=[1,2,3]\n",
    "b=[5,6,7]\n",
    "c=[7,8,9]\n",
    "d=[*a,*b,*c]\n",
    "d"
   ]
  },
  {
   "cell_type": "code",
   "execution_count": 15,
   "id": "76cbd5f0-c39e-4cc6-a4bc-c9d9908dc7cd",
   "metadata": {},
   "outputs": [
    {
     "data": {
      "text/plain": [
       "['r', 'e', 'a', 'l', 'p', 'y', 't', 'h', 'o', 'n']"
      ]
     },
     "execution_count": 15,
     "metadata": {},
     "output_type": "execute_result"
    }
   ],
   "source": [
    "a=[*\"realpython\"]\n",
    "a"
   ]
  },
  {
   "cell_type": "code",
   "execution_count": 17,
   "id": "7ac5f8db-fbc8-4ac5-a487-6e628b9ec938",
   "metadata": {},
   "outputs": [
    {
     "data": {
      "text/plain": [
       "{'a': 1, 'b': 2, 'c': 3, 'd': 4}"
      ]
     },
     "execution_count": 17,
     "metadata": {},
     "output_type": "execute_result"
    }
   ],
   "source": [
    "d1={\"a\":1,\"b\":2}\n",
    "d2={\"c\":3,\"d\":4}\n",
    "d1.update(d2)\n",
    "d1"
   ]
  },
  {
   "cell_type": "code",
   "execution_count": 22,
   "id": "e0e9c2c4-2fff-4c2b-9e55-129dbbe07f9b",
   "metadata": {},
   "outputs": [
    {
     "name": "stdout",
     "output_type": "stream",
     "text": [
      "{'c', 'f', 'a', 'e', 'b', 'd'}\n"
     ]
    },
    {
     "data": {
      "text/plain": [
       "{'a': 1, 'b': 2, 'c': 3, 'd': 4, 'e': 5, 'f': 6}"
      ]
     },
     "execution_count": 22,
     "metadata": {},
     "output_type": "execute_result"
    }
   ],
   "source": [
    "d1={\"a\":1,\"b\":2,\"c\":3,\"d\":4}\n",
    "d2={\"e\":5,\"f\":6}\n",
    "d3={*d1,*d2}\n",
    "print(d3)\n",
    "d4={**d1,**d2}\n",
    "d4"
   ]
  },
  {
   "cell_type": "code",
   "execution_count": 24,
   "id": "c9c1bfa2-7f68-4ebc-ab5a-b3997941323e",
   "metadata": {},
   "outputs": [],
   "source": [
    "def mysum (a,b,c,d,e):\n",
    "    return (a+b+c+d+e)"
   ]
  },
  {
   "cell_type": "code",
   "execution_count": 26,
   "id": "a9e050fc-2517-44a5-8b5e-954fb58181ee",
   "metadata": {},
   "outputs": [
    {
     "data": {
      "text/plain": [
       "15"
      ]
     },
     "execution_count": 26,
     "metadata": {},
     "output_type": "execute_result"
    }
   ],
   "source": [
    "mylist=[1,2,3,4,5]\n",
    "mysum(*mylist)"
   ]
  },
  {
   "cell_type": "code",
   "execution_count": 29,
   "id": "90e21928-565e-48c3-96ec-25c19dd435d3",
   "metadata": {},
   "outputs": [],
   "source": [
    "def mysum(*a):\n",
    "    result=0\n",
    "    for i in a:\n",
    "        result=result+i\n",
    "    return result\n"
   ]
  },
  {
   "cell_type": "code",
   "execution_count": 31,
   "id": "5127b5c5-62ec-4ef4-9691-c5ee81aa2e0f",
   "metadata": {},
   "outputs": [
    {
     "data": {
      "text/plain": [
       "45"
      ]
     },
     "execution_count": 31,
     "metadata": {},
     "output_type": "execute_result"
    }
   ],
   "source": [
    "list1=[1,2,3]\n",
    "list2=[4,5,6]\n",
    "list3=[7,8,9]\n",
    "mysum(*list1,*list2,*list3)"
   ]
  },
  {
   "cell_type": "code",
   "execution_count": 32,
   "id": "6893c17f-2579-40f2-8fdf-3068ff91e351",
   "metadata": {},
   "outputs": [],
   "source": [
    "#zip function"
   ]
  },
  {
   "cell_type": "code",
   "execution_count": 34,
   "id": "00ca5ee9-cbb6-4132-b393-44290f1310a7",
   "metadata": {},
   "outputs": [
    {
     "data": {
      "text/plain": [
       "[('john', 'me'), ('peter', 'anubhav')]"
      ]
     },
     "execution_count": 34,
     "metadata": {},
     "output_type": "execute_result"
    }
   ],
   "source": [
    "a=[\"john\",\"peter\",\"nishant\"]\n",
    "b=[\"me\",\"anubhav\"]\n",
    "list(zip(a,b))"
   ]
  },
  {
   "cell_type": "code",
   "execution_count": 36,
   "id": "24720b90-16ea-4eee-8c1b-e52435a2db82",
   "metadata": {},
   "outputs": [
    {
     "data": {
      "text/plain": [
       "[('b', 'n'),\n",
       " ('h', 'd'),\n",
       " ('u', 'j'),\n",
       " ('s', 'h'),\n",
       " ('n', 'f'),\n",
       " ('a', 'u'),\n",
       " ('m', 'i'),\n",
       " ('c', 'e'),\n",
       " ('h', 'q'),\n",
       " ('i', 'h'),\n",
       " ('n', 'f')]"
      ]
     },
     "execution_count": 36,
     "metadata": {},
     "output_type": "execute_result"
    }
   ],
   "source": [
    "a=\"bhusnamchin\"\n",
    "b=\"ndjhfuieqhfncjdnj\"\n",
    "list(zip(a,b))"
   ]
  },
  {
   "cell_type": "code",
   "execution_count": 1,
   "id": "42a87175-4be0-4a6e-a1e2-c0bd80bdb469",
   "metadata": {},
   "outputs": [
    {
     "name": "stdout",
     "output_type": "stream",
     "text": [
      "[(1, 'one'), (2, 'two'), (3, 'three')]\n"
     ]
    }
   ],
   "source": [
    "mylist=[1,2,3]\n",
    "string=['one','two']\n",
    "tuple1=('one','two','three','four')\n",
    "result=zip(mylist,tuple1)\n",
    "print(list(result))"
   ]
  },
  {
   "cell_type": "code",
   "execution_count": 4,
   "id": "4b984189-2626-4909-aa76-c35637375a65",
   "metadata": {},
   "outputs": [],
   "source": [
    "#l1=[\"dl\",\"ml\",\"npl\"]\n",
    "s1=\"python\"\n"
   ]
  },
  {
   "cell_type": "code",
   "execution_count": 3,
   "id": "08fce14e-b1fc-4d68-9824-0bbcea628126",
   "metadata": {},
   "outputs": [
    {
     "name": "stdout",
     "output_type": "stream",
     "text": [
      "[(1, 'one', 'one'), (2, 'two', 'two')]\n"
     ]
    }
   ],
   "source": [
    "result1=zip(mylist,tuple1,string)\n",
    "print(list(result1))"
   ]
  },
  {
   "cell_type": "code",
   "execution_count": null,
   "id": "d65bc288-e80e-4193-a9f1-5c81c4b75a49",
   "metadata": {},
   "outputs": [],
   "source": [
    "#enumerate"
   ]
  },
  {
   "cell_type": "code",
   "execution_count": 7,
   "id": "aecf7958-8f95-4b99-8f83-c8235ea4384d",
   "metadata": {},
   "outputs": [
    {
     "data": {
      "text/plain": [
       "[(0, 'p'), (1, 'y'), (2, 't'), (3, 'h'), (4, 'o'), (5, 'n')]"
      ]
     },
     "execution_count": 7,
     "metadata": {},
     "output_type": "execute_result"
    }
   ],
   "source": [
    "s1=\"python\"\n",
    "list(enumerate(s1))"
   ]
  },
  {
   "cell_type": "code",
   "execution_count": 9,
   "id": "68bc27b8-00a1-4407-a631-66c167007062",
   "metadata": {},
   "outputs": [
    {
     "data": {
      "text/plain": [
       "[(5, 'dl'), (6, 'ml'), (7, 'mlp')]"
      ]
     },
     "execution_count": 9,
     "metadata": {},
     "output_type": "execute_result"
    }
   ],
   "source": [
    "l1=[\"dl\",\"ml\",\"mlp\"]\n",
    "ls=list(enumerate(l1,5))\n",
    "ls"
   ]
  },
  {
   "cell_type": "code",
   "execution_count": 12,
   "id": "d4cc28a3-4cab-4547-9f3c-188a185b1d3c",
   "metadata": {},
   "outputs": [
    {
     "name": "stdout",
     "output_type": "stream",
     "text": [
      "dl 0\n",
      "ml 1\n"
     ]
    }
   ],
   "source": [
    "l1=[\"dl\",\"ml\",\"nlp\"]\n",
    "for i,j in enumerate(l1):\n",
    "    if i<2:\n",
    "        print(j,i)\n"
   ]
  },
  {
   "cell_type": "code",
   "execution_count": 16,
   "id": "811ef483-07e8-4048-8930-c961ff4db401",
   "metadata": {},
   "outputs": [
    {
     "name": "stdout",
     "output_type": "stream",
     "text": [
      "[('x', 3), ('y', 4), ('z', 5)]\n"
     ]
    }
   ],
   "source": [
    "coordinate=['x','y','z']\n",
    "value=[3,4,5]\n",
    "result=zip(coordinate,value)\n",
    "resultlist=list(result)\n",
    "print(resultlist)\n",
    "c=zip(*resultlist)\n",
    "v=zip(*resultlist)"
   ]
  },
  {
   "cell_type": "code",
   "execution_count": 21,
   "id": "69bdf064-fa2f-4a19-b06c-84e9c1709db3",
   "metadata": {},
   "outputs": [],
   "source": [
    "#lambda "
   ]
  },
  {
   "cell_type": "code",
   "execution_count": 20,
   "id": "ceacc9b9-12b5-4e60-bcd9-4ab1fd8dd4ff",
   "metadata": {},
   "outputs": [
    {
     "data": {
      "text/plain": [
       "1010"
      ]
     },
     "execution_count": 20,
     "metadata": {},
     "output_type": "execute_result"
    }
   ],
   "source": [
    "x=lambda a:a+10  #lambda var:expression(annonymous)\n",
    "x(1000)"
   ]
  },
  {
   "cell_type": "code",
   "execution_count": 24,
   "id": "9a31c6f2-22c5-48e3-8cc1-649769d5c0c4",
   "metadata": {},
   "outputs": [
    {
     "data": {
      "text/plain": [
       "60"
      ]
     },
     "execution_count": 24,
     "metadata": {},
     "output_type": "execute_result"
    }
   ],
   "source": [
    "z=lambda a,b,c : a+b+c\n",
    "z(10,20,30)"
   ]
  },
  {
   "cell_type": "code",
   "execution_count": 25,
   "id": "ef1bf13b-1fd0-4fca-a43b-875657b84bf1",
   "metadata": {},
   "outputs": [
    {
     "data": {
      "text/plain": [
       "12"
      ]
     },
     "execution_count": 25,
     "metadata": {},
     "output_type": "execute_result"
    }
   ],
   "source": [
    "a=lambda x:x+2\n",
    "a(10)"
   ]
  },
  {
   "cell_type": "code",
   "execution_count": 30,
   "id": "4eb032aa-5b72-46f7-a3c7-b574015411c8",
   "metadata": {},
   "outputs": [
    {
     "data": {
      "text/plain": [
       "386953"
      ]
     },
     "execution_count": 30,
     "metadata": {},
     "output_type": "execute_result"
    }
   ],
   "source": [
    "ismail=lambda a,b,c:a+b*c  #a+(b+c*d)+f/(a*b)\n",
    "ismail(7339,838,453)\n"
   ]
  },
  {
   "cell_type": "code",
   "execution_count": 31,
   "id": "2b62ce8b-f35d-48bf-9a97-6b0a1b1f8472",
   "metadata": {},
   "outputs": [
    {
     "name": "stdout",
     "output_type": "stream",
     "text": [
      "10\n"
     ]
    }
   ],
   "source": [
    "a=10\n",
    "if a%2==0:\n",
    "    print(a)"
   ]
  },
  {
   "cell_type": "code",
   "execution_count": null,
   "id": "83d09b8c-6aac-4b4c-927c-f5d7de1989aa",
   "metadata": {},
   "outputs": [],
   "source": []
  }
 ],
 "metadata": {
  "kernelspec": {
   "display_name": "Python 3 (ipykernel)",
   "language": "python",
   "name": "python3"
  },
  "language_info": {
   "codemirror_mode": {
    "name": "ipython",
    "version": 3
   },
   "file_extension": ".py",
   "mimetype": "text/x-python",
   "name": "python",
   "nbconvert_exporter": "python",
   "pygments_lexer": "ipython3",
   "version": "3.11.7"
  }
 },
 "nbformat": 4,
 "nbformat_minor": 5
}
