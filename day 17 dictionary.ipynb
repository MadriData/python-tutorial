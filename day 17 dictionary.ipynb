{
 "cells": [
  {
   "cell_type": "code",
   "execution_count": 1,
   "id": "d292d361-97fd-4013-a8e0-5b2b14002977",
   "metadata": {},
   "outputs": [],
   "source": [
    "d1={\"name\":\"steve\",\"age\":25,\"marks\":60}\n",
    "d2={\"name\":\"anil\",\"age\":23,\"marks\":75}\n",
    "d3={\"name\":\"asha\",\"age\":20,\"marks\":70}"
   ]
  },
  {
   "cell_type": "code",
   "execution_count": 7,
   "id": "9e903c00-939a-4044-bc03-f80c4c0189c6",
   "metadata": {},
   "outputs": [
    {
     "name": "stdout",
     "output_type": "stream",
     "text": [
      "{1: {'name': 'steve', 'age': 25, 'marks': 60}, 2: {'name': 'anil', 'age': 23, 'marks': 75}, 3: {'name': 'asha', 'age': 20, 'marks': 70}}\n"
     ]
    }
   ],
   "source": [
    "students={1:d1,2:d2,3:d3}\n",
    "print(students)"
   ]
  },
  {
   "cell_type": "code",
   "execution_count": 8,
   "id": "c1322b5b-5f83-477b-a892-0734116fd729",
   "metadata": {},
   "outputs": [
    {
     "name": "stdout",
     "output_type": "stream",
     "text": [
      "{'name': 'steve', 'age': 25, 'marks': 60}\n",
      "{'name': 'anil', 'age': 23, 'marks': 75}\n",
      "{'name': 'asha', 'age': 20, 'marks': 70}\n"
     ]
    }
   ],
   "source": [
    "print(students[1])\n",
    "print(students[2])\n",
    "print(students[3])"
   ]
  },
  {
   "cell_type": "code",
   "execution_count": 12,
   "id": "a5cb4682-4fe0-44d9-95ae-6108bd4ec056",
   "metadata": {},
   "outputs": [
    {
     "name": "stdout",
     "output_type": "stream",
     "text": [
      "dictionary: {'i': 1, 'ii': 2, 'iii': 3, 'iv': 4, 'v': 5}\n"
     ]
    }
   ],
   "source": [
    "#dictionary methods\n",
    "#clear method\n",
    "romannums={\"i\":1,\"ii\":2,\"iii\":3,\"iv\":4,\"v\":5}\n",
    "print(\"dictionary:\",romannums)"
   ]
  },
  {
   "cell_type": "code",
   "execution_count": 15,
   "id": "4612ecdb-81fb-40b2-b17e-fcedebb98936",
   "metadata": {},
   "outputs": [
    {
     "name": "stdout",
     "output_type": "stream",
     "text": [
      "{}\n"
     ]
    }
   ],
   "source": [
    "romannums.clear()\n",
    "print(\"ditionary after calling clear() method:\",romannums)"
   ]
  },
  {
   "cell_type": "code",
   "execution_count": 16,
   "id": "9fb5bbb2-2309-4437-9120-e7626f18a892",
   "metadata": {},
   "outputs": [
    {
     "name": "stdout",
     "output_type": "stream",
     "text": [
      "{'a': 123, 'b': 345, 'c': 567, 'd': 789}\n",
      "{'a': 123, 'b': 345, 'c': 567, 'd': 789}\n",
      "{}\n",
      "{}\n"
     ]
    }
   ],
   "source": [
    "d1={\"a\":123,\"b\":345,\"c\":567,\"d\":789}\n",
    "d2=d1\n",
    "print(d1)\n",
    "print(d2)\n",
    "d2.clear()\n",
    "print(d1)\n",
    "print(d2)"
   ]
  },
  {
   "cell_type": "code",
   "execution_count": 18,
   "id": "4e2c5917-47aa-4cf0-b877-c451a9ce648a",
   "metadata": {},
   "outputs": [
    {
     "name": "stdout",
     "output_type": "stream",
     "text": [
      "{'a': 123, 'b': 345, 'c': 567, 'd': 789}\n",
      "{'a': 123, 'b': 345, 'c': 567, 'd': 789}\n",
      "{'a': 123, 'b': 345, 'c': 567, 'd': 789}\n",
      "{}\n"
     ]
    }
   ],
   "source": [
    "d1={\"a\":123,\"b\":345,\"c\":567,\"d\":789}\n",
    "d2=d1.copy()\n",
    "print(d1)\n",
    "print(d2)\n",
    "d2.clear()\n",
    "print(d1)\n",
    "print(d2)"
   ]
  },
  {
   "cell_type": "code",
   "execution_count": 20,
   "id": "425dbe33-8e7c-4220-a9b5-03b903546fde",
   "metadata": {},
   "outputs": [
    {
     "name": "stdout",
     "output_type": "stream",
     "text": [
      "{'bangalore': 'city', 'new york': 'city', 'mumbai': 'city', 'chicago': 'city'}\n"
     ]
    }
   ],
   "source": [
    "#from keys\n",
    "keys={\"mumbai\",\"bangalore\",\"chicago\",\"new york\"}\n",
    "value=\"city\"\n",
    "dictionary=dict.fromkeys(keys,value)\n",
    "print(dictionary)"
   ]
  },
  {
   "cell_type": "code",
   "execution_count": 33,
   "id": "57f22fd2-1567-4cc7-af37-4626a5ac5f29",
   "metadata": {},
   "outputs": [
    {
     "name": "stdout",
     "output_type": "stream",
     "text": [
      "{'bangalore': 10, 'new york': 10, 'mumbai': 10, 'chicago': 10}\n"
     ]
    }
   ],
   "source": [
    "keys={\"mumbai\",\"bangalore\",\"chicago\",\"new york\"}\n",
    "value=10\n",
    "dictionary=dict.fromkeys(keys,value)\n",
    "print(dictionary)"
   ]
  },
  {
   "cell_type": "code",
   "execution_count": 22,
   "id": "c2f56606-a5bc-4b0e-a66f-8d8df90282dc",
   "metadata": {},
   "outputs": [
    {
     "name": "stdout",
     "output_type": "stream",
     "text": [
      "{'bangalore': None, 'new york': None, 'mumbai': None, 'chicago': None}\n"
     ]
    }
   ],
   "source": [
    "keys={\"mumbai\",\"bangalore\",\"chicago\",\"new york\"}\n",
    "dictionary=dict.fromkeys(keys)\n",
    "print(dictionary\n",
    "     )"
   ]
  },
  {
   "cell_type": "code",
   "execution_count": 24,
   "id": "39d39d77-d14e-43a4-80cd-ae3c7ba51a6b",
   "metadata": {},
   "outputs": [
    {
     "name": "stdout",
     "output_type": "stream",
     "text": [
      "dict_items([('i', 1), ('ii', 2), ('iii', 3), ('iv', 4)])\n"
     ]
    }
   ],
   "source": [
    "#dict items\n",
    "romannums={\"i\":1,\"ii\":2,\"iii\":3,\"iv\":4}\n",
    "dictview=romannums.items()\n",
    "print(dictview)"
   ]
  },
  {
   "cell_type": "code",
   "execution_count": 28,
   "id": "75e53d73-dc42-405d-a35b-ed06b18f5ad0",
   "metadata": {},
   "outputs": [
    {
     "name": "stdout",
     "output_type": "stream",
     "text": [
      "dict_keys(['i', 'ii', 'iii', 'iv'])\n"
     ]
    }
   ],
   "source": [
    "romannums={'i':1,'ii':2,'iii':3,'iv':4}\n",
    "keys=romannums.keys()\n",
    "print(keys\n",
    "     )"
   ]
  },
  {
   "cell_type": "code",
   "execution_count": 30,
   "id": "30612e85-21bf-4741-8e98-d2d00fdc2383",
   "metadata": {},
   "outputs": [
    {
     "name": "stdout",
     "output_type": "stream",
     "text": [
      "dictionary: {'i': 1, 'ii': 2, 'iii': 3, 'v': 5}\n",
      "updated dictionary: {'i': 1, 'ii': 2, 'iii': 3, 'v': 5, 'iv': 4, 'vi': 6}\n"
     ]
    }
   ],
   "source": [
    "#update method\n",
    "x={'i':1,'ii':2,'iii':3,'v':5}\n",
    "print(\"dictionary:\",x)\n",
    "y={'iv':4,'vi':6}\n",
    "x.update(y)\n",
    "print(\"updated dictionary:\",x)"
   ]
  },
  {
   "cell_type": "code",
   "execution_count": 32,
   "id": "c1112ff6-1eb1-433a-b7d8-f3e75f15a1ec",
   "metadata": {},
   "outputs": [
    {
     "name": "stdout",
     "output_type": "stream",
     "text": [
      "dict_values([1, 2, 3, 4])\n"
     ]
    }
   ],
   "source": [
    "#values\n",
    "romannums={'i':1,'ii':2,'iii':3,'iv':4}\n",
    "values=romannums.values()\n",
    "print(values)"
   ]
  },
  {
   "cell_type": "code",
   "execution_count": 39,
   "id": "0c2f9a0e-dafe-4a23-8d32-2ed13a7c61ea",
   "metadata": {},
   "outputs": [
    {
     "name": "stdout",
     "output_type": "stream",
     "text": [
      "{'d': [10, 20, 30], 'b': [10, 20, 30], 'a': [10, 20, 30], 'c': [10, 20, 30]}\n"
     ]
    },
    {
     "data": {
      "text/plain": [
       "{'d': [10, 20, 30, 40],\n",
       " 'b': [10, 20, 30, 40],\n",
       " 'a': [10, 20, 30, 40],\n",
       " 'c': [10, 20, 30, 40]}"
      ]
     },
     "execution_count": 39,
     "metadata": {},
     "output_type": "execute_result"
    }
   ],
   "source": [
    "keys={'a','b','c','d'}\n",
    "values=[10,20,30]\n",
    "mydict3=dict.fromkeys(keys,values)\n",
    "print(mydict3)\n",
    "values.append(40)\n",
    "mydict3"
   ]
  },
  {
   "cell_type": "code",
   "execution_count": 35,
   "id": "e6796e35-7739-4f9f-a16c-db6eb8d2226d",
   "metadata": {},
   "outputs": [
    {
     "data": {
      "text/plain": [
       "{'d': dict_values([1, 2, 3, 4]),\n",
       " 'b': dict_values([1, 2, 3, 4]),\n",
       " 'a': dict_values([1, 2, 3, 4]),\n",
       " 'c': dict_values([1, 2, 3, 4])}"
      ]
     },
     "execution_count": 35,
     "metadata": {},
     "output_type": "execute_result"
    }
   ],
   "source": [
    "value.append(40)\n",
    "mydict3"
   ]
  },
  {
   "cell_type": "code",
   "execution_count": null,
   "id": "a0ba3601-9b63-488f-8c58-1bb2f3e73688",
   "metadata": {},
   "outputs": [],
   "source": []
  }
 ],
 "metadata": {
  "kernelspec": {
   "display_name": "Python 3 (ipykernel)",
   "language": "python",
   "name": "python3"
  },
  "language_info": {
   "codemirror_mode": {
    "name": "ipython",
    "version": 3
   },
   "file_extension": ".py",
   "mimetype": "text/x-python",
   "name": "python",
   "nbconvert_exporter": "python",
   "pygments_lexer": "ipython3",
   "version": "3.11.7"
  }
 },
 "nbformat": 4,
 "nbformat_minor": 5
}
