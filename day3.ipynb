{
 "cells": [
  {
   "cell_type": "code",
   "execution_count": 3,
   "id": "1c5770e1-cb4c-4a0c-9fb1-bca768b4f5ef",
   "metadata": {},
   "outputs": [
    {
     "name": "stdin",
     "output_type": "stream",
     "text": [
      "enter the number 10\n"
     ]
    },
    {
     "name": "stdout",
     "output_type": "stream",
     "text": [
      "you won\n"
     ]
    }
   ],
   "source": [
    "n=int(input(\"enter the number\"))\n",
    "if n==10:\n",
    "    print(\"you won\")"
   ]
  },
  {
   "cell_type": "code",
   "execution_count": 7,
   "id": "26e0017f-6cbe-4092-9e7e-fba1b8e43416",
   "metadata": {},
   "outputs": [
    {
     "name": "stdin",
     "output_type": "stream",
     "text": [
      "enter the amount 0\n"
     ]
    },
    {
     "name": "stdout",
     "output_type": "stream",
     "text": [
      "number is zero itself\n"
     ]
    }
   ],
   "source": [
    "n=int(input(\"enter the amount\"))\n",
    "if n<0:\n",
    "    print(\"-ve number\")\n",
    "if n>0:\n",
    "    print(\"+ve number\")\n",
    "if n==0:\n",
    "    print(\"number is zero itself\")\n",
    "    "
   ]
  },
  {
   "cell_type": "code",
   "execution_count": 9,
   "id": "57699553-733c-48a2-90e9-8b67c9ef55be",
   "metadata": {},
   "outputs": [
    {
     "name": "stdin",
     "output_type": "stream",
     "text": [
      "enter the number 10\n"
     ]
    },
    {
     "name": "stdout",
     "output_type": "stream",
     "text": [
      "even number\n"
     ]
    }
   ],
   "source": [
    "#check even odd number\n",
    "n=int(input(\"enter the number\"))\n",
    "if n%2==0:\n",
    "    print(\"even number\")\n",
    "else:\n",
    "    print(\"odd number\")\n",
    "    "
   ]
  },
  {
   "cell_type": "code",
   "execution_count": 12,
   "id": "1f595552-bcdb-4782-9d28-4a72f3875d9b",
   "metadata": {},
   "outputs": [
    {
     "name": "stdin",
     "output_type": "stream",
     "text": [
      "enter the year 2002\n"
     ]
    },
    {
     "name": "stdout",
     "output_type": "stream",
     "text": [
      "non leap year\n"
     ]
    }
   ],
   "source": [
    "# checkthe leap year\n",
    "year=int(input(\"enter the year\"))\n",
    "if year%4==0:\n",
    "    print(\"leap year\")\n",
    "else:\n",
    "    print(\"non leap year\")"
   ]
  },
  {
   "cell_type": "code",
   "execution_count": 14,
   "id": "43ef8891-4bfc-4d88-aec1-fc000dd5ce74",
   "metadata": {},
   "outputs": [
    {
     "name": "stdin",
     "output_type": "stream",
     "text": [
      "enter the age 20\n"
     ]
    },
    {
     "name": "stdout",
     "output_type": "stream",
     "text": [
      "eligible\n"
     ]
    }
   ],
   "source": [
    "# vote eligibility\n",
    "age= int(input(\"enter the age\"))\n",
    "if age>=18:\n",
    "    print(\"eligible\")\n",
    "else:\n",
    "    print(\"not eligible\")"
   ]
  },
  {
   "cell_type": "code",
   "execution_count": 16,
   "id": "c5f3707b-2f19-42aa-87d3-6b7a234ec9f9",
   "metadata": {},
   "outputs": [
    {
     "name": "stdin",
     "output_type": "stream",
     "text": [
      "enter the number 12\n"
     ]
    },
    {
     "name": "stdout",
     "output_type": "stream",
     "text": [
      "12\n"
     ]
    }
   ],
   "source": [
    "# change into positive number if negative number enter\n",
    "n=int(input(\"enter the number\"))\n",
    "if n<0:\n",
    "    print(-1*n)\n",
    "else:\n",
    "    print(n)"
   ]
  },
  {
   "cell_type": "code",
   "execution_count": 17,
   "id": "e13057ef-2f65-4566-bfd4-af6a9254b2dc",
   "metadata": {},
   "outputs": [
    {
     "name": "stdin",
     "output_type": "stream",
     "text": [
      "enter the number -7\n"
     ]
    },
    {
     "name": "stdout",
     "output_type": "stream",
     "text": [
      "7\n"
     ]
    }
   ],
   "source": [
    "# change into positive number if negative number enter\n",
    "n=int(input(\"enter the number\"))\n",
    "x=abs(n)\n",
    "print(x)\n"
   ]
  },
  {
   "cell_type": "code",
   "execution_count": 27,
   "id": "3002d785-0092-4af8-82b0-999ff2b7a540",
   "metadata": {},
   "outputs": [
    {
     "name": "stdin",
     "output_type": "stream",
     "text": [
      "enter the value from 1-7   8\n"
     ]
    },
    {
     "name": "stdout",
     "output_type": "stream",
     "text": [
      "invalid choice\n"
     ]
    }
   ],
   "source": [
    "# if elif\n",
    "day=int(input(\"enter the value from 1-7  \"))\n",
    "if day==1:\n",
    "    print(\"sunday\")\n",
    "elif day==2:\n",
    "    print(\"monday\")\n",
    "elif day==3:\n",
    "    print(\"tue\")\n",
    "elif day==4:\n",
    "    print(\"wed\")\n",
    "elif day==5:\n",
    "    print(\"thus\")\n",
    "elif day==6:\n",
    "    print(\"fri\")\n",
    "elif day==7:\n",
    "    print(\"sat\")\n",
    "else:\n",
    "    print(\"invalid choice\")\n",
    "    \n",
    "\n"
   ]
  },
  {
   "cell_type": "code",
   "execution_count": 29,
   "id": "4414b708-6848-44c8-8b12-3e1e69a282ae",
   "metadata": {},
   "outputs": [
    {
     "name": "stdin",
     "output_type": "stream",
     "text": [
      "enter the marks out of hundred 88\n",
      "enter the marks out of hundred 99\n",
      "enter the marks out of hundred 79\n",
      "enter the marks out of hundred 98\n",
      "enter the marks out of hundred 89\n"
     ]
    },
    {
     "name": "stdout",
     "output_type": "stream",
     "text": [
      "first\n"
     ]
    }
   ],
   "source": [
    "# print division of the statement\n",
    "p=float(input(\"enter the marks out of hundred\"))\n",
    "c=float(input(\"enter the marks out of hundred\"))\n",
    "m=float(input(\"enter the marks out of hundred\"))\n",
    "e=float(input(\"enter the marks out of hundred\"))\n",
    "h=float(input(\"enter the marks out of hundred\"))\n",
    "s=p+c+m+e+h        \n",
    "per=s*100/500\n",
    "if per>=60:\n",
    "    print(\"first\")\n",
    "elif per>=45:\n",
    "    print(\"second\")\n",
    "elif per>=33:\n",
    "    print(\"third\")\n",
    "else:\n",
    "    print(\"fail\")\n",
    "\n",
    "        "
   ]
  },
  {
   "cell_type": "code",
   "execution_count": 32,
   "id": "a1d55982-5faf-4b22-8977-1068774fe6de",
   "metadata": {},
   "outputs": [
    {
     "name": "stdin",
     "output_type": "stream",
     "text": [
      "enter the number 876\n"
     ]
    },
    {
     "name": "stdout",
     "output_type": "stream",
     "text": [
      "+ve number\n"
     ]
    }
   ],
   "source": [
    "n=int(input(\"enter the number\"))\n",
    "if n<0:\n",
    "    print(\"-ve number\")\n",
    "elif n>0:\n",
    "    print(\"+ve number\")\n",
    "else:\n",
    "    print(\"number is zero\")\n",
    "\n"
   ]
  },
  {
   "cell_type": "code",
   "execution_count": null,
   "id": "7e62802d-8c37-4bd4-9967-b731aa4f16a9",
   "metadata": {},
   "outputs": [],
   "source": []
  }
 ],
 "metadata": {
  "kernelspec": {
   "display_name": "Python 3 (ipykernel)",
   "language": "python",
   "name": "python3"
  },
  "language_info": {
   "codemirror_mode": {
    "name": "ipython",
    "version": 3
   },
   "file_extension": ".py",
   "mimetype": "text/x-python",
   "name": "python",
   "nbconvert_exporter": "python",
   "pygments_lexer": "ipython3",
   "version": "3.11.7"
  }
 },
 "nbformat": 4,
 "nbformat_minor": 5
}
