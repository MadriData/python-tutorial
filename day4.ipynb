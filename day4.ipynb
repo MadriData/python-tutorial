{
 "cells": [
  {
   "cell_type": "code",
   "execution_count": 1,
   "id": "99e2e13f-8bea-45a1-8f50-1ebd63f4c182",
   "metadata": {},
   "outputs": [
    {
     "name": "stdin",
     "output_type": "stream",
     "text": [
      "enter the number 2\n",
      "enter the number 4\n",
      "enter the number 1\n"
     ]
    },
    {
     "name": "stdout",
     "output_type": "stream",
     "text": [
      "b is greatest\n"
     ]
    }
   ],
   "source": [
    "# find the greatest among three no.\n",
    "a=int(input(\"enter the number\"))\n",
    "b=int(input(\"enter the number\"))\n",
    "c=int(input(\"enter the number\"))\n",
    "if a>b and a>c:\n",
    "    print(\"a is greatest\")\n",
    "if b>a and b>c:\n",
    "    print(\"b is greatest\")\n",
    "if c>a and c>b:\n",
    "    print(\"c is greatest\")\n",
    "    "
   ]
  },
  {
   "cell_type": "code",
   "execution_count": 2,
   "id": "acd0023a-a702-4ed2-831f-a2ff16ef1e89",
   "metadata": {},
   "outputs": [
    {
     "name": "stdin",
     "output_type": "stream",
     "text": [
      "enter the number 65\n",
      "enter the number 44\n",
      "enter the number 76\n"
     ]
    },
    {
     "name": "stdout",
     "output_type": "stream",
     "text": [
      "c is greatest\n"
     ]
    }
   ],
   "source": [
    "# find the greatest aming three no.\n",
    "a=int(input(\"enter the number\"))\n",
    "b=int(input(\"enter the number\"))\n",
    "c=int(input(\"enter the number\"))\n",
    "if a>b and a>c:\n",
    "    print(\"a is greatest\")\n",
    "elif b>a and b>c:\n",
    "    print(\"b is greatest\")\n",
    "else:\n",
    "    print(\"c is greatest\")\n",
    "    "
   ]
  },
  {
   "cell_type": "code",
   "execution_count": 5,
   "id": "55fa0304-06cb-41a1-9429-2f784e7da3ba",
   "metadata": {},
   "outputs": [
    {
     "name": "stdin",
     "output_type": "stream",
     "text": [
      "enter an alphabet O\n"
     ]
    },
    {
     "name": "stdout",
     "output_type": "stream",
     "text": [
      "vowel\n"
     ]
    }
   ],
   "source": [
    "#check vowel or consonent\n",
    "ch=input(\"enter an alphabet\")\n",
    "if ch=='a' or ch=='e' or ch=='i' or ch=='o' or ch=='u':\n",
    "    print('vowel')\n",
    "elif ch=='A' or ch=='E' or ch=='I' or ch=='O' or ch=='U':\n",
    "    print('vowel')\n",
    "else:\n",
    "    print(\"consonent\")"
   ]
  },
  {
   "cell_type": "code",
   "execution_count": 9,
   "id": "3ff4122a-cbb4-4dbe-8570-48ac85c24480",
   "metadata": {},
   "outputs": [
    {
     "name": "stdin",
     "output_type": "stream",
     "text": [
      "enter the colour code like \n",
      " r for red \n",
      " g for green \n",
      " y for yellow\n",
      " y\n"
     ]
    },
    {
     "name": "stdout",
     "output_type": "stream",
     "text": [
      "wait\n"
     ]
    }
   ],
   "source": [
    "#check vowel or consonent\n",
    "ch=input(\"enter the colour code like \\n r for red \\n g for green \\n y for yellow\\n\")\n",
    "if ch=='r' or ch=='R':\n",
    "    print(\"stop\")\n",
    "elif ch=='g' or ch==' G':\n",
    "    print('go')\n",
    "elif ch=='y' or ch=='Y':\n",
    "    print('wait')\n",
    "else:\n",
    "    print('pay challan')"
   ]
  },
  {
   "cell_type": "code",
   "execution_count": 11,
   "id": "45ac80f3-4f62-463c-be89-160f091c1b86",
   "metadata": {},
   "outputs": [
    {
     "name": "stdin",
     "output_type": "stream",
     "text": [
      "enter the alphabet e\n"
     ]
    },
    {
     "name": "stdout",
     "output_type": "stream",
     "text": [
      "vowel\n"
     ]
    }
   ],
   "source": [
    "# chech vowel or consonent\n",
    "ch=input(\"enter the alphabet\")\n",
    "if ch in ['a' , 'e' , 'i' , 'o' , 'u' , 'U' ,'A' , 'E', 'I' , 'O' ]:\n",
    "    print('vowel')\n",
    "else: ('consonent')"
   ]
  },
  {
   "cell_type": "code",
   "execution_count": 12,
   "id": "eff79628-7cc5-4583-a23c-9469906afa81",
   "metadata": {},
   "outputs": [
    {
     "name": "stdin",
     "output_type": "stream",
     "text": [
      "enter the alphabet r\n"
     ]
    },
    {
     "name": "stdout",
     "output_type": "stream",
     "text": [
      "stop\n"
     ]
    }
   ],
   "source": [
    "# chech vowel or consonant\n",
    "ch=input('enter the alphabet')\n",
    "if ch in ['r' , 'R']:\n",
    "    print ('stop')\n",
    "elif ch in ['y' , 'Y']:\n",
    "    print('get ready')\n",
    "elif ch in ['g' , 'G']:\n",
    "    print('go')\n",
    "else:\n",
    "    print('pay challan')"
   ]
  },
  {
   "cell_type": "code",
   "execution_count": 14,
   "id": "30d042eb-3717-4c08-a584-9b4899d221e4",
   "metadata": {},
   "outputs": [
    {
     "name": "stdin",
     "output_type": "stream",
     "text": [
      "enter the number 39\n",
      "enter the number 323\n"
     ]
    },
    {
     "name": "stdout",
     "output_type": "stream",
     "text": [
      "1.add\n",
      "2.sub\n",
      "3.mul\n",
      "4.div\n"
     ]
    },
    {
     "name": "stdin",
     "output_type": "stream",
     "text": [
      "enter the choice from above 4\n"
     ]
    },
    {
     "name": "stdout",
     "output_type": "stream",
     "text": [
      "the div is 0.12074303405572756\n"
     ]
    }
   ],
   "source": [
    "# mini calculator\n",
    "a=int(input('enter the number'))\n",
    "b=int(input('enter the number'))\n",
    "print('1.add')\n",
    "print('2.sub')\n",
    "print('3.mul')\n",
    "print('4.div')\n",
    "choice=int(input('enter the choice from above'))\n",
    "if choice==1:\n",
    "    print(\"the sum is \",a+b)\n",
    "elif choice==2:\n",
    "    print(\"the sub is\",a-b)\n",
    "elif choice==3:\n",
    "    print(\"the mil is\", a*b)\n",
    "elif choice==4:\n",
    "    print(\"the div is\", a/b)\n",
    "else:\n",
    "    print('invalid choice')\n",
    "    "
   ]
  },
  {
   "cell_type": "code",
   "execution_count": 15,
   "id": "e8f8a33a-5a8c-4a7b-86e2-4fd9ecfabf10",
   "metadata": {},
   "outputs": [
    {
     "name": "stdin",
     "output_type": "stream",
     "text": [
      "enter the number of units 1000\n"
     ]
    },
    {
     "name": "stdout",
     "output_type": "stream",
     "text": [
      "amount to pay: 8500\n"
     ]
    }
   ],
   "source": [
    "amt=0\n",
    "nu=int(input('enter the number of units'))\n",
    "if nu<=100:\n",
    "    amt=0\n",
    "if nu>100:\n",
    "    amt=(nu-100)*5\n",
    "if nu>200:\n",
    "    amt=500+(nu-200)*10\n",
    "print('amount to pay:',amt)#100-0   100------500"
   ]
  },
  {
   "cell_type": "code",
   "execution_count": 16,
   "id": "37271778-46e9-4ed9-b133-f746fafaa417",
   "metadata": {},
   "outputs": [
    {
     "name": "stdin",
     "output_type": "stream",
     "text": [
      "enter length 20\n",
      "enter breadth 20\n"
     ]
    },
    {
     "name": "stdout",
     "output_type": "stream",
     "text": [
      "yes , it is only square\n",
      "the area of square is 400\n"
     ]
    }
   ],
   "source": [
    "#take values of length and breadth of a retangle from user and check if it is square\n",
    "length=int(input('enter length'))\n",
    "breadth=int(input('enter breadth'))\n",
    "if length==breadth:\n",
    "    print('yes , it is only square')\n",
    "    print('the area of square is' ,length**2)\n",
    "else:\n",
    "    print('no, it is only reatngle')\n",
    "    print('the area of recstangle is ',lenght*breadth)"
   ]
  },
  {
   "cell_type": "code",
   "execution_count": null,
   "id": "d8185710-91dc-4d89-beac-74b6aa3e8225",
   "metadata": {},
   "outputs": [],
   "source": []
  }
 ],
 "metadata": {
  "kernelspec": {
   "display_name": "Python 3 (ipykernel)",
   "language": "python",
   "name": "python3"
  },
  "language_info": {
   "codemirror_mode": {
    "name": "ipython",
    "version": 3
   },
   "file_extension": ".py",
   "mimetype": "text/x-python",
   "name": "python",
   "nbconvert_exporter": "python",
   "pygments_lexer": "ipython3",
   "version": "3.11.7"
  }
 },
 "nbformat": 4,
 "nbformat_minor": 5
}
