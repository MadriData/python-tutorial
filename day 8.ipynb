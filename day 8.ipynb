{
 "cells": [
  {
   "cell_type": "code",
   "execution_count": 1,
   "id": "97b0092c-4a9b-4292-bc1e-70b3fc91a649",
   "metadata": {},
   "outputs": [
    {
     "data": {
      "text/plain": [
       "True"
      ]
     },
     "execution_count": 1,
     "metadata": {},
     "output_type": "execute_result"
    }
   ],
   "source": [
    "a= 'hello world'\n",
    "'r' in a"
   ]
  },
  {
   "cell_type": "code",
   "execution_count": 5,
   "id": "f32791d6-d331-4867-a2ce-a336bf638e79",
   "metadata": {},
   "outputs": [
    {
     "name": "stdout",
     "output_type": "stream",
     "text": [
      "bye\n",
      "2\n",
      "bye\n",
      "4\n",
      "bye\n",
      "6\n"
     ]
    }
   ],
   "source": [
    "a=[1,2,3,4,5,6]\n",
    "for i in a:\n",
    "    if i%2==0:\n",
    "        print(i)\n",
    "    else:\n",
    "        print('bye')"
   ]
  },
  {
   "cell_type": "code",
   "execution_count": 6,
   "id": "5c40f1bb-e8c5-4524-a9aa-633b1d2fa0d5",
   "metadata": {},
   "outputs": [
    {
     "name": "stdout",
     "output_type": "stream",
     "text": [
      "\n",
      "a\n",
      "aa\n",
      "aaa\n",
      "aaaa\n"
     ]
    }
   ],
   "source": [
    "s1='a'\n",
    "for i in range(5): #0,1,2,3,4\n",
    "    print(s1*i)"
   ]
  },
  {
   "cell_type": "code",
   "execution_count": 9,
   "id": "6e9c43d0-728f-4aca-8c76-be077466fdd1",
   "metadata": {},
   "outputs": [
    {
     "name": "stdout",
     "output_type": "stream",
     "text": [
      "i@i@t@ @m@a@d@r@a@s@"
     ]
    }
   ],
   "source": [
    "st=\"iit madras\"\n",
    "for t in st:\n",
    "    print(t,end='@') #\\n new line \\t for tabbed space"
   ]
  },
  {
   "cell_type": "code",
   "execution_count": 10,
   "id": "b8712e24-b9c3-4f82-9e72-718f866019e0",
   "metadata": {},
   "outputs": [
    {
     "name": "stdout",
     "output_type": "stream",
     "text": [
      "e\n",
      "o\n",
      "e\n",
      "e\n",
      "o\n",
      "e\n",
      "o\n",
      "a\n",
      "e\n",
      "o\n",
      "u\n"
     ]
    }
   ],
   "source": [
    "a= \"hellow every one how are you\"\n",
    "vowel=['a','e','i','o','u']\n",
    "for i in a:\n",
    "    if i in vowel:\n",
    "        print(i)"
   ]
  },
  {
   "cell_type": "code",
   "execution_count": 14,
   "id": "fd117eba-dd3f-49f2-88c7-35d18d8f77bc",
   "metadata": {},
   "outputs": [
    {
     "name": "stdout",
     "output_type": "stream",
     "text": [
      "good one\n",
      "good one\n",
      "data science\n"
     ]
    }
   ],
   "source": [
    "word='hellow1'\n",
    "for w in word:\n",
    "    if w==\"l\":\n",
    "        print('good one')\n",
    "else:\n",
    "    print('data science')"
   ]
  },
  {
   "cell_type": "code",
   "execution_count": 29,
   "id": "7e968530-f699-4edc-bf54-e0937bdf4654",
   "metadata": {},
   "outputs": [
    {
     "name": "stdout",
     "output_type": "stream",
     "text": [
      "a\n",
      "hello\n",
      "r\n",
      "hello\n",
      "that is good\n",
      "p\n",
      "hello\n",
      "i\n",
      "hello\n",
      "t\n",
      "hello\n",
      "t\n"
     ]
    }
   ],
   "source": [
    "name='arpit'\n",
    "for i in name:\n",
    "    if i=='p':\n",
    "        print('that is good')\n",
    "    print(i)\n",
    "    print('hello')\n",
    "print(i)"
   ]
  },
  {
   "cell_type": "code",
   "execution_count": 22,
   "id": "5df527c4-ec05-42a7-89e2-7ea753cde58c",
   "metadata": {},
   "outputs": [
    {
     "name": "stdout",
     "output_type": "stream",
     "text": [
      "a\n",
      "r\n",
      "that is good\n",
      "i\n",
      "t\n"
     ]
    }
   ],
   "source": [
    "name='arpit'\n",
    "for i in name:\n",
    "    if i=='p':\n",
    "        print('that is good')\n",
    "    else:\n",
    "        print(i)\n",
    "\n"
   ]
  },
  {
   "cell_type": "code",
   "execution_count": 23,
   "id": "cb886f7f-84f4-483e-b5b6-1b27a487ca15",
   "metadata": {},
   "outputs": [
    {
     "name": "stdout",
     "output_type": "stream",
     "text": [
      "a\n",
      "r\n",
      "that is good\n",
      "p\n",
      "i\n",
      "t\n"
     ]
    }
   ],
   "source": [
    "name='arpit'\n",
    "for i in name:\n",
    "    if i=='p':\n",
    "        print('that is good')\n",
    "   \n",
    "    print(i)"
   ]
  },
  {
   "cell_type": "code",
   "execution_count": 33,
   "id": "a6819a6c-7ac5-46b0-8522-0b8a884d2ff1",
   "metadata": {},
   "outputs": [
    {
     "name": "stdout",
     "output_type": "stream",
     "text": [
      "good\n",
      "even 2\n",
      "good\n",
      "good\n",
      "even 4\n",
      "good\n",
      "good\n",
      "even 6\n",
      "good\n",
      "good\n",
      "even 8\n",
      "good\n",
      "good\n"
     ]
    }
   ],
   "source": [
    "a=[1,2,3,4,5,6,7,8,9]\n",
    "for i in a:\n",
    "    if i%2==0:\n",
    "        print('even',i)\n",
    "        \n",
    "    print('good')"
   ]
  },
  {
   "cell_type": "code",
   "execution_count": 36,
   "id": "477de2a8-6a0d-46a2-aa02-23b4761044ff",
   "metadata": {},
   "outputs": [
    {
     "name": "stdout",
     "output_type": "stream",
     "text": [
      "the sum of even num is 2450\n",
      "the sum of odd number is 2500\n"
     ]
    }
   ],
   "source": [
    "se=0\n",
    "so=0\n",
    "for i in range(1,100):\n",
    "    if i%2==0:\n",
    "        se=se+i\n",
    "    else:\n",
    "        so=so+i\n",
    "print('the sum of even num is',se)\n",
    "print('the sum of odd number is',so)"
   ]
  },
  {
   "cell_type": "code",
   "execution_count": 37,
   "id": "fbca90a6-0d3b-4a77-838b-09f5fe42d495",
   "metadata": {},
   "outputs": [
    {
     "name": "stdout",
     "output_type": "stream",
     "text": [
      "11 22 33 44 55 66 77 88 99 101 111 121 131 141 151 161 171 181 191 202 212 222 232 242 252 262 272 282 292 303 313 323 333 343 353 363 373 383 393 404 414 424 434 444 454 464 474 484 494 505 515 525 535 545 555 565 575 585 595 606 616 626 636 646 656 666 676 686 696 707 717 727 737 747 757 767 777 787 797 808 818 828 838 848 858 868 878 888 898 909 919 929 939 949 959 969 979 989 999 "
     ]
    }
   ],
   "source": [
    "#print all palindrome number\n",
    "for i in range(11,1000):\n",
    "    n=i\n",
    "    rev=0\n",
    "    while n>0:\n",
    "        rem=n%10\n",
    "        rev=rev*10+rem\n",
    "        n=n//10\n",
    "    if rev==i:\n",
    "        print(i,end=' ')"
   ]
  },
  {
   "cell_type": "code",
   "execution_count": null,
   "id": "2aeab7f3-635e-4b20-888b-1978a88f1baa",
   "metadata": {},
   "outputs": [],
   "source": []
  }
 ],
 "metadata": {
  "kernelspec": {
   "display_name": "Python 3 (ipykernel)",
   "language": "python",
   "name": "python3"
  },
  "language_info": {
   "codemirror_mode": {
    "name": "ipython",
    "version": 3
   },
   "file_extension": ".py",
   "mimetype": "text/x-python",
   "name": "python",
   "nbconvert_exporter": "python",
   "pygments_lexer": "ipython3",
   "version": "3.12.4"
  }
 },
 "nbformat": 4,
 "nbformat_minor": 5
}
