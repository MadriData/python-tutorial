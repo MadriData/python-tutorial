{
 "cells": [
  {
   "cell_type": "code",
   "execution_count": 6,
   "id": "752d3491-784f-44ac-8ea5-1b1f11395fc6",
   "metadata": {},
   "outputs": [
    {
     "data": {
      "text/plain": [
       "'a dictionary can also be created using dict() constructor method.'"
      ]
     },
     "execution_count": 6,
     "metadata": {},
     "output_type": "execute_result"
    }
   ],
   "source": [
    "'''a dictionary can also be created using dict() constructor method.'''"
   ]
  },
  {
   "cell_type": "code",
   "execution_count": 3,
   "id": "e98a6801-4478-4870-8fd0-0f33da38a575",
   "metadata": {},
   "outputs": [
    {
     "name": "stdout",
     "output_type": "stream",
     "text": [
      "{}\n"
     ]
    }
   ],
   "source": [
    "emptydict=dict()\n",
    "print(emptydict)"
   ]
  },
  {
   "cell_type": "code",
   "execution_count": 4,
   "id": "39368a3a-fbbb-4ded-9e06-cc0c305b32f6",
   "metadata": {},
   "outputs": [
    {
     "name": "stdout",
     "output_type": "stream",
     "text": [
      "{'i': 'one', 'ii': 'two', 'iii': 'three'}\n"
     ]
    }
   ],
   "source": [
    "numdict=dict(i=\"one\",ii=\"two\",iii=\"three\")\n",
    "print(numdict)"
   ]
  },
  {
   "cell_type": "code",
   "execution_count": 5,
   "id": "697aad32-6d82-45a5-9535-4ebb3d21dc50",
   "metadata": {},
   "outputs": [
    {
     "name": "stdout",
     "output_type": "stream",
     "text": [
      "{'i': 'one', 'ii': 'two', 'iii': 'three'}\n"
     ]
    }
   ],
   "source": [
    "numdict=dict((('i','one'),('ii','two'),('iii','three')))\n",
    "print(numdict)"
   ]
  },
  {
   "cell_type": "code",
   "execution_count": 7,
   "id": "d01829d0-6b7f-411e-b872-545b6cf184a8",
   "metadata": {},
   "outputs": [
    {
     "name": "stdout",
     "output_type": "stream",
     "text": [
      "one two three\n"
     ]
    }
   ],
   "source": [
    "#access dictionary\n",
    "numnames={1:\"one\",2:\"two\",3:\"three\"}\n",
    "print(numnames[1],numnames[2],numnames[3])"
   ]
  },
  {
   "cell_type": "code",
   "execution_count": 12,
   "id": "08ac0467-2cb7-47cb-9283-c8a2d98da0af",
   "metadata": {},
   "outputs": [
    {
     "name": "stdout",
     "output_type": "stream",
     "text": [
      "washington dc paris\n"
     ]
    }
   ],
   "source": [
    "capitals={\"usa\":\"washington dc\",\"france\":\"paris\",\"india\":\"new delhi\"}\n",
    "print(capitals[\"usa\"] ,capitals[\"france\"])"
   ]
  },
  {
   "cell_type": "code",
   "execution_count": 14,
   "id": "38ccd8df-8668-479c-9f11-910f1b9430ba",
   "metadata": {},
   "outputs": [
    {
     "name": "stdout",
     "output_type": "stream",
     "text": [
      "one two None\n"
     ]
    }
   ],
   "source": [
    "x={1:'one', 2:'two',3:'three'}\n",
    "print(x.get(1),x.get(2),x.get(4))"
   ]
  },
  {
   "cell_type": "code",
   "execution_count": 16,
   "id": "21e5a0ac-9d5a-422c-8e8b-a5a5ab33b6ab",
   "metadata": {},
   "outputs": [
    {
     "name": "stdout",
     "output_type": "stream",
     "text": [
      "{'a': '123', 'b': '345', 'c': '567', 'd': '789'}\n",
      "a b c d "
     ]
    }
   ],
   "source": [
    "#for for loop dictionary\n",
    "di={'a':'123','b':'345','c':'567','d':'789'}\n",
    "print(di)\n",
    "for i in di: #by default always key\n",
    "       print(i,end=\" \")\n",
    "    "
   ]
  },
  {
   "cell_type": "code",
   "execution_count": 17,
   "id": "d36f76ff-659f-4639-9807-b253c517b3ce",
   "metadata": {},
   "outputs": [
    {
     "name": "stdout",
     "output_type": "stream",
     "text": [
      "123 345 567 789 "
     ]
    }
   ],
   "source": [
    "for i in di.values(): #only values\n",
    "    print(i,end=\" \")"
   ]
  },
  {
   "cell_type": "code",
   "execution_count": 19,
   "id": "46c8958d-9fa6-4916-b784-27581be0e909",
   "metadata": {},
   "outputs": [
    {
     "name": "stdout",
     "output_type": "stream",
     "text": [
      "('a', '123') ('b', '345') ('c', '567') ('d', '789') "
     ]
    }
   ],
   "source": [
    "for i,j in di.items(): #key value pair\n",
    "    print((i,j),end=\" \")"
   ]
  },
  {
   "cell_type": "code",
   "execution_count": 22,
   "id": "c2a30f40-b662-4da6-bd10-20ad97a1c744",
   "metadata": {},
   "outputs": [
    {
     "name": "stdout",
     "output_type": "stream",
     "text": [
      "{'a': '123', 'b': '345', 'c': 'daksh', 'd': '789'}\n",
      "{'a': '123', 'b': '345', 'c': 'daksh', 'd': '789', 'e': 'aviral'}\n"
     ]
    }
   ],
   "source": [
    "di={'a':'123','b':'345','c':'567','d':'789'}\n",
    "#same key then update \n",
    "#different key then add\n",
    "di['c']=\"daksh\"\n",
    "print(di)\n",
    "di['e']=\"aviral\"\n",
    "print(di)"
   ]
  },
  {
   "cell_type": "code",
   "execution_count": 25,
   "id": "21f76c5e-3f9b-4f1c-bd2c-d2e87b0de5b5",
   "metadata": {},
   "outputs": [
    {
     "name": "stdout",
     "output_type": "stream",
     "text": [
      "{'a': '123', 'c': '567', 'd': '789'}\n"
     ]
    }
   ],
   "source": [
    "di={'a':'123','b':'345','c':'567','d':'789'}\n",
    "\n",
    "del di['b']\n",
    "print(di)"
   ]
  },
  {
   "cell_type": "code",
   "execution_count": 30,
   "id": "898d9454-3ac5-4465-8be2-bff71db3082c",
   "metadata": {},
   "outputs": [
    {
     "name": "stdout",
     "output_type": "stream",
     "text": [
      "345\n",
      "{'a': '123', 'c': '567', 'd': '789'}\n"
     ]
    }
   ],
   "source": [
    "di={'a':'123','b':'345','c':'567','d':'789'}\n",
    "print(di.pop('b'))\n",
    "print(di)"
   ]
  },
  {
   "cell_type": "code",
   "execution_count": 33,
   "id": "20bd7361-7c8e-4cc5-ab0b-6c5baa9c885a",
   "metadata": {},
   "outputs": [
    {
     "name": "stdout",
     "output_type": "stream",
     "text": [
      "{'a': '123', 'b': '345', 'c': '567'}\n"
     ]
    }
   ],
   "source": [
    "di={'a':'123','b':'345','c':'567','d':'789'}\n",
    "di.popitem()\n",
    "print(di)"
   ]
  },
  {
   "cell_type": "code",
   "execution_count": 36,
   "id": "b89862e8-2605-4742-a52e-35dda659c1ab",
   "metadata": {},
   "outputs": [],
   "source": [
    "di={'a':'123','b':'345','c':'567','d':'789'}\n",
    "del di #deletes complete dictionary\n",
    "#print(di) shows error"
   ]
  },
  {
   "cell_type": "code",
   "execution_count": 42,
   "id": "02873fdc-5579-4641-80fd-b164c331e37d",
   "metadata": {},
   "outputs": [
    {
     "name": "stdout",
     "output_type": "stream",
     "text": [
      "{1: 'one', 2: 'two', 'a': {'name': 'asif', 'age': 20}, 'b': ('bat', 'cat')}\n"
     ]
    }
   ],
   "source": [
    "mydict={1:'one',2:'two','a':{'name':'asif','age':20},'b':('bat','cat')}\n",
    "print(mydict)"
   ]
  },
  {
   "cell_type": "code",
   "execution_count": null,
   "id": "82b8a3e2-547e-40b6-8498-6bb56ff01333",
   "metadata": {},
   "outputs": [],
   "source": []
  },
  {
   "cell_type": "code",
   "execution_count": null,
   "id": "314d6ef8-ff1b-44de-a473-184657a07b5a",
   "metadata": {},
   "outputs": [],
   "source": []
  }
 ],
 "metadata": {
  "kernelspec": {
   "display_name": "Python 3 (ipykernel)",
   "language": "python",
   "name": "python3"
  },
  "language_info": {
   "codemirror_mode": {
    "name": "ipython",
    "version": 3
   },
   "file_extension": ".py",
   "mimetype": "text/x-python",
   "name": "python",
   "nbconvert_exporter": "python",
   "pygments_lexer": "ipython3",
   "version": "3.11.7"
  }
 },
 "nbformat": 4,
 "nbformat_minor": 5
}
