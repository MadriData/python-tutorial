{
 "cells": [
  {
   "cell_type": "code",
   "execution_count": 110,
   "id": "f076e5d2-c366-4ff0-ad8a-20d8abb52e4c",
   "metadata": {},
   "outputs": [],
   "source": [
    "import numpy as np"
   ]
  },
  {
   "cell_type": "code",
   "execution_count": 111,
   "id": "e0bb6b69-7450-4994-9ed9-7a97b1875573",
   "metadata": {},
   "outputs": [
    {
     "data": {
      "text/plain": [
       "array([1, 2, 3, 4, 5, 6, 7, 8])"
      ]
     },
     "execution_count": 111,
     "metadata": {},
     "output_type": "execute_result"
    }
   ],
   "source": [
    "x=np.array([1,2,3,4,5,6,7,8])\n",
    "x"
   ]
  },
  {
   "cell_type": "code",
   "execution_count": 112,
   "id": "6a89a715-903f-4308-86f7-3f13a396ae88",
   "metadata": {},
   "outputs": [
    {
     "data": {
      "text/plain": [
       "(array([1, 3, 5, 7], dtype=int64),)"
      ]
     },
     "execution_count": 112,
     "metadata": {},
     "output_type": "execute_result"
    }
   ],
   "source": [
    "#even number\n",
    "np.where(x%2==0)"
   ]
  },
  {
   "cell_type": "code",
   "execution_count": 113,
   "id": "42fef55c-fa77-46ac-88bd-ae35e3453bdd",
   "metadata": {},
   "outputs": [
    {
     "data": {
      "text/plain": [
       "(array([0, 2, 4, 6], dtype=int64),)"
      ]
     },
     "execution_count": 113,
     "metadata": {},
     "output_type": "execute_result"
    }
   ],
   "source": [
    "# odd number\n",
    "np.where(x%2!=0)\n"
   ]
  },
  {
   "cell_type": "code",
   "execution_count": 114,
   "id": "30f76984-c67d-4f3a-9df1-fd20ee9c90b3",
   "metadata": {},
   "outputs": [
    {
     "name": "stdout",
     "output_type": "stream",
     "text": [
      "[  1   2   3   4   5   6 710]\n"
     ]
    }
   ],
   "source": [
    "# search sorted\n",
    "x=np.array([1,2,3,4,5,6,710])\n",
    "print(x)"
   ]
  },
  {
   "cell_type": "code",
   "execution_count": 115,
   "id": "ad3273c2-e406-42ea-8259-d881cde4ed44",
   "metadata": {},
   "outputs": [
    {
     "data": {
      "text/plain": [
       "3"
      ]
     },
     "execution_count": 115,
     "metadata": {},
     "output_type": "execute_result"
    }
   ],
   "source": [
    "np.searchsorted(x,4)"
   ]
  },
  {
   "cell_type": "markdown",
   "id": "499085c3-71a0-4fbd-bf76-69e104f56608",
   "metadata": {},
   "source": [
    "# indexing and slicing-2d array"
   ]
  },
  {
   "cell_type": "code",
   "execution_count": 116,
   "id": "8f8430ba-7a91-4b6b-85d7-eb25b252b416",
   "metadata": {},
   "outputs": [
    {
     "data": {
      "text/plain": [
       "array([[ 1,  2,  3,  4, 10],\n",
       "       [12, 23, 34, 56,  6],\n",
       "       [34,  4, 56, 78, 89],\n",
       "       [11, 22, 33, 44, 55],\n",
       "       [66, 77, 88, 99, 90]])"
      ]
     },
     "execution_count": 116,
     "metadata": {},
     "output_type": "execute_result"
    }
   ],
   "source": [
    "x=np.array([[1,2,3,4,10],[12,23,34,56,6],[34,4,56,78,89],[11,22,33,44,55],[66,77,88,99,90]])\n",
    "x"
   ]
  },
  {
   "cell_type": "code",
   "execution_count": 117,
   "id": "870c884a-63e9-42ba-91a8-4c4a5d932845",
   "metadata": {},
   "outputs": [
    {
     "data": {
      "text/plain": [
       "array([[23, 34],\n",
       "       [ 4, 56]])"
      ]
     },
     "execution_count": 117,
     "metadata": {},
     "output_type": "execute_result"
    }
   ],
   "source": [
    "x[1:3,1:3]"
   ]
  },
  {
   "cell_type": "code",
   "execution_count": 118,
   "id": "775639a4-5786-4ace-afa1-6052f16ea3f0",
   "metadata": {},
   "outputs": [
    {
     "data": {
      "text/plain": [
       "array([[56, 78],\n",
       "       [33, 44]])"
      ]
     },
     "execution_count": 118,
     "metadata": {},
     "output_type": "execute_result"
    }
   ],
   "source": [
    "x[2:4,2:4]"
   ]
  },
  {
   "cell_type": "markdown",
   "id": "1734c215-c713-4dd5-a4c9-6007f23d1a1d",
   "metadata": {},
   "source": [
    "# comparison between list and array\n",
    "* three benefits of array\n",
    "* takes less memory\n",
    "* convininent\n",
    "* fast\n"
   ]
  },
  {
   "cell_type": "code",
   "execution_count": 119,
   "id": "67b579cc-42b3-4ed4-a1a7-33a9ad96d91b",
   "metadata": {},
   "outputs": [
    {
     "data": {
      "text/plain": [
       "28"
      ]
     },
     "execution_count": 119,
     "metadata": {},
     "output_type": "execute_result"
    }
   ],
   "source": [
    "import sys\n",
    "import time\n",
    "\n",
    "\n",
    "\n",
    "\n",
    "sys.getsizeof(100)"
   ]
  },
  {
   "cell_type": "code",
   "execution_count": 120,
   "id": "53931696-6dda-401b-873d-8d03d59e22f6",
   "metadata": {},
   "outputs": [
    {
     "name": "stdout",
     "output_type": "stream",
     "text": [
      "5600000\n"
     ]
    }
   ],
   "source": [
    "# memory\n",
    "l=range(200000)\n",
    "print(sys.getsizeof(2)*len(l))"
   ]
  },
  {
   "cell_type": "code",
   "execution_count": 121,
   "id": "bdc1c32f-1bb0-4ddc-98e2-10fcc5101c5d",
   "metadata": {},
   "outputs": [],
   "source": [
    "import numpy as np\n"
   ]
  },
  {
   "cell_type": "code",
   "execution_count": 122,
   "id": "341bc8e1-bc36-4bc6-b085-033a06cbaf51",
   "metadata": {},
   "outputs": [
    {
     "name": "stdout",
     "output_type": "stream",
     "text": [
      "4\n",
      "\n",
      "800000\n"
     ]
    }
   ],
   "source": [
    "a=np.arange(200000)\n",
    "print(a.itemsize)\n",
    "print()\n",
    "print(a.itemsize*len(a))"
   ]
  },
  {
   "cell_type": "code",
   "execution_count": 123,
   "id": "7b87325d-fa60-4b67-94ac-f09ae1786d42",
   "metadata": {},
   "outputs": [],
   "source": [
    "#fast"
   ]
  },
  {
   "cell_type": "code",
   "execution_count": 124,
   "id": "297506a4-3568-447d-b7d0-0049681d71be",
   "metadata": {},
   "outputs": [
    {
     "name": "stdout",
     "output_type": "stream",
     "text": [
      "time taken : 877.8963088989258\n"
     ]
    }
   ],
   "source": [
    "a1=range(1000000)\n",
    "b1=range(1000000)\n",
    "start=time.time()\n",
    "c1=[(x+y) for x,y in zip(a1,b1)]\n",
    "print(\"time taken :\",(time.time()-start)*1000)\n"
   ]
  },
  {
   "cell_type": "code",
   "execution_count": 125,
   "id": "32f14b3b-8560-45bb-81c9-de579e8521e2",
   "metadata": {},
   "outputs": [
    {
     "name": "stdout",
     "output_type": "stream",
     "text": [
      "time taken by array 5.002260208129883\n"
     ]
    }
   ],
   "source": [
    "a2=np.arange(1000000)\n",
    "b2=np.arange(1000000)\n",
    "start=time.time()\n",
    "c2=a2+b2\n",
    "print(\"time taken by array\",(time.time()-start)*1000)"
   ]
  },
  {
   "cell_type": "code",
   "execution_count": 126,
   "id": "29aad000-c1c6-4953-ab4c-3ceebd45d8c8",
   "metadata": {},
   "outputs": [],
   "source": [
    "#convininent"
   ]
  },
  {
   "cell_type": "code",
   "execution_count": 127,
   "id": "d5d03183-733a-40ed-8d42-0c9b80cdc0b6",
   "metadata": {},
   "outputs": [],
   "source": [
    "n1=np.arange(100)\n",
    "n2=np.arange(100)"
   ]
  },
  {
   "cell_type": "code",
   "execution_count": 128,
   "id": "3061b724-983e-46a4-b2bb-e5f41c138653",
   "metadata": {},
   "outputs": [
    {
     "data": {
      "text/plain": [
       "array([   0,    1,    4,    9,   16,   25,   36,   49,   64,   81,  100,\n",
       "        121,  144,  169,  196,  225,  256,  289,  324,  361,  400,  441,\n",
       "        484,  529,  576,  625,  676,  729,  784,  841,  900,  961, 1024,\n",
       "       1089, 1156, 1225, 1296, 1369, 1444, 1521, 1600, 1681, 1764, 1849,\n",
       "       1936, 2025, 2116, 2209, 2304, 2401, 2500, 2601, 2704, 2809, 2916,\n",
       "       3025, 3136, 3249, 3364, 3481, 3600, 3721, 3844, 3969, 4096, 4225,\n",
       "       4356, 4489, 4624, 4761, 4900, 5041, 5184, 5329, 5476, 5625, 5776,\n",
       "       5929, 6084, 6241, 6400, 6561, 6724, 6889, 7056, 7225, 7396, 7569,\n",
       "       7744, 7921, 8100, 8281, 8464, 8649, 8836, 9025, 9216, 9409, 9604,\n",
       "       9801])"
      ]
     },
     "execution_count": 128,
     "metadata": {},
     "output_type": "execute_result"
    }
   ],
   "source": [
    "n1*n2"
   ]
  },
  {
   "cell_type": "code",
   "execution_count": 129,
   "id": "ffdb3cf2-6829-404e-9039-4b109b4aa93c",
   "metadata": {},
   "outputs": [],
   "source": [
    "#list(range(5))"
   ]
  },
  {
   "cell_type": "code",
   "execution_count": 130,
   "id": "5e776e4b-9e2a-4b1b-b470-791479c230a7",
   "metadata": {},
   "outputs": [
    {
     "data": {
      "text/plain": [
       "(200000,)"
      ]
     },
     "execution_count": 130,
     "metadata": {},
     "output_type": "execute_result"
    }
   ],
   "source": [
    "a.shape"
   ]
  },
  {
   "cell_type": "code",
   "execution_count": 131,
   "id": "9acf00a0-ef18-4ac3-9e65-aad0a644c938",
   "metadata": {},
   "outputs": [
    {
     "ename": "ValueError",
     "evalue": "cannot reshape array of size 200000 into shape (2,4,3)",
     "output_type": "error",
     "traceback": [
      "\u001b[1;31m---------------------------------------------------------------------------\u001b[0m",
      "\u001b[1;31mValueError\u001b[0m                                Traceback (most recent call last)",
      "Cell \u001b[1;32mIn[131], line 1\u001b[0m\n\u001b[1;32m----> 1\u001b[0m b\u001b[38;5;241m=\u001b[39ma\u001b[38;5;241m.\u001b[39mreshape(\u001b[38;5;241m2\u001b[39m,\u001b[38;5;241m4\u001b[39m,\u001b[38;5;241m3\u001b[39m)\n\u001b[0;32m      2\u001b[0m b\n",
      "\u001b[1;31mValueError\u001b[0m: cannot reshape array of size 200000 into shape (2,4,3)"
     ]
    }
   ],
   "source": [
    "b=a.reshape(2,4,3)\n",
    "b\n",
    "#b.ravel()"
   ]
  },
  {
   "cell_type": "code",
   "execution_count": null,
   "id": "b4806a50-5d55-4a2b-8c11-7b0e343bba21",
   "metadata": {},
   "outputs": [],
   "source": [
    "a=np.array([[1,2],[3,4]])\n",
    "b=np.array([[5,6],[6,7]])\n",
    "#np.concatenate((a,b))"
   ]
  },
  {
   "cell_type": "code",
   "execution_count": null,
   "id": "888e70a0-c695-4be8-91ef-ac72838eeb5b",
   "metadata": {},
   "outputs": [],
   "source": [
    "a\n"
   ]
  },
  {
   "cell_type": "code",
   "execution_count": null,
   "id": "c675a738-36f1-456f-9cda-cffc15ef2051",
   "metadata": {},
   "outputs": [],
   "source": [
    "b"
   ]
  },
  {
   "cell_type": "code",
   "execution_count": null,
   "id": "5b833d71-3e8d-4384-b708-1ccc4586f3ef",
   "metadata": {},
   "outputs": [],
   "source": [
    "np.concatenate((a,b),axis=0)# axis=0 means rows"
   ]
  },
  {
   "cell_type": "code",
   "execution_count": null,
   "id": "eec7a980-10ac-4ad6-8e73-ca4d4c153566",
   "metadata": {},
   "outputs": [],
   "source": [
    "np.concatenate((a,b),axis=1)# axis=1 means column"
   ]
  },
  {
   "cell_type": "code",
   "execution_count": null,
   "id": "3412fb27-361f-46b1-8c0e-2fac223b0a90",
   "metadata": {},
   "outputs": [],
   "source": [
    "a=np.arange(12)\n",
    "np.split(a,3)"
   ]
  },
  {
   "cell_type": "code",
   "execution_count": null,
   "id": "e4e9e7b6-c748-4d2b-9788-63baae57dd3d",
   "metadata": {},
   "outputs": [],
   "source": [
    "a=np.array([[1,2,3],[4,5,6,]])\n",
    "np.append(a,[7,8,9])"
   ]
  },
  {
   "cell_type": "code",
   "execution_count": null,
   "id": "38ef7e9e-f73c-4a90-910c-e99bb8a3ebea",
   "metadata": {},
   "outputs": [],
   "source": []
  },
  {
   "cell_type": "code",
   "execution_count": null,
   "id": "1499bc38-1133-49bd-8420-125327122c60",
   "metadata": {},
   "outputs": [],
   "source": []
  }
 ],
 "metadata": {
  "kernelspec": {
   "display_name": "Python 3 (ipykernel)",
   "language": "python",
   "name": "python3"
  },
  "language_info": {
   "codemirror_mode": {
    "name": "ipython",
    "version": 3
   },
   "file_extension": ".py",
   "mimetype": "text/x-python",
   "name": "python",
   "nbconvert_exporter": "python",
   "pygments_lexer": "ipython3",
   "version": "3.11.7"
  }
 },
 "nbformat": 4,
 "nbformat_minor": 5
}
