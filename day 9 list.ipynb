{
 "cells": [
  {
   "cell_type": "code",
   "execution_count": 2,
   "id": "96bca719-cfab-438b-ac43-6bd3e1ec0f36",
   "metadata": {},
   "outputs": [
    {
     "name": "stdout",
     "output_type": "stream",
     "text": [
      "56\n"
     ]
    }
   ],
   "source": [
    "ls=[12,23,34,45,56,[45,56,67,78,[67,54,343]],5,[89]]\n",
    "print(ls[4])"
   ]
  },
  {
   "cell_type": "code",
   "execution_count": 7,
   "id": "89338115-f0f2-404b-9fec-a346ef27736f",
   "metadata": {},
   "outputs": [
    {
     "name": "stdout",
     "output_type": "stream",
     "text": [
      "67\n"
     ]
    }
   ],
   "source": [
    "ls=[12,23,34,45,56,[45,56,67,78,[67,54,343]],5,[89]]\n",
    "print(ls[5][2])"
   ]
  },
  {
   "cell_type": "code",
   "execution_count": 9,
   "id": "357d1afc-df7d-4d67-a9d7-029026ebbdea",
   "metadata": {},
   "outputs": [
    {
     "name": "stdout",
     "output_type": "stream",
     "text": [
      "343\n"
     ]
    }
   ],
   "source": [
    "ls=[12,23,34,45,56,[45,56,67,78,[67,54,343]],5,[89]]\n",
    "print(ls[5][4][2])"
   ]
  },
  {
   "cell_type": "code",
   "execution_count": 12,
   "id": "e80fddca-3f8a-499d-bbd0-e08c7f43d142",
   "metadata": {},
   "outputs": [
    {
     "name": "stdout",
     "output_type": "stream",
     "text": [
      "[45, 56, 67, 78, 89]\n",
      "[12, 23, 34, 45, 56, 67, 78, 89]\n",
      "[45, 56, 67, 78, 89, 98, 87]\n",
      "[12, 23, 34, 45, 56, 67, 78, 89, 98, 87]\n"
     ]
    }
   ],
   "source": [
    "ls=[12,23,34,45,56,67,78,89,98,87]\n",
    "print(ls[3:8])\n",
    "print(ls[:8])\n",
    "print(ls[3:])\n",
    "print(ls[:])"
   ]
  },
  {
   "cell_type": "code",
   "execution_count": 18,
   "id": "cb50793a-8f65-4b8c-a8e9-d2b8fb118988",
   "metadata": {},
   "outputs": [
    {
     "name": "stdout",
     "output_type": "stream",
     "text": [
      "[12, 23, 34, 45, 56, 67]\n",
      "[12, 23, 'hello', 45, 56, 67]\n",
      "[12, 23, 'hello', 'hello', 'how', 'are']\n"
     ]
    }
   ],
   "source": [
    "\n",
    "ls=[12,23,34,45,56,67]\n",
    "print(ls)\n",
    "ls[2]=\"hello\"\n",
    "print(ls)\n",
    "ls[3:6]=[\"hello\",\"how\",\"are\"]\n",
    "print(ls)\n"
   ]
  },
  {
   "cell_type": "code",
   "execution_count": 19,
   "id": "6cfdf76b-ebc2-42ce-809d-16f8a29f4568",
   "metadata": {},
   "outputs": [
    {
     "name": "stdout",
     "output_type": "stream",
     "text": [
      "[12, 23, 34, 45, 56, 67]\n",
      "[12, 23, 34, 56, 67]\n"
     ]
    }
   ],
   "source": [
    "#delete an element\n",
    "ls=[12,23,34,45,56,67]\n",
    "print(ls)\n",
    "del ls[3]\n",
    "print(ls)"
   ]
  },
  {
   "cell_type": "code",
   "execution_count": 23,
   "id": "19c3462c-56ad-4a09-8edd-f80cdd75b231",
   "metadata": {},
   "outputs": [
    {
     "name": "stdout",
     "output_type": "stream",
     "text": [
      "[12, 23, 34, 45, 56, 67]\n",
      "[12, 23, 56, 67]\n"
     ]
    }
   ],
   "source": [
    "ls=[12,23,34,45,56,67]\n",
    "print(ls)\n",
    "del ls[2:4]\n",
    "print(ls)"
   ]
  },
  {
   "cell_type": "code",
   "execution_count": 27,
   "id": "613e6253-4282-45e9-ab32-631ba7a8d6b9",
   "metadata": {},
   "outputs": [
    {
     "name": "stdout",
     "output_type": "stream",
     "text": [
      "[12, 23, 34, 45, 56, 67]\n",
      "[12, 23, 34, 56, 67]\n"
     ]
    }
   ],
   "source": [
    "#pop()\n",
    "#ls.pop()\n",
    "ls=[12,23,34,45,56,67]\n",
    "print(ls)\n",
    "ls.pop(3)\n",
    "print(ls)"
   ]
  },
  {
   "cell_type": "code",
   "execution_count": 28,
   "id": "bfab08e3-f6b8-42e7-b07a-928dcef42704",
   "metadata": {},
   "outputs": [
    {
     "name": "stdout",
     "output_type": "stream",
     "text": [
      "[12, 23, 34, 45, 56, 67]\n",
      "[12, 23, 34, 45, 56]\n"
     ]
    }
   ],
   "source": [
    "#pop last element delete\n",
    "ls=[12,23,34,45,56,67]\n",
    "print(ls)\n",
    "ls.pop()\n",
    "print(ls)"
   ]
  },
  {
   "cell_type": "code",
   "execution_count": 29,
   "id": "e6ec1bdf-9205-4785-852c-c2b11df1a1fa",
   "metadata": {},
   "outputs": [
    {
     "name": "stdout",
     "output_type": "stream",
     "text": [
      "[12, 23, 34, 45, 56, 67]\n",
      "[12, 23, 34, 56, 67]\n"
     ]
    }
   ],
   "source": [
    "ls=[12,23,34,45,56,67]\n",
    "print(ls)\n",
    "ls.remove(45)\n",
    "print(ls)"
   ]
  },
  {
   "cell_type": "code",
   "execution_count": null,
   "id": "fbf85142-a4cd-440f-abd7-30d15a630065",
   "metadata": {},
   "outputs": [],
   "source": []
  }
 ],
 "metadata": {
  "kernelspec": {
   "display_name": "Python 3 (ipykernel)",
   "language": "python",
   "name": "python3"
  },
  "language_info": {
   "codemirror_mode": {
    "name": "ipython",
    "version": 3
   },
   "file_extension": ".py",
   "mimetype": "text/x-python",
   "name": "python",
   "nbconvert_exporter": "python",
   "pygments_lexer": "ipython3",
   "version": "3.12.4"
  }
 },
 "nbformat": 4,
 "nbformat_minor": 5
}
